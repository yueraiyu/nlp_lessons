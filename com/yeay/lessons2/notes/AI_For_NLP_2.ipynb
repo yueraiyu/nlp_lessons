{
 "cells": [
  {
   "cell_type": "markdown",
   "metadata": {},
   "source": [
    "#### Aritificial Intelligence For NLP 02  \n",
    "\n",
    "* 人工智能（Peter Norving / Stuart J.Russell）\n",
    "* 计算机程序的构造与解释\n",
    "\n",
    "1. 基于规则\n",
    "2. 基于概率\n",
    "3. 基于搜索\n",
    "4. 机器学习\n",
    "\n",
    "##### 一、课程答疑  \n",
    "\n",
    "1. 语言模型\n",
    "    * out of vocabulary(OOV) : 概率为0的单词设置固定值\n",
    "    * language model - smooth ：平滑问题\n",
    "    \n",
    "##### 二、搜索  \n",
    "\n",
    "* Map Application\n",
    "* Decision Systen\n",
    "* Expert System  \n",
    "\n",
    "1. 决策问题（决策过程）Map / Routing\n",
    "    * 正则表达式\n",
    "    \n",
    "##### 三、机器学习\n",
    "* AI 的过程 ：\n",
    "    * 创造函数，产生特定输出\n",
    "    * 如何设计一个函数来达到指定目标？\n",
    "    * 问题越复杂，函数越难通过人工观察构建！\n",
    "    * 怎么让计算机生成函数？\n",
    "    * 基于数据驱动 - 分类垃圾邮件（贝叶斯）\n",
    "* 概率与机器学习区别\n",
    "    * 概率是一种方法，可以应用在任意场景\n",
    "    * 机器学习一种思考方法，可能使用概率也可能不使用概率\n",
    "    * 概率如何使用概率，机器学习如何基于已有数据生成函数"
   ]
  },
  {
   "cell_type": "code",
   "execution_count": 17,
   "metadata": {},
   "outputs": [],
   "source": [
    "coordination_source = \"\"\"\n",
    "{name:'兰州', geoCoord:[103.73, 36.03]},\n",
    "{name:'嘉峪关', geoCoord:[98.17, 39.47]},\n",
    "{name:'西宁', geoCoord:[101.74, 36.56]},\n",
    "{name:'成都', geoCoord:[104.06, 30.67]},\n",
    "{name:'石家庄', geoCoord:[114.48, 38.03]},\n",
    "{name:'拉萨', geoCoord:[102.73, 25.04]},\n",
    "{name:'贵阳', geoCoord:[106.71, 26.57]},\n",
    "{name:'武汉', geoCoord:[114.31, 30.52]},\n",
    "{name:'郑州', geoCoord:[113.65, 34.76]},\n",
    "{name:'济南', geoCoord:[117, 36.65]},\n",
    "{name:'南京', geoCoord:[118.78, 32.04]},\n",
    "{name:'合肥', geoCoord:[117.27, 31.86]},\n",
    "{name:'杭州', geoCoord:[120.19, 30.26]},\n",
    "{name:'南昌', geoCoord:[115.89, 28.68]},\n",
    "{name:'福州', geoCoord:[119.3, 26.08]},\n",
    "{name:'广州', geoCoord:[113.23, 23.16]},\n",
    "{name:'长沙', geoCoord:[113, 28.21]},\n",
    "//{name:'海口', geoCoord:[110.35, 20.02]},\n",
    "{name:'沈阳', geoCoord:[123.38, 41.8]},\n",
    "{name:'长春', geoCoord:[125.35, 43.88]},\n",
    "{name:'哈尔滨', geoCoord:[126.63, 45.75]},\n",
    "{name:'太原', geoCoord:[112.53, 37.87]},\n",
    "{name:'西安', geoCoord:[108.95, 34.27]},\n",
    "//{name:'台湾', geoCoord:[121.30, 25.03]},\n",
    "{name:'北京', geoCoord:[116.46, 39.92]},\n",
    "{name:'上海', geoCoord:[121.48, 31.22]},\n",
    "{name:'重庆', geoCoord:[106.54, 29.59]},\n",
    "{name:'天津', geoCoord:[117.2, 39.13]},\n",
    "{name:'呼和浩特', geoCoord:[111.65, 40.82]},\n",
    "{name:'南宁', geoCoord:[108.33, 22.84]},\n",
    "//{name:'西藏', geoCoord:[91.11, 29.97]},\n",
    "{name:'银川', geoCoord:[106.27, 38.47]},\n",
    "{name:'乌鲁木齐', geoCoord:[87.68, 43.77]},\n",
    "{name:'香港', geoCoord:[114.17, 22.28]},\n",
    "{name:'澳门', geoCoord:[113.54, 22.19]}\n",
    "\"\"\""
   ]
  },
  {
   "cell_type": "code",
   "execution_count": 12,
   "metadata": {},
   "outputs": [],
   "source": [
    "# Input ： String -> dict\n",
    "test_str = \"{name:'兰州', geoCoord:[103.73, 36.03]}\""
   ]
  },
  {
   "cell_type": "code",
   "execution_count": 2,
   "metadata": {},
   "outputs": [],
   "source": [
    "import re"
   ]
  },
  {
   "cell_type": "code",
   "execution_count": 15,
   "metadata": {},
   "outputs": [],
   "source": [
    "pattern = re.compile(r\"name:'(\\w+)',\\s+geoCoord:\\[(\\d+.\\d+),\\s(\\d+.\\d+)\\]\")"
   ]
  },
  {
   "cell_type": "code",
   "execution_count": 16,
   "metadata": {},
   "outputs": [
    {
     "data": {
      "text/plain": [
       "[('兰州', '103.73', '36.03')]"
      ]
     },
     "execution_count": 16,
     "metadata": {},
     "output_type": "execute_result"
    }
   ],
   "source": [
    "re.findall(pattern, test_str)"
   ]
  },
  {
   "cell_type": "code",
   "execution_count": 18,
   "metadata": {},
   "outputs": [],
   "source": [
    "city_location = {}"
   ]
  },
  {
   "cell_type": "code",
   "execution_count": 19,
   "metadata": {},
   "outputs": [
    {
     "name": "stdout",
     "output_type": "stream",
     "text": [
      "兰州 (103.73, 36.03)\n",
      "嘉峪关 (98.17, 39.47)\n",
      "西宁 (101.74, 36.56)\n",
      "成都 (104.06, 30.67)\n",
      "石家庄 (114.48, 38.03)\n",
      "拉萨 (102.73, 25.04)\n",
      "贵阳 (106.71, 26.57)\n",
      "武汉 (114.31, 30.52)\n",
      "郑州 (113.65, 34.76)\n",
      "济南 (117.0, 36.65)\n",
      "南京 (118.78, 32.04)\n",
      "合肥 (117.27, 31.86)\n",
      "杭州 (120.19, 30.26)\n",
      "南昌 (115.89, 28.68)\n",
      "福州 (119.3, 26.08)\n",
      "广州 (113.23, 23.16)\n",
      "长沙 (113.0, 28.21)\n",
      "沈阳 (123.38, 41.8)\n",
      "长春 (125.35, 43.88)\n",
      "哈尔滨 (126.63, 45.75)\n",
      "太原 (112.53, 37.87)\n",
      "西安 (108.95, 34.27)\n",
      "北京 (116.46, 39.92)\n",
      "上海 (121.48, 31.22)\n",
      "重庆 (106.54, 29.59)\n",
      "天津 (117.2, 39.13)\n",
      "呼和浩特 (111.65, 40.82)\n",
      "南宁 (108.33, 22.84)\n",
      "银川 (106.27, 38.47)\n",
      "乌鲁木齐 (87.68, 43.77)\n",
      "香港 (114.17, 22.28)\n",
      "澳门 (113.54, 22.19)\n"
     ]
    }
   ],
   "source": [
    "for line in coordination_source.split('\\n'):\n",
    "    if line.startswith('//'): continue\n",
    "    if line.strip() == '': continue\n",
    "    \n",
    "    city = re.findall(\"name:'(\\w+)'\", line)[0]\n",
    "    # python re referenes: https://docs.python.org/3/library/re.html\n",
    "    x_y = re.findall(\"Coord:\\[(\\d+.\\d+),\\s(\\d+.\\d+)\\]\", line)[0]\n",
    "    x_y = tuple(map(float, x_y))\n",
    "    city_location[city] = x_y\n",
    "    print(city, x_y)"
   ]
  },
  {
   "cell_type": "code",
   "execution_count": 20,
   "metadata": {},
   "outputs": [],
   "source": [
    "import math"
   ]
  },
  {
   "cell_type": "code",
   "execution_count": 21,
   "metadata": {},
   "outputs": [],
   "source": [
    "def geo_distance(origin, destination):\n",
    "    \"\"\"\n",
    "    Calculate the Haversine distance.\n",
    "\n",
    "    Parameters\n",
    "    ----------\n",
    "    origin : tuple of float\n",
    "        (lat, long)\n",
    "    destination : tuple of float\n",
    "        (lat, long)\n",
    "\n",
    "    Returns\n",
    "    -------\n",
    "    distance_in_km : float\n",
    "\n",
    "    Examples\n",
    "    --------\n",
    "    >>> origin = (48.1372, 11.5756)  # Munich\n",
    "    >>> destination = (52.5186, 13.4083)  # Berlin\n",
    "    >>> round(distance(origin, destination), 1)\n",
    "    504.2\n",
    "    \"\"\"\n",
    "    lat1, lon1 = origin\n",
    "    lat2, lon2 = destination\n",
    "    radius = 6371  # km\n",
    "\n",
    "    dlat = math.radians(lat2 - lat1)\n",
    "    dlon = math.radians(lon2 - lon1)\n",
    "    a = (math.sin(dlat / 2) * math.sin(dlat / 2) +\n",
    "         math.cos(math.radians(lat1)) * math.cos(math.radians(lat2)) *\n",
    "         math.sin(dlon / 2) * math.sin(dlon / 2))\n",
    "    c = 2 * math.atan2(math.sqrt(a), math.sqrt(1 - a))\n",
    "    d = radius * c\n",
    "\n",
    "    return d"
   ]
  },
  {
   "cell_type": "code",
   "execution_count": 22,
   "metadata": {},
   "outputs": [],
   "source": [
    "def get_city_distance(city1, city2):\n",
    "    return geo_distance(city_location[city1], city_location[city2])"
   ]
  },
  {
   "cell_type": "code",
   "execution_count": 23,
   "metadata": {},
   "outputs": [
    {
     "data": {
      "text/plain": [
       "153.5185697155768"
      ]
     },
     "execution_count": 23,
     "metadata": {},
     "output_type": "execute_result"
    }
   ],
   "source": [
    "get_city_distance('杭州', '上海')"
   ]
  },
  {
   "cell_type": "code",
   "execution_count": 24,
   "metadata": {},
   "outputs": [],
   "source": [
    "import networkx as nx"
   ]
  },
  {
   "cell_type": "code",
   "execution_count": 25,
   "metadata": {},
   "outputs": [],
   "source": [
    "cities = list(city_location.keys())\n",
    "city_graph = nx.Graph()\n",
    "city_graph.add_nodes_from(cities)"
   ]
  },
  {
   "cell_type": "code",
   "execution_count": 26,
   "metadata": {},
   "outputs": [],
   "source": [
    "%matplotlib inline\n",
    "import matplotlib.pyplot as plt"
   ]
  },
  {
   "cell_type": "code",
   "execution_count": 27,
   "metadata": {},
   "outputs": [],
   "source": [
    "plt.rcParams['font.sans-serif'] = ['SimHei']\n",
    "plt.rcParams['axes.unicode_minus'] = False"
   ]
  },
  {
   "cell_type": "code",
   "execution_count": 29,
   "metadata": {},
   "outputs": [
    {
     "data": {
      "image/png": "[encoded data removed]",
      "text/plain": [
       "<Figure size 432x288 with 1 Axes>"
      ]
     },
     "metadata": {},
     "output_type": "display_data"
    }
   ],
   "source": [
    "nx.draw(city_graph, city_location, with_labels=True, node_size=30)"
   ]
  },
  {
   "cell_type": "code",
   "execution_count": null,
   "metadata": {},
   "outputs": [],
   "source": [
    "# 定义各个点的链接关系"
   ]
  },
  {
   "cell_type": "code",
   "execution_count": null,
   "metadata": {},
   "outputs": [],
   "source": [
    "# 怎么获取量个点之间可行的路径\n",
    "# step 1 ：获取起点的所有连接点\n",
    "# step 2 ： 看起点下的连接点的所有连接点\n",
    "# step 3 ： 直至终点\n",
    "\n",
    "# 抽象过程 广度优先搜索 / 深度优先搜索 扩展顺序决定了深度 or 广度"
   ]
  },
  {
   "cell_type": "code",
   "execution_count": null,
   "metadata": {},
   "outputs": [],
   "source": [
    "# 广度优先"
   ]
  },
  {
   "cell_type": "code",
   "execution_count": null,
   "metadata": {},
   "outputs": [],
   "source": [
    "# 深度优先"
   ]
  },
  {
   "cell_type": "code",
   "execution_count": null,
   "metadata": {},
   "outputs": [],
   "source": [
    "# 生成函数？怎么生成？！！！\n",
    "# 如何评价生成的函数是否合理？！！！与实际值差值最小，所有点损失值之和最小即最合理\n",
    "# 正确的改变方向\n",
    "# 2nd-method ：监督让他变化 -> 监督学习"
   ]
  },
  {
   "cell_type": "code",
   "execution_count": null,
   "metadata": {},
   "outputs": [],
   "source": [
    "# 波士顿房价预测\n",
    "from sklearn.datasets import load_boston"
   ]
  }
 ],
 "metadata": {
  "kernelspec": {
   "display_name": "Python 3",
   "language": "python",
   "name": "python3"
  },
  "language_info": {
   "codemirror_mode": {
    "name": "ipython",
    "version": 3
   },
   "file_extension": ".py",
   "mimetype": "text/x-python",
   "name": "python",
   "nbconvert_exporter": "python",
   "pygments_lexer": "ipython3",
   "version": "3.7.1"
  }
 },
 "nbformat": 4,
 "nbformat_minor": 2
}
