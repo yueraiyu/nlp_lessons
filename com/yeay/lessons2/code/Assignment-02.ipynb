{
 "cells": [
  {
   "cell_type": "markdown",
   "metadata": {},
   "source": [
    "## Assignments for Week-02"
   ]
  },
  {
   "cell_type": "markdown",
   "metadata": {},
   "source": [
    "In this course, we learnt what's the search problem and what's the machine leanring. In this assignment, we need you do some more practice."
   ]
  },
  {
   "cell_type": "markdown",
   "metadata": {},
   "source": [
    "### 1. Re-code the house price machine learning\n",
    "\n",
    "###### 1. Random Choose Method to get optimal *k* and *b*\n",
    "###### 2.Supervised Direction to get optimal *k* and *b*\n",
    "###### 3.Gradient Descent to get optimal *k* and *b*\n",
    "###### 4. Try different Loss function and learning rate. \n",
    "\n",
    "For example, you can change the loss function: $Loss = \\frac{1}{n} sum({y_i - \\hat{y_i}})^2$ to $Loss = \\frac{1}{n} sum(|{y_i - \\hat{y_i}}|)$\n",
    "\n",
    "And you can change the learning rate and observe the performance."
   ]
  },
  {
   "cell_type": "markdown",
   "metadata": {},
   "source": [
    "##### 1. Random Choose Method to get optimal k* and *b"
   ]
  },
  {
   "cell_type": "code",
   "execution_count": 43,
   "metadata": {},
   "outputs": [],
   "source": [
    "%matplotlib inline\n",
    "import random"
   ]
  },
  {
   "cell_type": "code",
   "execution_count": 48,
   "metadata": {},
   "outputs": [],
   "source": [
    "from sklearn.datasets import load_boston\n",
    "data = load_boston()\n",
    "x, y = data['data'], data['target']\n",
    "# 房间数量\n",
    "x_rm = x[:, 5]"
   ]
  },
  {
   "cell_type": "code",
   "execution_count": 50,
   "metadata": {},
   "outputs": [],
   "source": [
    "def draw_rm_price() : \n",
    "    plt.scatter(x[:, 5], y)\n",
    "    \n",
    "def price(rm, k, b) : \n",
    "    return k * rm + b\n",
    "\n",
    "def loss(y, y_hat) : \n",
    "    return sum((y_i - y_hat_i) ** 2 for y_i, y_hat_i in zip(list(y), list(y_hat))) / len(list(y))"
   ]
  },
  {
   "cell_type": "code",
   "execution_count": 59,
   "metadata": {},
   "outputs": [],
   "source": [
    "# 1. Random Choose Method to get optimal k* and *b\n",
    "def gen_best_by_random(try_times) : \n",
    "    \"\"\"随机生成k、b，获取最接近的k、 b\"\"\"\n",
    "    min_loss = float('inf')\n",
    "    best_k, best_b = None, None\n",
    "    for i in range(try_times) : \n",
    "        k = random.randint(-100, 100)\n",
    "        b = random.randint(-100, 100)\n",
    "        price_rm = [price(rm, k, b) for rm in x_rm]\n",
    "\n",
    "        current_loss = loss(y, price_rm)\n",
    "        if current_loss < min_loss : \n",
    "            min_loss = current_loss\n",
    "            best_k = k\n",
    "            best_b = b\n",
    "#             print(\"times {}, min loss {}, best k {}, best b {}\".format(i, min_loss, best_k, best_b))\n",
    "            \n",
    "    print(\"min loss {}, best k {}, best b {}\".format(min_loss, best_k, best_b))\n",
    "\n",
    "    best_price_rm = [price(rm, best_k, best_b) for rm in x_rm]\n",
    "    draw_rm_price()\n",
    "    plt.scatter(x_rm, best_price_rm)"
   ]
  },
  {
   "cell_type": "code",
   "execution_count": 60,
   "metadata": {},
   "outputs": [
    {
     "name": "stdout",
     "output_type": "stream",
     "text": [
      "min loss 43.6065241245059, best k 9, best b -34\n"
     ]
    },
    {
     "data": {
      "image/png": "[encoded data removed]",
      "text/plain": [
       "<Figure size 432x288 with 1 Axes>"
      ]
     },
     "metadata": {
      "needs_background": "light"
     },
     "output_type": "display_data"
    }
   ],
   "source": [
    "gen_best_by_random(100000)"
   ]
  },
  {
   "cell_type": "markdown",
   "metadata": {},
   "source": [
    "##### 2.Supervised Direction to get optimal k* and *b"
   ]
  },
  {
   "cell_type": "code",
   "execution_count": 61,
   "metadata": {},
   "outputs": [],
   "source": [
    "def gen_best_by_supervised(try_times) : \n",
    "    \"\"\"控制变化方向 k、b的正负影响着误差的变化\"\"\"\n",
    "    min_loss = float('inf')\n",
    "    best_k, best_b = None, None\n",
    "    \n",
    "    \"\"\"初始化一组k、b\"\"\"\n",
    "    k = random.random() * 200 - 100\n",
    "    b = random.random() * 200 - 100\n",
    "    \"\"\"变化方向 分别为 k、b的变化方向\"\"\"\n",
    "    direction = [\n",
    "        (+1, +1),\n",
    "        (+1, -1),\n",
    "        (-1, +1),\n",
    "        (-1, -1)\n",
    "    ]\n",
    "    scanner = 0.1\n",
    "    \n",
    "    next_direction = random.choice(direction)\n",
    "    for i in range(try_times) : \n",
    "        k_direction, b_direction = next_direction\n",
    "        \n",
    "        if best_k == None : best_k = k\n",
    "        if best_b == None : best_b = b\n",
    "        \n",
    "        current_k, current_b = best_k + k_direction * scanner, best_b + b_direction * scanner\n",
    "        price_rm = [price(rm, current_k, current_b) for rm in x_rm]\n",
    "\n",
    "        current_loss = loss(y, price_rm)\n",
    "        if current_loss < min_loss : \n",
    "            min_loss = current_loss\n",
    "            best_k, best_b = current_k, current_b\n",
    "            next_direction = next_direction\n",
    "#             print(\"times {}, min loss {}, best k {}, best b {}\".format(i, min_loss, best_k, best_b))\n",
    "        else : \n",
    "            next_direction = random.choice(list(set(direction) - {next_direction}))\n",
    "\n",
    "    print(\"min loss {}, best k {}, best b {}\".format(min_loss, best_k, best_b))\n",
    "    \n",
    "    best_price_rm = [price(rm, best_k, best_b) for rm in x_rm]\n",
    "    draw_rm_price()\n",
    "    plt.scatter(x_rm, best_price_rm)"
   ]
  },
  {
   "cell_type": "code",
   "execution_count": 63,
   "metadata": {},
   "outputs": [
    {
     "name": "stdout",
     "output_type": "stream",
     "text": [
      "min loss 44.41802604398267, best k 7.886029045198331, best b -26.729922886162743\n"
     ]
    },
    {
     "data": {
      "image/png": "[encoded data removed]",
      "text/plain": [
       "<Figure size 432x288 with 1 Axes>"
      ]
     },
     "metadata": {
      "needs_background": "light"
     },
     "output_type": "display_data"
    }
   ],
   "source": [
    "gen_best_by_supervised(100000)"
   ]
  },
  {
   "cell_type": "markdown",
   "metadata": {},
   "source": [
    "##### 3.Gradient Descent to get optimal k* and *b\n",
    "\n",
    "* 梯度下降 ：怎么找到最低点？\n",
    "$$ loss() = sum((y - hat(y))^2) / n $$\n",
    "    "
   ]
  },
  {
   "cell_type": "code",
   "execution_count": null,
   "metadata": {},
   "outputs": [],
   "source": []
  },
  {
   "cell_type": "markdown",
   "metadata": {},
   "source": [
    "![](https://timgsa.baidu.com/timg?image&quality=80&size=b9999_10000&sec=1562414412237&di=8377c38d7b50c6f8d45b92ccc78dc1e7&imgtype=0&src=http%3A%2F%2Fmmbiz.qpic.cn%2Fmmbiz_jpg%2FlSyiavfm6wPgQDuDYa42IMgSkLOcPJU91RbkMibGy7VHLrhhNVLibTYk1iaLcmXKTdHc4icTDVia59QFXwqpW8cLflaw%2F640%3Fwx_fmt%3Djpeg)"
   ]
  },
  {
   "cell_type": "markdown",
   "metadata": {},
   "source": [
    "##### 4. Try different Loss function and learning rate."
   ]
  },
  {
   "cell_type": "code",
   "execution_count": null,
   "metadata": {},
   "outputs": [],
   "source": []
  },
  {
   "cell_type": "markdown",
   "metadata": {},
   "source": [
    "## 2. Answer following questions:\n",
    "\n",
    "\n",
    "###### 1. Why do we need machine learning methods instead of creating a complicated formula?\n"
   ]
  },
  {
   "cell_type": "markdown",
   "metadata": {},
   "source": [
    "Ans: 复杂的公式需要大量的工作，而且涵盖不全，而机器学习可以在已有基础上进行调整，更灵活。"
   ]
  },
  {
   "cell_type": "markdown",
   "metadata": {},
   "source": [
    "###### 2.  Wha't's the disadvantages of `the 1st Random Choosen` methods in our course? "
   ]
  },
  {
   "cell_type": "markdown",
   "metadata": {},
   "source": [
    "Ans: 计算量大，而且 k、b每次都是随机量，无法预知变化方向，所有结果都是未知的，可能最优的结果并非最好的结果。"
   ]
  },
  {
   "cell_type": "markdown",
   "metadata": {},
   "source": [
    "###### 3. Is the `2nd method supervised direction` better than 1st one?  What's the disadvantages of `the 2nd supversied directin` method? "
   ]
  },
  {
   "cell_type": "markdown",
   "metadata": {},
   "source": [
    "Ans: 相较于方法一，方法二通过控制变化方向，使误差能够朝指点变化方向持续变化，如果发现不对能够调整变化方向，而方法一整个过程都是不可控的随机的误差很大。方法二的缺点是仍然需要大量的计算、方向也不能保证一直在朝好的方向变化。"
   ]
  },
  {
   "cell_type": "markdown",
   "metadata": {},
   "source": [
    "###### 4. Why do we use `Derivative / Gredient` to fit a target function? "
   ]
  },
  {
   "cell_type": "markdown",
   "metadata": {},
   "source": [
    "Ans:"
   ]
  },
  {
   "cell_type": "markdown",
   "metadata": {},
   "source": [
    "###### 5. In the words 'Gredient Descent', what's the `Gredient` and what's the `Descent`?"
   ]
  },
  {
   "cell_type": "markdown",
   "metadata": {},
   "source": [
    "Ans:"
   ]
  },
  {
   "cell_type": "markdown",
   "metadata": {},
   "source": [
    "###### 6. What's the advantages of `the 3rd gradient descent method` compared to the previous methods?"
   ]
  },
  {
   "cell_type": "markdown",
   "metadata": {},
   "source": [
    "Ans:"
   ]
  },
  {
   "cell_type": "markdown",
   "metadata": {},
   "source": [
    "###### 7. Using the simple words to describe: What's the machine leanring."
   ]
  },
  {
   "cell_type": "markdown",
   "metadata": {},
   "source": [
    "Ans: 通过大量数据、重复运算，使计算机在运算过程中不断接近预期值并做到普遍适用，而且后续根据数据变化可以进行调整。"
   ]
  },
  {
   "cell_type": "markdown",
   "metadata": {},
   "source": [
    "## 3. Finish the search problem"
   ]
  },
  {
   "cell_type": "markdown",
   "metadata": {},
   "source": [
    "Please using the search policy to implement an agent. This agent receives two input, one is @param start station and the other is @param destination. Your agent should give the optimal route based on Beijing Subway system. "
   ]
  },
  {
   "cell_type": "markdown",
   "metadata": {},
   "source": [
    "> Deadline: 2019-July-13\n",
    "\n",
    ">Submit: Submit the source code and result to github. \n",
    "\n"
   ]
  },
  {
   "cell_type": "markdown",
   "metadata": {},
   "source": [
    "![](https://timgsa.baidu.com/timg?image&quality=80&size=b9999_10000&sec=1562414356407&di=b57814aafd215bb8b8d9d8cd37c573d6&imgtype=0&src=http%3A%2F%2Fcli.clewm.net%2Ffile%2F2015%2F03%2F24%2F174ed60082b8422ac0636cfd3efb9e7f.jpg)"
   ]
  },
  {
   "cell_type": "markdown",
   "metadata": {},
   "source": [
    "#### Dataflow: "
   ]
  },
  {
   "cell_type": "markdown",
   "metadata": {},
   "source": [
    "##### 1.\tGet data from web page.\n",
    "\n",
    "> a.\tGet web page source from: https://baike.baidu.com/item/%E5%8C%97%E4%BA%AC%E5%9C%B0%E9%93%81/408485\n",
    "\n",
    "> b.\tYou may need @package **requests**[https://2.python-requests.org/en/master/] page to get the response via url\n",
    "\n",
    "> c.\tYou may need save the page source to file system.\n",
    "\n",
    "> d.\tThe target of this step is to get station information of all the subway lines;\n",
    "\n",
    "> e.\tYou may need install @package beautiful soup[https://www.crummy.com/software/BeautifulSoup/bs4/doc/]  to get the url information, or just use > Regular Expression to get the url.  Our recommendation is that using the Regular Expression and BeautiflSoup both. \n",
    "\n",
    "> f.\tYou may need BFS to get all the related page url from one url. \n",
    "Question: Why do we use BFS to traverse web page (or someone said, build a web spider)?  Can DFS do this job? which is better? "
   ]
  },
  {
   "cell_type": "markdown",
   "metadata": {},
   "source": [
    "##### 2.\tPreprocessing data from page source.\n",
    "\n",
    "> a.\tBased on the page source gotten from url. You may need some more preprocessing of the page. \n",
    "\n",
    "> b.\tthe Regular Expression you may need to process the text information.\n",
    "\n",
    "> c.\tYou may need @package networkx, @package matplotlib to visualize data. \n",
    "\n",
    "> d.\tYou should build a dictionary or graph which could represent the connection information of Beijing subway routes. \n",
    "\n",
    "> e.\tYou may need the defaultdict, set data structures to implement this procedure. "
   ]
  },
  {
   "cell_type": "code",
   "execution_count": 64,
   "metadata": {},
   "outputs": [
    {
     "name": "stdout",
     "output_type": "stream",
     "text": [
      "Looking in indexes: http://mirrors.aliyun.com/pypi/simple/\r\n",
      "Requirement already satisfied: beautifulsoup4 in /Users/yeah/anaconda3/lib/python3.7/site-packages (4.6.3)\r\n"
     ]
    }
   ],
   "source": [
    "# 安装 Beautiful Soup\n",
    "!pip install beautifulsoup4"
   ]
  },
  {
   "cell_type": "code",
   "execution_count": 65,
   "metadata": {},
   "outputs": [],
   "source": [
    "# 北京地铁1号线 北京地铁1号线车站列表/北京地铁1号线首末车时刻表\n",
    "# 北京地铁2号线 北京地铁2号线车站列表/北京地铁2号线首末车时间表\n",
    "# 北京地铁4号线 北京地铁4号线车站列表/北京地铁4号线首末班车时刻表\n",
    "# 北京地铁5号线 北京地铁5号线车站列表/5号线首末车时刻表\n",
    "# 北京地铁6号线 北京地铁6号线车站列表/6号线首末车时刻表\n",
    "# 北京地铁7号线 北京地铁7号线车站列表/7号线首末车时刻表\n",
    "# 北京地铁8号线（北段）北京地铁8号线车站列表/北京地铁8号线（北段）首末车时刻表\n",
    "# 北京地铁8号线（南段）北京地铁8号线车站列表/北京地铁8号线（南段）首末车时刻表\n",
    "# 北京地铁9号线 北京地铁9号线车站列表/9号线首末车时刻表\n",
    "# 北京地铁10号线 北京地铁10号线车站列表/10号线首末车时刻表\n",
    "# 北京地铁13号线 车站列表/13号线首末车时刻表\n",
    "# 北京地铁14号线（西段）北京地铁14号线车站列表/14号线（西段）首末车时刻表\n",
    "# 北京地铁14号线（东段）北京地铁14号线车站列表/14号线东段（含中段）首末车时刻表\n",
    "# 北京地铁15号线 北京地铁15号线车站列表/北京地铁15号线首末车时刻表\n",
    "# 北京地铁16号线 车站列表/首末车时间\n",
    "# 北京地铁八通线 北京地铁八通线车站列表/八通线首末车时刻表\n",
    "# 北京地铁昌平线 北京地铁昌平线车站列表/昌平线首末车时刻表\n",
    "# 北京地铁亦庄线 车站信息\n",
    "# 北京地铁房山线 北京地铁房山线车站列表/房山线首末车时刻表\n",
    "# 北京地铁S1线 车站列表/北京地铁S1线首末车时刻表\n",
    "# 北京地铁燕房线 车站列表/运营时刻"
   ]
  },
  {
   "cell_type": "code",
   "execution_count": 82,
   "metadata": {},
   "outputs": [],
   "source": [
    "# spider\n",
    "import requests\n",
    "from bs4 import BeautifulSoup\n",
    "import re\n",
    "import networkx as nx\n",
    "import matplotlib.pyplot as plt\n",
    "\n",
    "#站点类 \n",
    "class Station :\n",
    "    \"\"\"\n",
    "    name : 站点名\n",
    "    line_lable : 所属线\n",
    "    next_stations : 连接的站点\n",
    "    \"\"\"\n",
    "    def __init__(self, name=\"\", line_lable=\"\", next_stations = []):\n",
    "        self.name, self.line_lable, self.next_stations = name, line_lable, next_stations\n",
    "        \n",
    "    def setName(self, name=\"\") : self.name = name\n",
    "    def getName(self) : return self.name\n",
    "\n",
    "    def setLineLable(self, line_lable=\"\") : self.line_lable = line_lable\n",
    "    def getLineLable(self) : return self.line_lable \n",
    "    \n",
    "    def setNextStations(self, next_stations = []) : self.next_stations = next_stations\n",
    "    def getNextStations(self) : return self.next_stations    \n",
    "    \n",
    "    def to_str(self) : \n",
    "        return \"name = \" + self.name + \",line_lable = \" + self.line_lable + \",next_stations = \" + str(self.next_stations)\n",
    "    \n",
    "# 请求头\n",
    "def headers() : \n",
    "    header = {\n",
    "     \"User-Agent\": \"Mozilla/5.0 (Windows NT 6.1; WOW64) AppleWebKit/537.36 (KHTML, like Gecko) Chrome/53.0.2785.89 \"\n",
    "     \"Safari/537.36\"\n",
    "     }\n",
    "    return header\n",
    "\n",
    "# 站点url\n",
    "def source() : \n",
    "    return 'https://baike.baidu.com'\n",
    "\n",
    "# 详情url\n",
    "def contact_item(item) : \n",
    "    return source() + item\n",
    "\n",
    "# 爬取源码\n",
    "def spider(url, encode) : \n",
    "    header = headers()\n",
    "    res = requests.get(url,  headers=header)\n",
    "    res.encoding = encode\n",
    "    soup = BeautifulSoup(res.text)\n",
    "    return soup\n",
    "\n",
    "# 地铁线 + 链接\n",
    "def line_and_href(tables) : \n",
    "    lfs = {}\n",
    "    for t in tables : \n",
    "        tds = t.find_all('td')\n",
    "        for td in tds : \n",
    "            if re.findall(r'北京地铁.*线', str(td)) : \n",
    "                lfs[td.get_text()] = td.a.get('href')\n",
    "    return lfs\n",
    "\n",
    "# 获取所有地铁线及链接\n",
    "def all_lfs(soup) : \n",
    "    tables = soup.find_all('table')\n",
    "    pat = r\"<tr><th.*>线路</th><th.*>起止点</th><th.*>首班</th><th>末班</th></tr><tr>\"\n",
    "    mts = [t for t in tables if re.findall(pat, str(t))]\n",
    "    lfs = line_and_href(mts)\n",
    "    return lfs\n",
    "\n",
    "def stations(lfs) : \n",
    "    # 地铁路线\n",
    "    lines = {}\n",
    "    \n",
    "    for k, v in lfs.items() : \n",
    "        preferred_pat = r\"\" + str(k[4:] + \".{0,6}首末班?车时[刻|间]表?\").replace('(', '\\(?').replace('（', '（?').replace(')', '\\)?').replace('）', '）?')\n",
    "        print(\"spider \" + k)\n",
    "        optional_pat = r\"车站信息\"\n",
    "        special_pat = r\"<tr><th.*>车?站?编号</th><th.*>车站名称.*</th>.*<tr>\"\n",
    "        soup = spider(contact_item(v), 'utf-8')\n",
    "        tables = soup.find_all('table')\n",
    "        \n",
    "        tagets = [tab for tab in tables if re.findall(preferred_pat, str(tab))]\n",
    "        if  len(tagets) > 0 :\n",
    "            print(preferred_pat)\n",
    "            trs = tagets[0].find_all('tr')\n",
    "            stations = [list(tr.children)[0].get_text() for tr in trs[1:] if list(tr.children) and (not re.findall(r\"参考|车站|时间|方向|全程|(备?注)|(\\d{4}年\\d{1,2}月)\", str(tr)))]\n",
    "            if re.findall(r\"内|外环\", str(trs[0])) : \n",
    "                print(\"环线\")\n",
    "                stations.append(stations[0])\n",
    "            lines[k] = stations\n",
    "            continue\n",
    "            \n",
    "        tagets = [tab for tab in tables if re.findall(optional_pat, str(tab))]\n",
    "        if  len(tagets) > 0 : \n",
    "            print(optional_pat)\n",
    "            trs = tagets[0].find_all('tr')\n",
    "            stations = [list(tr.children)[1].get_text().replace(\"\\n\", \"\") for tr in trs[1:] if list(tr.children) and (not re.findall(r\"参考|时间|方向|全程|(备?注)|(\\d{4}年\\d{1,2}月)\", str(tr)))]\n",
    "            if re.findall(r\"内|外环\", str(trs[0])) : \n",
    "                print(\"环线\")\n",
    "                stations.append(stations[0])\n",
    "            lines[k] = stations\n",
    "            continue\n",
    "            \n",
    "        tagets = [tab for tab in tables if re.findall(special_pat, str(tab))]\n",
    "        if  len(tagets) > 0 : \n",
    "            print(special_pat)\n",
    "            trs = tagets[0].find_all('tr')\n",
    "            stations = [list(tr.children)[1].get_text().replace(\"\\n\", \"\") for tr in trs[1:] if list(tr.children) and (not re.findall(r\"参考|时间|方向|全程|(备?注)\", str(tr)))]\n",
    "            if re.findall(r\"[内外]环\", str(trs[0])) : \n",
    "                print(\"环线\")\n",
    "                stations.append(stations[0])\n",
    "            lines[k] = stations\n",
    "            continue     \n",
    "\n",
    "    return lines\n",
    "            \n",
    "# 生成地铁图\n",
    "def create_line_graph(lines) : \n",
    "    gragh = {}\n",
    "    # 生成所有站点信息    \n",
    "    for line_lable,stations in lines.items() : \n",
    "        for station in stations : \n",
    "            s = Station(name=station, line_lable=line_lable, next_stations = [])\n",
    "            if not station in gragh : \n",
    "                gragh[station] = s\n",
    "    \n",
    "    # 关联所有相邻站点\n",
    "    for line_lable,stations in lines.items() : \n",
    "        for i, station in enumerate(stations) : \n",
    "            current_ = gragh[station]\n",
    "            if i != 0 or i != len(stations) - 1 : \n",
    "                if i - 1 >= 0 : \n",
    "                    pre_station = stations[i - 1]\n",
    "                    current_.setNextStations(current_.getNextStations() + [pre_station])\n",
    "                \n",
    "                if i + 1 <= len(stations) - 1 : \n",
    "                    next_station = stations[i + 1]\n",
    "                    current_.setNextStations(current_.getNextStations() + [next_station])\n",
    "\n",
    "    return gragh        \n",
    "\n",
    "# 路线查询\n",
    "def search(start, destination, gragh):\n",
    "    pathes = [[start]]\n",
    "    visitied = set()\n",
    "    \n",
    "    while pathes: # if we find existing pathes\n",
    "        path = pathes.pop(0)\n",
    "        froninter = path[-1]\n",
    "\n",
    "        if froninter in visitied: continue\n",
    "            \n",
    "        successors = gragh[froninter].getNextStations()\n",
    "        \n",
    "        for station in successors:\n",
    "            if station in path: continue  # eliminate loop\n",
    "                \n",
    "            new_path = path + [station]\n",
    "            \n",
    "            pathes.append(new_path)\n",
    "            \n",
    "            if station == destination: return new_path\n",
    "        \n",
    "        visitied.add(froninter)\n",
    "\n",
    "# 打印路线\n",
    "def print_line(line, graph) : \n",
    "    print(\" ---> \".join([station + \"🚇(\" + graph[station].getLineLable() + \")\" for station in line]))"
   ]
  },
  {
   "cell_type": "code",
   "execution_count": 67,
   "metadata": {},
   "outputs": [],
   "source": [
    "soup = spider(contact_item('/item/北京地铁/408485'), 'utf-8')"
   ]
  },
  {
   "cell_type": "code",
   "execution_count": 68,
   "metadata": {},
   "outputs": [],
   "source": [
    "lfs = all_lfs(soup)"
   ]
  },
  {
   "cell_type": "code",
   "execution_count": 69,
   "metadata": {},
   "outputs": [
    {
     "name": "stdout",
     "output_type": "stream",
     "text": [
      "spider 北京地铁1号线\n",
      "1号线.{0,6}首末班?车时[刻|间]表?\n",
      "spider 北京地铁2号线\n",
      "2号线.{0,6}首末班?车时[刻|间]表?\n",
      "环线\n",
      "spider 北京地铁4号线\n",
      "4号线.{0,6}首末班?车时[刻|间]表?\n",
      "spider 北京地铁5号线\n",
      "5号线.{0,6}首末班?车时[刻|间]表?\n",
      "spider 北京地铁6号线\n",
      "6号线.{0,6}首末班?车时[刻|间]表?\n",
      "spider 北京地铁7号线\n",
      "7号线.{0,6}首末班?车时[刻|间]表?\n",
      "spider 北京地铁8号线（北段）\n",
      "8号线（?北段）?.{0,6}首末班?车时[刻|间]表?\n",
      "spider 北京地铁8号线（南段）\n",
      "8号线（?南段）?.{0,6}首末班?车时[刻|间]表?\n",
      "spider 北京地铁9号线\n",
      "9号线.{0,6}首末班?车时[刻|间]表?\n",
      "spider 北京地铁10号线\n",
      "10号线.{0,6}首末班?车时[刻|间]表?\n",
      "环线\n",
      "spider 北京地铁13号线\n",
      "13号线.{0,6}首末班?车时[刻|间]表?\n",
      "spider 北京地铁14号线（西段）\n",
      "14号线（?西段）?.{0,6}首末班?车时[刻|间]表?\n",
      "spider 北京地铁14号线（东段）\n",
      "14号线（?东段）?.{0,6}首末班?车时[刻|间]表?\n",
      "spider 北京地铁15号线\n",
      "15号线.{0,6}首末班?车时[刻|间]表?\n",
      "spider 北京地铁16号线\n",
      "<tr><th.*>车?站?编号</th><th.*>车站名称.*</th>.*<tr>\n",
      "spider 北京地铁八通线\n",
      "八通线.{0,6}首末班?车时[刻|间]表?\n",
      "spider 北京地铁昌平线\n",
      "昌平线.{0,6}首末班?车时[刻|间]表?\n",
      "spider 北京地铁亦庄线\n",
      "车站信息\n",
      "spider 北京地铁房山线\n",
      "房山线.{0,6}首末班?车时[刻|间]表?\n",
      "spider 北京地铁S1线\n",
      "S1线.{0,6}首末班?车时[刻|间]表?\n",
      "spider 北京地铁燕房线\n",
      "<tr><th.*>车?站?编号</th><th.*>车站名称.*</th>.*<tr>\n"
     ]
    }
   ],
   "source": [
    "lines = stations(lfs)"
   ]
  },
  {
   "cell_type": "code",
   "execution_count": 70,
   "metadata": {},
   "outputs": [
    {
     "data": {
      "text/plain": [
       "{'北京地铁1号线': ['苹果园',\n",
       "  '古城',\n",
       "  '八角游乐园',\n",
       "  '八宝山',\n",
       "  '玉泉路',\n",
       "  '五棵松',\n",
       "  '万寿路',\n",
       "  '公主坟',\n",
       "  '军事博物馆',\n",
       "  '木樨地',\n",
       "  '南礼士路',\n",
       "  '复兴门',\n",
       "  '西单',\n",
       "  '天安门西',\n",
       "  '天安门东',\n",
       "  '王府井',\n",
       "  '东单',\n",
       "  '建国门',\n",
       "  '永安里',\n",
       "  '国贸',\n",
       "  '大望路',\n",
       "  '四惠',\n",
       "  '四惠东'],\n",
       " '北京地铁2号线': ['西直门',\n",
       "  '积水潭',\n",
       "  '鼓楼大街',\n",
       "  '安定门',\n",
       "  '雍和宫',\n",
       "  '东直门',\n",
       "  '东四十条',\n",
       "  '朝阳门',\n",
       "  '建国门',\n",
       "  '北京站',\n",
       "  '崇文门',\n",
       "  '前门',\n",
       "  '和平门',\n",
       "  '宣武门',\n",
       "  '长椿街',\n",
       "  '复兴门',\n",
       "  '阜成门',\n",
       "  '车公庄',\n",
       "  '西直门'],\n",
       " '北京地铁4号线': ['安河桥北',\n",
       "  '北宫门',\n",
       "  '西苑',\n",
       "  '圆明园',\n",
       "  '北京大学东门',\n",
       "  '中关村',\n",
       "  '海淀黄庄',\n",
       "  '人民大学',\n",
       "  '魏公村',\n",
       "  '国家图书馆',\n",
       "  '动物园',\n",
       "  '西直门',\n",
       "  '新街口',\n",
       "  '平安里',\n",
       "  '西四',\n",
       "  '灵境胡同',\n",
       "  '西单',\n",
       "  '宣武门',\n",
       "  '菜市口',\n",
       "  '陶然亭',\n",
       "  '北京南站',\n",
       "  '马家堡',\n",
       "  '角门西',\n",
       "  '公益西桥'],\n",
       " '北京地铁5号线': ['宋家庄',\n",
       "  '刘家窑',\n",
       "  '蒲黄榆',\n",
       "  '天坛东门',\n",
       "  '磁器口',\n",
       "  '崇文门',\n",
       "  '东单',\n",
       "  '灯市口',\n",
       "  '东四',\n",
       "  '张自忠路',\n",
       "  '北新桥',\n",
       "  '雍和宫',\n",
       "  '和平里北街',\n",
       "  '和平西桥',\n",
       "  '惠新西街南口',\n",
       "  '惠新西街北口',\n",
       "  '大屯路东',\n",
       "  '北苑路北',\n",
       "  '立水桥南',\n",
       "  '立水桥',\n",
       "  '天通苑南',\n",
       "  '天通苑',\n",
       "  '天通苑北'],\n",
       " '北京地铁6号线': ['金安桥',\n",
       "  '苹果园',\n",
       "  '杨庄',\n",
       "  '西黄村',\n",
       "  '廖公庄',\n",
       "  '田村',\n",
       "  '海淀五路居',\n",
       "  '慈寿寺',\n",
       "  '花园桥',\n",
       "  '白石桥南',\n",
       "  '车公庄西',\n",
       "  '车公庄',\n",
       "  '平安里',\n",
       "  '北海北',\n",
       "  '南锣鼓巷',\n",
       "  '东四',\n",
       "  '朝阳门',\n",
       "  '东大桥',\n",
       "  '呼家楼',\n",
       "  '金台路',\n",
       "  '十里堡',\n",
       "  '青年路',\n",
       "  '褡裢坡',\n",
       "  '黄渠',\n",
       "  '常营',\n",
       "  '草房',\n",
       "  '物资学院路',\n",
       "  '通州北关',\n",
       "  '通运门',\n",
       "  '北运河西',\n",
       "  '北运河东',\n",
       "  '郝家府',\n",
       "  '东夏园',\n",
       "  '潞城'],\n",
       " '北京地铁7号线': ['北京西站',\n",
       "  '湾子',\n",
       "  '达官营',\n",
       "  '广安门内',\n",
       "  '菜市口',\n",
       "  '虎坊桥',\n",
       "  '珠市口',\n",
       "  '桥湾',\n",
       "  '磁器口',\n",
       "  '广渠门内',\n",
       "  '广渠门外',\n",
       "  '双井',\n",
       "  '九龙山',\n",
       "  '大郊亭',\n",
       "  '百子湾',\n",
       "  '化工',\n",
       "  '南楼梓庄',\n",
       "  '欢乐谷景区',\n",
       "  '垡头',\n",
       "  '双合',\n",
       "  '焦化厂'],\n",
       " '北京地铁8号线（北段）': ['朱辛庄',\n",
       "  '育知路',\n",
       "  '平西府',\n",
       "  '回龙观东大街',\n",
       "  '霍营',\n",
       "  '育新',\n",
       "  '西小口',\n",
       "  '永泰庄',\n",
       "  '林萃桥',\n",
       "  '森林公园南门',\n",
       "  '奥林匹克公园',\n",
       "  '奥体中心',\n",
       "  '北土城',\n",
       "  '安华桥',\n",
       "  '安德里北街',\n",
       "  '鼓楼大街',\n",
       "  '什刹海',\n",
       "  '南锣鼓巷',\n",
       "  '中国美术馆'],\n",
       " '北京地铁8号线（南段）': ['瀛海',\n",
       "  '德茂',\n",
       "  '五福堂',\n",
       "  '火箭万源',\n",
       "  '东高地',\n",
       "  '和义',\n",
       "  '大红门南',\n",
       "  '大红门',\n",
       "  '海户屯',\n",
       "  '木樨园',\n",
       "  '永定门外',\n",
       "  '天桥',\n",
       "  '珠市口'],\n",
       " '北京地铁9号线': ['郭公庄',\n",
       "  '丰台科技园',\n",
       "  '科怡路',\n",
       "  '丰台南路',\n",
       "  '丰台东大街',\n",
       "  '七里庄',\n",
       "  '六里桥',\n",
       "  '六里桥东',\n",
       "  '北京西站',\n",
       "  '军事博物馆',\n",
       "  '白堆子',\n",
       "  '白石桥南',\n",
       "  '国家图书馆'],\n",
       " '北京地铁10号线': ['巴沟',\n",
       "  '苏州街',\n",
       "  '海淀黄庄',\n",
       "  '知春里',\n",
       "  '知春路',\n",
       "  '西土城',\n",
       "  '牡丹园',\n",
       "  '健德门',\n",
       "  '北土城',\n",
       "  '安贞门',\n",
       "  '惠新西街南口',\n",
       "  '芍药居',\n",
       "  '太阳宫',\n",
       "  '三元桥',\n",
       "  '亮马桥',\n",
       "  '农业展览馆',\n",
       "  '团结湖',\n",
       "  '呼家楼',\n",
       "  '金台夕照',\n",
       "  '国贸',\n",
       "  '双井',\n",
       "  '劲松',\n",
       "  '潘家园',\n",
       "  '十里河',\n",
       "  '分钟寺',\n",
       "  '成寿寺',\n",
       "  '宋家庄',\n",
       "  '石榴庄',\n",
       "  '大红门',\n",
       "  '角门东',\n",
       "  '角门西',\n",
       "  '草桥',\n",
       "  '纪家庙',\n",
       "  '首经贸',\n",
       "  '丰台站',\n",
       "  '泥洼',\n",
       "  '西局',\n",
       "  '六里桥',\n",
       "  '莲花桥',\n",
       "  '公主坟',\n",
       "  '西钓鱼台',\n",
       "  '慈寿寺',\n",
       "  '车道沟',\n",
       "  '长春桥',\n",
       "  '火器营',\n",
       "  '巴沟'],\n",
       " '北京地铁13号线': ['西直门',\n",
       "  '明光桥西',\n",
       "  '大钟寺',\n",
       "  '知春路',\n",
       "  '五道口',\n",
       "  '清华东路西口',\n",
       "  '上地',\n",
       "  '清河站',\n",
       "  '西二旗',\n",
       "  '龙泽',\n",
       "  '回龙观',\n",
       "  '霍营',\n",
       "  '建材城东路',\n",
       "  '立水桥',\n",
       "  '北苑',\n",
       "  '来广营西',\n",
       "  '望京西',\n",
       "  '望和桥',\n",
       "  '芍药居',\n",
       "  '光熙门',\n",
       "  '柳芳',\n",
       "  '东直门'],\n",
       " '北京地铁14号线（西段）': ['张郭庄', '园博园', '大瓦窑', '郭庄子', '大井', '七里庄', '西局'],\n",
       " '北京地铁14号线（东段）': ['北京南站',\n",
       "  '永定门外',\n",
       "  '景泰',\n",
       "  '蒲黄榆',\n",
       "  '方庄',\n",
       "  '十里河',\n",
       "  '北工大西门',\n",
       "  '九龙山',\n",
       "  '大望路',\n",
       "  '金台路',\n",
       "  '朝阳公园',\n",
       "  '枣营',\n",
       "  '东风北桥',\n",
       "  '将台',\n",
       "  '望京南',\n",
       "  '阜通',\n",
       "  '望京',\n",
       "  '东湖渠',\n",
       "  '来广营',\n",
       "  '善各庄'],\n",
       " '北京地铁15号线': ['俸伯',\n",
       "  '顺义',\n",
       "  '石门',\n",
       "  '南法信',\n",
       "  '后沙峪',\n",
       "  '花梨坎',\n",
       "  '国展',\n",
       "  '孙河',\n",
       "  '马泉营',\n",
       "  '崔各庄',\n",
       "  '望京东',\n",
       "  '望京',\n",
       "  '望京西',\n",
       "  '关庄',\n",
       "  '大屯路东',\n",
       "  '安立路',\n",
       "  '奥林匹克公园',\n",
       "  '北沙滩',\n",
       "  '六道口',\n",
       "  '清华东路西口'],\n",
       " '北京地铁16号线': ['宛平站',\n",
       "  '榆树庄站',\n",
       "  '看丹站',\n",
       "  '富丰桥站',\n",
       "  '丰台南路站',\n",
       "  '丰台站',\n",
       "  '丰益桥南站',\n",
       "  '丽泽商务区站',\n",
       "  '红莲南里站',\n",
       "  '达官营站',\n",
       "  '木樨地站',\n",
       "  '玉渊潭东门站',\n",
       "  '甘家口站',\n",
       "  '二里沟站',\n",
       "  '国家图书馆站',\n",
       "  '万寿寺站',\n",
       "  '苏州桥站',\n",
       "  '苏州街站',\n",
       "  '万泉河桥站',\n",
       "  '西苑站',\n",
       "  '农大南路站',\n",
       "  '马连洼站',\n",
       "  '西北旺站',\n",
       "  '永丰南站',\n",
       "  '永丰站',\n",
       "  '屯佃站',\n",
       "  '稻香湖路站',\n",
       "  '温阳路站',\n",
       "  '北安河站'],\n",
       " '北京地铁八通线': ['四惠',\n",
       "  '四惠东',\n",
       "  '高碑店',\n",
       "  '传媒大学',\n",
       "  '双桥',\n",
       "  '管庄',\n",
       "  '八里桥',\n",
       "  '通州北苑',\n",
       "  '果园',\n",
       "  '九棵树',\n",
       "  '梨园',\n",
       "  '临河里',\n",
       "  '土桥'],\n",
       " '北京地铁昌平线': ['昌平西山口',\n",
       "  '十三陵景区',\n",
       "  '昌平',\n",
       "  '昌平东关',\n",
       "  '北邵洼',\n",
       "  '南邵',\n",
       "  '沙河高教园',\n",
       "  '沙河',\n",
       "  '巩华城',\n",
       "  '朱辛庄',\n",
       "  '生命科学园',\n",
       "  '西二旗'],\n",
       " '北京地铁亦庄线': ['宋家庄站',\n",
       "  '肖村站',\n",
       "  '小红门站',\n",
       "  '旧宫站',\n",
       "  '亦庄桥站',\n",
       "  '亦庄文化园站',\n",
       "  '万源街站',\n",
       "  '荣京东街站',\n",
       "  '荣昌东街站',\n",
       "  '经海路站',\n",
       "  '次渠南站',\n",
       "  '次渠站',\n",
       "  '亦庄火车站'],\n",
       " '北京地铁房山线': ['郭公庄',\n",
       "  '大葆台',\n",
       "  '稻田',\n",
       "  '长阳',\n",
       "  '篱笆房',\n",
       "  '广阳城',\n",
       "  '良乡大学城北',\n",
       "  '良乡大学城',\n",
       "  '良乡大学城西',\n",
       "  '良乡南关',\n",
       "  '苏庄',\n",
       "  '阎村东'],\n",
       " '北京地铁S1线': ['苹果园站', '金安桥站', '四道桥站', '桥户营站', '上岸站', '栗园庄站', '小园站', '石厂站'],\n",
       " '北京地铁燕房线': ['阎村东站',\n",
       "  '紫草坞站',\n",
       "  '阎村站',\n",
       "  '星城站',\n",
       "  '大石河东站',\n",
       "  '马各庄站',\n",
       "  '饶乐府站',\n",
       "  '房山城关站',\n",
       "  '燕山站',\n",
       "  '老城区站',\n",
       "  '顾册站',\n",
       "  '周口店镇站']}"
      ]
     },
     "execution_count": 70,
     "metadata": {},
     "output_type": "execute_result"
    }
   ],
   "source": [
    "lines"
   ]
  },
  {
   "cell_type": "code",
   "execution_count": 91,
   "metadata": {},
   "outputs": [],
   "source": [
    "line_graph = create_line_graph(lines)"
   ]
  },
  {
   "cell_type": "code",
   "execution_count": 92,
   "metadata": {},
   "outputs": [
    {
     "data": {
      "text/plain": [
       "{'苹果园': <__main__.Station at 0xa232a2668>,\n",
       " '古城': <__main__.Station at 0xa23296c18>,\n",
       " '八角游乐园': <__main__.Station at 0xa23296c50>,\n",
       " '八宝山': <__main__.Station at 0xa235dfba8>,\n",
       " '玉泉路': <__main__.Station at 0xa235dfd30>,\n",
       " '五棵松': <__main__.Station at 0xa235dfb70>,\n",
       " '万寿路': <__main__.Station at 0xa235dfc88>,\n",
       " '公主坟': <__main__.Station at 0xa235df9e8>,\n",
       " '军事博物馆': <__main__.Station at 0xa235dff98>,\n",
       " '木樨地': <__main__.Station at 0x1a262ee6d8>,\n",
       " '南礼士路': <__main__.Station at 0x1a262ee1d0>,\n",
       " '复兴门': <__main__.Station at 0xa23508e48>,\n",
       " '西单': <__main__.Station at 0xa23508e80>,\n",
       " '天安门西': <__main__.Station at 0xa235cd3c8>,\n",
       " '天安门东': <__main__.Station at 0x1a262a01d0>,\n",
       " '王府井': <__main__.Station at 0x1a262a0080>,\n",
       " '东单': <__main__.Station at 0x1a262a0b38>,\n",
       " '建国门': <__main__.Station at 0x1a262a0a90>,\n",
       " '永安里': <__main__.Station at 0x1a262a0898>,\n",
       " '国贸': <__main__.Station at 0x1a262a0978>,\n",
       " '大望路': <__main__.Station at 0x1a262a0c50>,\n",
       " '四惠': <__main__.Station at 0x1a262a07f0>,\n",
       " '四惠东': <__main__.Station at 0x1a262a09b0>,\n",
       " '西直门': <__main__.Station at 0x1a262a0b70>,\n",
       " '积水潭': <__main__.Station at 0x1a262a0b00>,\n",
       " '鼓楼大街': <__main__.Station at 0x1a262a0a58>,\n",
       " '安定门': <__main__.Station at 0x1a262a0a20>,\n",
       " '雍和宫': <__main__.Station at 0x1a262a0c88>,\n",
       " '东直门': <__main__.Station at 0x1a262a07b8>,\n",
       " '东四十条': <__main__.Station at 0x1a262a05f8>,\n",
       " '朝阳门': <__main__.Station at 0x1a262a0588>,\n",
       " '北京站': <__main__.Station at 0x1a262979b0>,\n",
       " '崇文门': <__main__.Station at 0x1a26297208>,\n",
       " '前门': <__main__.Station at 0x1a262979e8>,\n",
       " '和平门': <__main__.Station at 0x1a26297a20>,\n",
       " '宣武门': <__main__.Station at 0x1a26297a58>,\n",
       " '长椿街': <__main__.Station at 0x1a26297a90>,\n",
       " '阜成门': <__main__.Station at 0x1a26297b00>,\n",
       " '车公庄': <__main__.Station at 0x1a26297ac8>,\n",
       " '安河桥北': <__main__.Station at 0x1a26297b70>,\n",
       " '北宫门': <__main__.Station at 0x1a26297b38>,\n",
       " '西苑': <__main__.Station at 0x1a26297ba8>,\n",
       " '圆明园': <__main__.Station at 0x1a26297be0>,\n",
       " '北京大学东门': <__main__.Station at 0x1a26297c18>,\n",
       " '中关村': <__main__.Station at 0x1a26297c50>,\n",
       " '海淀黄庄': <__main__.Station at 0x1a26297e48>,\n",
       " '人民大学': <__main__.Station at 0x1a26297e80>,\n",
       " '魏公村': <__main__.Station at 0x1a26297eb8>,\n",
       " '国家图书馆': <__main__.Station at 0x1a26297ef0>,\n",
       " '动物园': <__main__.Station at 0x1a26297f28>,\n",
       " '新街口': <__main__.Station at 0x1a26297f98>,\n",
       " '平安里': <__main__.Station at 0x1a26297f60>,\n",
       " '西四': <__main__.Station at 0x1a26297fd0>,\n",
       " '灵境胡同': <__main__.Station at 0x1a262974e0>,\n",
       " '菜市口': <__main__.Station at 0x1a26297518>,\n",
       " '陶然亭': <__main__.Station at 0x1a26297550>,\n",
       " '北京南站': <__main__.Station at 0x1a26297588>,\n",
       " '马家堡': <__main__.Station at 0x1a262975c0>,\n",
       " '角门西': <__main__.Station at 0x1a262975f8>,\n",
       " '公益西桥': <__main__.Station at 0x1a26297630>,\n",
       " '宋家庄': <__main__.Station at 0x1a26297668>,\n",
       " '刘家窑': <__main__.Station at 0x1a262976a0>,\n",
       " '蒲黄榆': <__main__.Station at 0x1a262976d8>,\n",
       " '天坛东门': <__main__.Station at 0x1a26297710>,\n",
       " '磁器口': <__main__.Station at 0x1a26297748>,\n",
       " '灯市口': <__main__.Station at 0x1a26297780>,\n",
       " '东四': <__main__.Station at 0x1a262977b8>,\n",
       " '张自忠路': <__main__.Station at 0x1a262977f0>,\n",
       " '北新桥': <__main__.Station at 0x1a26297828>,\n",
       " '和平里北街': <__main__.Station at 0x1a26297898>,\n",
       " '和平西桥': <__main__.Station at 0x1a26297860>,\n",
       " '惠新西街南口': <__main__.Station at 0x1a262978d0>,\n",
       " '惠新西街北口': <__main__.Station at 0x1a26297c88>,\n",
       " '大屯路东': <__main__.Station at 0x1a26297128>,\n",
       " '北苑路北': <__main__.Station at 0x1a26297160>,\n",
       " '立水桥南': <__main__.Station at 0x1a26297908>,\n",
       " '立水桥': <__main__.Station at 0x1a26297940>,\n",
       " '天通苑南': <__main__.Station at 0x1a26297978>,\n",
       " '天通苑': <__main__.Station at 0x1a26297240>,\n",
       " '天通苑北': <__main__.Station at 0x1a26297cc0>,\n",
       " '金安桥': <__main__.Station at 0x1a262970f0>,\n",
       " '杨庄': <__main__.Station at 0x1a262972b0>,\n",
       " '西黄村': <__main__.Station at 0x1a26297278>,\n",
       " '廖公庄': <__main__.Station at 0x1a262972e8>,\n",
       " '田村': <__main__.Station at 0x1a26297358>,\n",
       " '海淀五路居': <__main__.Station at 0x1a26297390>,\n",
       " '慈寿寺': <__main__.Station at 0x1a262973c8>,\n",
       " '花园桥': <__main__.Station at 0x1a26297400>,\n",
       " '白石桥南': <__main__.Station at 0x1a26297438>,\n",
       " '车公庄西': <__main__.Station at 0x1a26297470>,\n",
       " '北海北': <__main__.Station at 0x1a262974a8>,\n",
       " '南锣鼓巷': <__main__.Station at 0x1a26297080>,\n",
       " '东大桥': <__main__.Station at 0x1a26297198>,\n",
       " '呼家楼': <__main__.Station at 0x1a262971d0>,\n",
       " '金台路': <__main__.Station at 0x1a262970b8>,\n",
       " '十里堡': <__main__.Station at 0x1a26297cf8>,\n",
       " '青年路': <__main__.Station at 0x1a26297d30>,\n",
       " '褡裢坡': <__main__.Station at 0x1a26297d68>,\n",
       " '黄渠': <__main__.Station at 0x1a26297da0>,\n",
       " '常营': <__main__.Station at 0x1a26297dd8>,\n",
       " '草房': <__main__.Station at 0x1a26297e10>,\n",
       " '物资学院路': <__main__.Station at 0x1a26297320>,\n",
       " '通州北关': <__main__.Station at 0x1a26219668>,\n",
       " '通运门': <__main__.Station at 0x1a26219400>,\n",
       " '北运河西': <__main__.Station at 0x1a262193c8>,\n",
       " '北运河东': <__main__.Station at 0x1a26219390>,\n",
       " '郝家府': <__main__.Station at 0x1a26219358>,\n",
       " '东夏园': <__main__.Station at 0x1a26219320>,\n",
       " '潞城': <__main__.Station at 0x1a262192e8>,\n",
       " '北京西站': <__main__.Station at 0x1a262192b0>,\n",
       " '湾子': <__main__.Station at 0x1a26219278>,\n",
       " '达官营': <__main__.Station at 0x1a26219240>,\n",
       " '广安门内': <__main__.Station at 0x1a26219208>,\n",
       " '虎坊桥': <__main__.Station at 0x1a26219eb8>,\n",
       " '珠市口': <__main__.Station at 0x1a26219e80>,\n",
       " '桥湾': <__main__.Station at 0x1a26219ef0>,\n",
       " '广渠门内': <__main__.Station at 0x1a26219f60>,\n",
       " '广渠门外': <__main__.Station at 0x1a26219f28>,\n",
       " '双井': <__main__.Station at 0x1a26219f98>,\n",
       " '九龙山': <__main__.Station at 0x1a26219fd0>,\n",
       " '大郊亭': <__main__.Station at 0x1a262195c0>,\n",
       " '百子湾': <__main__.Station at 0x1a262195f8>,\n",
       " '化工': <__main__.Station at 0x1a26219630>,\n",
       " '南楼梓庄': <__main__.Station at 0x1a262191d0>,\n",
       " '欢乐谷景区': <__main__.Station at 0x1a26219198>,\n",
       " '垡头': <__main__.Station at 0x1a26219160>,\n",
       " '双合': <__main__.Station at 0x1a26219128>,\n",
       " '焦化厂': <__main__.Station at 0x1a262190f0>,\n",
       " '朱辛庄': <__main__.Station at 0x1a262190b8>,\n",
       " '育知路': <__main__.Station at 0x1a26219080>,\n",
       " '平西府': <__main__.Station at 0x1a26219048>,\n",
       " '回龙观东大街': <__main__.Station at 0x1a262197b8>,\n",
       " '霍营': <__main__.Station at 0x1a26219748>,\n",
       " '育新': <__main__.Station at 0x1a26219780>,\n",
       " '西小口': <__main__.Station at 0x1a262197f0>,\n",
       " '永泰庄': <__main__.Station at 0x1a26219828>,\n",
       " '林萃桥': <__main__.Station at 0x1a26219860>,\n",
       " '森林公园南门': <__main__.Station at 0x1a26219898>,\n",
       " '奥林匹克公园': <__main__.Station at 0x1a262198d0>,\n",
       " '奥体中心': <__main__.Station at 0x1a26219908>,\n",
       " '北土城': <__main__.Station at 0x1a26219940>,\n",
       " '安华桥': <__main__.Station at 0x1a26219978>,\n",
       " '安德里北街': <__main__.Station at 0x1a262199b0>,\n",
       " '什刹海': <__main__.Station at 0x1a26219a20>,\n",
       " '中国美术馆': <__main__.Station at 0x1a26219a58>,\n",
       " '瀛海': <__main__.Station at 0x1a262199e8>,\n",
       " '德茂': <__main__.Station at 0x1a26219a90>,\n",
       " '五福堂': <__main__.Station at 0x1a26219ac8>,\n",
       " '火箭万源': <__main__.Station at 0x1a26219b00>,\n",
       " '东高地': <__main__.Station at 0x1a26219b38>,\n",
       " '和义': <__main__.Station at 0x1a26219b70>,\n",
       " '大红门南': <__main__.Station at 0x1a26219ba8>,\n",
       " '大红门': <__main__.Station at 0x1a26219be0>,\n",
       " '海户屯': <__main__.Station at 0x1a26219c18>,\n",
       " '木樨园': <__main__.Station at 0x1a26219c50>,\n",
       " '永定门外': <__main__.Station at 0x1a26219c88>,\n",
       " '天桥': <__main__.Station at 0x1a26219cc0>,\n",
       " '郭公庄': <__main__.Station at 0x1a26219d30>,\n",
       " '丰台科技园': <__main__.Station at 0x1a26219cf8>,\n",
       " '科怡路': <__main__.Station at 0x1a26219d68>,\n",
       " '丰台南路': <__main__.Station at 0x1a26219da0>,\n",
       " '丰台东大街': <__main__.Station at 0x1a26219dd8>,\n",
       " '七里庄': <__main__.Station at 0x1a26219e10>,\n",
       " '六里桥': <__main__.Station at 0x1a26219e48>,\n",
       " '六里桥东': <__main__.Station at 0x1a26219438>,\n",
       " '白堆子': <__main__.Station at 0x1a26219470>,\n",
       " '巴沟': <__main__.Station at 0x1a262194a8>,\n",
       " '苏州街': <__main__.Station at 0x1a262194e0>,\n",
       " '知春里': <__main__.Station at 0x1a26219550>,\n",
       " '知春路': <__main__.Station at 0x1a26219518>,\n",
       " '西土城': <__main__.Station at 0x1a26219588>,\n",
       " '牡丹园': <__main__.Station at 0x1a262196a0>,\n",
       " '健德门': <__main__.Station at 0x1a262196d8>,\n",
       " '安贞门': <__main__.Station at 0xa2329e160>,\n",
       " '芍药居': <__main__.Station at 0xa2329e208>,\n",
       " '太阳宫': <__main__.Station at 0xa2329e1d0>,\n",
       " '三元桥': <__main__.Station at 0xa21bd01d0>,\n",
       " '亮马桥': <__main__.Station at 0xa21bd0198>,\n",
       " '农业展览馆': <__main__.Station at 0xa21bd0160>,\n",
       " '团结湖': <__main__.Station at 0xa21bd0128>,\n",
       " '金台夕照': <__main__.Station at 0xa21bd00b8>,\n",
       " '劲松': <__main__.Station at 0xa21bd00f0>,\n",
       " '潘家园': <__main__.Station at 0xa21bd0080>,\n",
       " '十里河': <__main__.Station at 0xa21bd0048>,\n",
       " '分钟寺': <__main__.Station at 0xa21bd02b0>,\n",
       " '成寿寺': <__main__.Station at 0xa21bd02e8>,\n",
       " '石榴庄': <__main__.Station at 0xa21bd0358>,\n",
       " '角门东': <__main__.Station at 0xa21bd0390>,\n",
       " '草桥': <__main__.Station at 0xa21bd03c8>,\n",
       " '纪家庙': <__main__.Station at 0xa21bd0320>,\n",
       " '首经贸': <__main__.Station at 0xa21bd0400>,\n",
       " '丰台站': <__main__.Station at 0xa21bd0438>,\n",
       " '泥洼': <__main__.Station at 0xa21bd0470>,\n",
       " '西局': <__main__.Station at 0xa21bd04a8>,\n",
       " '莲花桥': <__main__.Station at 0xa21bd0518>,\n",
       " '西钓鱼台': <__main__.Station at 0xa21bd0550>,\n",
       " '车道沟': <__main__.Station at 0xa21bd0588>,\n",
       " '长春桥': <__main__.Station at 0xa21bd04e0>,\n",
       " '火器营': <__main__.Station at 0xa21bd05c0>,\n",
       " '明光桥西': <__main__.Station at 0xa21bd05f8>,\n",
       " '大钟寺': <__main__.Station at 0xa21bd0630>,\n",
       " '五道口': <__main__.Station at 0xa21bd06a0>,\n",
       " '清华东路西口': <__main__.Station at 0xa21bd0668>,\n",
       " '上地': <__main__.Station at 0xa21bd06d8>,\n",
       " '清河站': <__main__.Station at 0xa21bd0710>,\n",
       " '西二旗': <__main__.Station at 0xa21bd0748>,\n",
       " '龙泽': <__main__.Station at 0xa21bd0780>,\n",
       " '回龙观': <__main__.Station at 0xa21bd07b8>,\n",
       " '建材城东路': <__main__.Station at 0xa21bd0828>,\n",
       " '北苑': <__main__.Station at 0xa21bd0860>,\n",
       " '来广营西': <__main__.Station at 0xa21bd07f0>,\n",
       " '望京西': <__main__.Station at 0xa21bd0898>,\n",
       " '望和桥': <__main__.Station at 0xa21bd08d0>,\n",
       " '光熙门': <__main__.Station at 0xa21bd0940>,\n",
       " '柳芳': <__main__.Station at 0xa21bd0908>,\n",
       " '张郭庄': <__main__.Station at 0xa21bd09b0>,\n",
       " '园博园': <__main__.Station at 0xa21bd0978>,\n",
       " '大瓦窑': <__main__.Station at 0xa21bd09e8>,\n",
       " '郭庄子': <__main__.Station at 0xa21bd0a20>,\n",
       " '大井': <__main__.Station at 0xa21bd0a58>,\n",
       " '景泰': <__main__.Station at 0xa21bd0a90>,\n",
       " '方庄': <__main__.Station at 0xa21bd0b00>,\n",
       " '北工大西门': <__main__.Station at 0xa21bd0b38>,\n",
       " '朝阳公园': <__main__.Station at 0xa21bd0b70>,\n",
       " '枣营': <__main__.Station at 0xa21bd0ac8>,\n",
       " '东风北桥': <__main__.Station at 0xa21bd0ba8>,\n",
       " '将台': <__main__.Station at 0xa21bd0be0>,\n",
       " '望京南': <__main__.Station at 0xa21bd0c18>,\n",
       " '阜通': <__main__.Station at 0xa21bd0c50>,\n",
       " '望京': <__main__.Station at 0xa21bd0c88>,\n",
       " '东湖渠': <__main__.Station at 0xa21bd0cc0>,\n",
       " '来广营': <__main__.Station at 0xa21bd0cf8>,\n",
       " '善各庄': <__main__.Station at 0xa21bd0d30>,\n",
       " '俸伯': <__main__.Station at 0xa21bd0d68>,\n",
       " '顺义': <__main__.Station at 0xa21bd0da0>,\n",
       " '石门': <__main__.Station at 0xa21bd0dd8>,\n",
       " '南法信': <__main__.Station at 0xa21bd0e10>,\n",
       " '后沙峪': <__main__.Station at 0xa21bd0e48>,\n",
       " '花梨坎': <__main__.Station at 0xa21bd0e80>,\n",
       " '国展': <__main__.Station at 0xa21bd0eb8>,\n",
       " '孙河': <__main__.Station at 0xa21bd0ef0>,\n",
       " '马泉营': <__main__.Station at 0xa21bd0f28>,\n",
       " '崔各庄': <__main__.Station at 0xa21bd0f60>,\n",
       " '望京东': <__main__.Station at 0xa21bd0f98>,\n",
       " '关庄': <__main__.Station at 0xa21bd0fd0>,\n",
       " '安立路': <__main__.Station at 0x1a26285080>,\n",
       " '北沙滩': <__main__.Station at 0x1a262850b8>,\n",
       " '六道口': <__main__.Station at 0x1a26285048>,\n",
       " '宛平站': <__main__.Station at 0x1a26285128>,\n",
       " '榆树庄站': <__main__.Station at 0x1a262850f0>,\n",
       " '看丹站': <__main__.Station at 0x1a26285160>,\n",
       " '富丰桥站': <__main__.Station at 0x1a26285198>,\n",
       " '丰台南路站': <__main__.Station at 0x1a262851d0>,\n",
       " '丰益桥南站': <__main__.Station at 0x1a26285240>,\n",
       " '丽泽商务区站': <__main__.Station at 0x1a26285208>,\n",
       " '红莲南里站': <__main__.Station at 0x1a26285278>,\n",
       " '达官营站': <__main__.Station at 0x1a262852b0>,\n",
       " '木樨地站': <__main__.Station at 0x1a262852e8>,\n",
       " '玉渊潭东门站': <__main__.Station at 0x1a26285320>,\n",
       " '甘家口站': <__main__.Station at 0x1a26285358>,\n",
       " '二里沟站': <__main__.Station at 0x1a26285390>,\n",
       " '国家图书馆站': <__main__.Station at 0x1a262853c8>,\n",
       " '万寿寺站': <__main__.Station at 0x1a26285400>,\n",
       " '苏州桥站': <__main__.Station at 0x1a26285438>,\n",
       " '苏州街站': <__main__.Station at 0x1a26285470>,\n",
       " '万泉河桥站': <__main__.Station at 0x1a262854a8>,\n",
       " '西苑站': <__main__.Station at 0x1a262854e0>,\n",
       " '农大南路站': <__main__.Station at 0x1a26285518>,\n",
       " '马连洼站': <__main__.Station at 0x1a26285550>,\n",
       " '西北旺站': <__main__.Station at 0x1a26285588>,\n",
       " '永丰南站': <__main__.Station at 0x1a262855c0>,\n",
       " '永丰站': <__main__.Station at 0x1a262855f8>,\n",
       " '屯佃站': <__main__.Station at 0x1a26285630>,\n",
       " '稻香湖路站': <__main__.Station at 0x1a26285668>,\n",
       " '温阳路站': <__main__.Station at 0x1a262856a0>,\n",
       " '北安河站': <__main__.Station at 0x1a262856d8>,\n",
       " '高碑店': <__main__.Station at 0x1a26285710>,\n",
       " '传媒大学': <__main__.Station at 0x1a26285748>,\n",
       " '双桥': <__main__.Station at 0x1a26285780>,\n",
       " '管庄': <__main__.Station at 0x1a262857b8>,\n",
       " '八里桥': <__main__.Station at 0x1a262857f0>,\n",
       " '通州北苑': <__main__.Station at 0x1a26285828>,\n",
       " '果园': <__main__.Station at 0x1a26285860>,\n",
       " '九棵树': <__main__.Station at 0x1a26285898>,\n",
       " '梨园': <__main__.Station at 0x1a262858d0>,\n",
       " '临河里': <__main__.Station at 0x1a26285908>,\n",
       " '土桥': <__main__.Station at 0x1a26285940>,\n",
       " '昌平西山口': <__main__.Station at 0x1a26285978>,\n",
       " '十三陵景区': <__main__.Station at 0x1a262859b0>,\n",
       " '昌平': <__main__.Station at 0x1a262859e8>,\n",
       " '昌平东关': <__main__.Station at 0x1a26285a20>,\n",
       " '北邵洼': <__main__.Station at 0x1a26285a58>,\n",
       " '南邵': <__main__.Station at 0x1a26285a90>,\n",
       " '沙河高教园': <__main__.Station at 0x1a26285ac8>,\n",
       " '沙河': <__main__.Station at 0x1a26285b00>,\n",
       " '巩华城': <__main__.Station at 0x1a26285b38>,\n",
       " '生命科学园': <__main__.Station at 0x1a26285ba8>,\n",
       " '宋家庄站': <__main__.Station at 0x1a26285be0>,\n",
       " '肖村站': <__main__.Station at 0x1a26285b70>,\n",
       " '小红门站': <__main__.Station at 0x1a26285c18>,\n",
       " '旧宫站': <__main__.Station at 0x1a26285c50>,\n",
       " '亦庄桥站': <__main__.Station at 0x1a26285c88>,\n",
       " '亦庄文化园站': <__main__.Station at 0x1a26285cc0>,\n",
       " '万源街站': <__main__.Station at 0x1a26285cf8>,\n",
       " '荣京东街站': <__main__.Station at 0x1a26285d30>,\n",
       " '荣昌东街站': <__main__.Station at 0x1a26285d68>,\n",
       " '经海路站': <__main__.Station at 0x1a26285da0>,\n",
       " '次渠南站': <__main__.Station at 0x1a26285dd8>,\n",
       " '次渠站': <__main__.Station at 0x1a26285e10>,\n",
       " '亦庄火车站': <__main__.Station at 0x1a26285e48>,\n",
       " '大葆台': <__main__.Station at 0x1a26285eb8>,\n",
       " '稻田': <__main__.Station at 0x1a26285e80>,\n",
       " '长阳': <__main__.Station at 0x1a26285ef0>,\n",
       " '篱笆房': <__main__.Station at 0x1a26285f28>,\n",
       " '广阳城': <__main__.Station at 0x1a26285f60>,\n",
       " '良乡大学城北': <__main__.Station at 0x1a26285f98>,\n",
       " '良乡大学城': <__main__.Station at 0x1a26285fd0>,\n",
       " '良乡大学城西': <__main__.Station at 0x1a262a9048>,\n",
       " '良乡南关': <__main__.Station at 0x1a262a9080>,\n",
       " '苏庄': <__main__.Station at 0x1a262a90b8>,\n",
       " '阎村东': <__main__.Station at 0x1a262a90f0>,\n",
       " '苹果园站': <__main__.Station at 0x1a262a9128>,\n",
       " '金安桥站': <__main__.Station at 0x1a262a9160>,\n",
       " '四道桥站': <__main__.Station at 0x1a262a9198>,\n",
       " '桥户营站': <__main__.Station at 0x1a262a91d0>,\n",
       " '上岸站': <__main__.Station at 0x1a262a9208>,\n",
       " '栗园庄站': <__main__.Station at 0x1a262a9240>,\n",
       " '小园站': <__main__.Station at 0x1a262a9278>,\n",
       " '石厂站': <__main__.Station at 0x1a262a92b0>,\n",
       " '阎村东站': <__main__.Station at 0x1a262a92e8>,\n",
       " '紫草坞站': <__main__.Station at 0x1a262a9320>,\n",
       " '阎村站': <__main__.Station at 0x1a262a9358>,\n",
       " '星城站': <__main__.Station at 0x1a262a9390>,\n",
       " '大石河东站': <__main__.Station at 0x1a262a93c8>,\n",
       " '马各庄站': <__main__.Station at 0x1a262a9400>,\n",
       " '饶乐府站': <__main__.Station at 0x1a262a9438>,\n",
       " '房山城关站': <__main__.Station at 0x1a262a9470>,\n",
       " '燕山站': <__main__.Station at 0x1a262a94a8>,\n",
       " '老城区站': <__main__.Station at 0x1a262a94e0>,\n",
       " '顾册站': <__main__.Station at 0x1a262a9518>,\n",
       " '周口店镇站': <__main__.Station at 0x1a262a9550>}"
      ]
     },
     "execution_count": 92,
     "metadata": {},
     "output_type": "execute_result"
    }
   ],
   "source": [
    "line_graph"
   ]
  },
  {
   "cell_type": "code",
   "execution_count": 107,
   "metadata": {},
   "outputs": [],
   "source": [
    "def print_line_graph(graph) : \n",
    "    plt.rcParams['font.sans-serif'] = ['SimHei']\n",
    "    plt.rcParams['axes.unicode_minus'] = False\n",
    "    station_graph = nx.Graph()\n",
    "#     station_graph.add_nodes_from(list(graph.keys()))\n",
    "    for k, v in graph.items() : \n",
    "        for s in v.getNextStations() : \n",
    "            station_graph.add_edge(k, s)\n",
    "    nx.draw(station_graph, with_labels = True, node_size = 30)"
   ]
  },
  {
   "cell_type": "code",
   "execution_count": 108,
   "metadata": {},
   "outputs": [
    {
     "data": {
      "image/png": "[encoded data removed]",
      "text/plain": [
       "<Figure size 432x288 with 1 Axes>"
      ]
     },
     "metadata": {},
     "output_type": "display_data"
    }
   ],
   "source": [
    "print_line_graph(line_graph)"
   ]
  },
  {
   "cell_type": "code",
   "execution_count": 72,
   "metadata": {},
   "outputs": [
    {
     "data": {
      "text/plain": [
       "\"name = 苹果园,line_lable = 北京地铁1号线,next_stations = ['古城', '金安桥', '杨庄']\""
      ]
     },
     "execution_count": 72,
     "metadata": {},
     "output_type": "execute_result"
    }
   ],
   "source": [
    "line_graph['苹果园'].to_str()"
   ]
  },
  {
   "cell_type": "code",
   "execution_count": 73,
   "metadata": {},
   "outputs": [
    {
     "data": {
      "text/plain": [
       "\"name = 东单,line_lable = 北京地铁1号线,next_stations = ['王府井', '建国门', '崇文门', '灯市口']\""
      ]
     },
     "execution_count": 73,
     "metadata": {},
     "output_type": "execute_result"
    }
   ],
   "source": [
    "line_graph['东单'].to_str()"
   ]
  },
  {
   "cell_type": "code",
   "execution_count": 74,
   "metadata": {},
   "outputs": [
    {
     "data": {
      "text/plain": [
       "\"name = 巴沟,line_lable = 北京地铁10号线,next_stations = ['苏州街', '火器营']\""
      ]
     },
     "execution_count": 74,
     "metadata": {},
     "output_type": "execute_result"
    }
   ],
   "source": [
    "line_graph['巴沟'].to_str()"
   ]
  },
  {
   "cell_type": "code",
   "execution_count": 75,
   "metadata": {},
   "outputs": [
    {
     "data": {
      "text/plain": [
       "\"name = 西直门,line_lable = 北京地铁2号线,next_stations = ['积水潭', '车公庄', '动物园', '新街口', '明光桥西']\""
      ]
     },
     "execution_count": 75,
     "metadata": {},
     "output_type": "execute_result"
    }
   ],
   "source": [
    "line_graph['西直门'].to_str()"
   ]
  },
  {
   "cell_type": "code",
   "execution_count": 76,
   "metadata": {},
   "outputs": [
    {
     "data": {
      "text/plain": [
       "\"name = 古城,line_lable = 北京地铁1号线,next_stations = ['苹果园', '八角游乐园']\""
      ]
     },
     "execution_count": 76,
     "metadata": {},
     "output_type": "execute_result"
    }
   ],
   "source": [
    "line_graph['古城'].to_str()"
   ]
  },
  {
   "cell_type": "code",
   "execution_count": 85,
   "metadata": {},
   "outputs": [
    {
     "name": "stdout",
     "output_type": "stream",
     "text": [
      "苹果园🚇(北京地铁1号线) ---> 古城🚇(北京地铁1号线) ---> 八角游乐园🚇(北京地铁1号线) ---> 八宝山🚇(北京地铁1号线) ---> 玉泉路🚇(北京地铁1号线) ---> 五棵松🚇(北京地铁1号线) ---> 万寿路🚇(北京地铁1号线) ---> 公主坟🚇(北京地铁1号线) ---> 军事博物馆🚇(北京地铁1号线) ---> 木樨地🚇(北京地铁1号线) ---> 南礼士路🚇(北京地铁1号线) ---> 复兴门🚇(北京地铁1号线) ---> 西单🚇(北京地铁1号线) ---> 天安门西🚇(北京地铁1号线) ---> 天安门东🚇(北京地铁1号线) ---> 王府井🚇(北京地铁1号线) ---> 东单🚇(北京地铁1号线)\n"
     ]
    }
   ],
   "source": [
    "print_line(search('苹果园', '东单', line_graph), line_graph)"
   ]
  },
  {
   "cell_type": "code",
   "execution_count": 78,
   "metadata": {},
   "outputs": [
    {
     "name": "stdout",
     "output_type": "stream",
     "text": [
      "五棵松🚇(北京地铁1号线) ---> 万寿路🚇(北京地铁1号线) ---> 公主坟🚇(北京地铁1号线) ---> 军事博物馆🚇(北京地铁1号线) ---> 北京西站🚇(北京地铁7号线) ---> 湾子🚇(北京地铁7号线) ---> 达官营🚇(北京地铁7号线) ---> 广安门内🚇(北京地铁7号线) ---> 菜市口🚇(北京地铁4号线) ---> 陶然亭🚇(北京地铁4号线) ---> 北京南站🚇(北京地铁4号线) ---> 永定门外🚇(北京地铁8号线（南段）) ---> 景泰🚇(北京地铁14号线（东段）) ---> 蒲黄榆🚇(北京地铁5号线) ---> 方庄🚇(北京地铁14号线（东段）)\n"
     ]
    }
   ],
   "source": [
    "print_line(search('五棵松', '方庄', line_graph), line_graph)"
   ]
  },
  {
   "cell_type": "markdown",
   "metadata": {},
   "source": [
    "##### 3. Build the search agent\n",
    "\n",
    "> Build the search agent based on the graph we build.\n",
    "\n",
    "for example, when you run: \n",
    "\n",
    "```python\n",
    ">>> search('奥体中心', '天安门') \n",
    "```\n",
    "you need get the result: \n",
    "\n",
    "奥体中心-> A -> B -> C -> ... -> 天安门\n",
    "\n"
   ]
  },
  {
   "cell_type": "code",
   "execution_count": 83,
   "metadata": {},
   "outputs": [
    {
     "name": "stdout",
     "output_type": "stream",
     "text": [
      "奥体中心🚇(北京地铁8号线（北段）) ---> 北土城🚇(北京地铁8号线（北段）) ---> 安华桥🚇(北京地铁8号线（北段）) ---> 安德里北街🚇(北京地铁8号线（北段）) ---> 鼓楼大街🚇(北京地铁2号线) ---> 什刹海🚇(北京地铁8号线（北段）) ---> 南锣鼓巷🚇(北京地铁6号线) ---> 东四🚇(北京地铁5号线) ---> 灯市口🚇(北京地铁5号线) ---> 东单🚇(北京地铁1号线) ---> 王府井🚇(北京地铁1号线) ---> 天安门东🚇(北京地铁1号线)\n"
     ]
    }
   ],
   "source": [
    "print_line(search('奥体中心', '天安门东', line_graph), line_graph)"
   ]
  },
  {
   "cell_type": "code",
   "execution_count": 86,
   "metadata": {},
   "outputs": [
    {
     "name": "stdout",
     "output_type": "stream",
     "text": [
      "西直门🚇(北京地铁2号线) ---> 积水潭🚇(北京地铁2号线) ---> 鼓楼大街🚇(北京地铁2号线)\n"
     ]
    }
   ],
   "source": [
    "print_line(search('西直门', '鼓楼大街', line_graph), line_graph)"
   ]
  },
  {
   "cell_type": "markdown",
   "metadata": {},
   "source": [
    "## （Optional）Create different policies for transfer system.\n"
   ]
  },
  {
   "cell_type": "markdown",
   "metadata": {},
   "source": [
    "以下部门为可选部分，请酌情完成。 并不要求全部同学完成。"
   ]
  },
  {
   "cell_type": "markdown",
   "metadata": {},
   "source": [
    "As much as you can to use the already implemented search agent. You just need to define the **is_goal()**, **get_successor()**, **strategy()** three functions. \n",
    "\n",
    "> a.\tDefine different policies for transfer system. \n",
    "\n",
    "> b.\tSuch as Shortest Path Priority（路程最短优先）, Minimum Transfer Priority(最少换乘优先), Comprehensive Priority(综合优先)\n",
    "\n",
    "> c.\tImplement Continuous transfer. Based on the Agent you implemented, please add this feature: Besides the @param start and @param destination two stations, add some more stations, we called @param by_way, it means, our path should from the start and end, but also include the  @param by_way stations. \n",
    "\n",
    "e.g \n",
    "```\n",
    "1. Input:  start=A,  destination=B, by_way=[C] \n",
    "    Output: [A, … .., C, …. B]\n",
    "2. Input: start=A, destination=B, by_way=[C, D, E]\n",
    "    Output: [A … C … E … D … B]  \n",
    "    # based on your policy, the E station could be reached firstly. \n",
    "![image.png](attachment:image.png)\n",
    "```"
   ]
  },
  {
   "cell_type": "code",
   "execution_count": null,
   "metadata": {},
   "outputs": [],
   "source": [
    "def is_goal() : \n",
    "    pass\n",
    "\n",
    "def get_successor() : \n",
    "    pass\n",
    "\n",
    "def strategy() : \n",
    "    pass\n",
    "\n",
    "# 路线查询\n",
    "def search(start, destination, gragh):\n",
    "    pathes = [[start]]\n",
    "    visitied = set()\n",
    "    \n",
    "    while pathes: # if we find existing pathes\n",
    "        path = pathes.pop(0)\n",
    "        froninter = path[-1]\n",
    "\n",
    "        if froninter in visitied: continue\n",
    "            \n",
    "        successors = gragh[froninter].getNextStations()\n",
    "        \n",
    "        for station in successors:\n",
    "            if station in path: continue  # eliminate loop\n",
    "                \n",
    "            new_path = path + [station]\n",
    "            \n",
    "            pathes.append(new_path)\n",
    "            \n",
    "            if station == destination: return new_path\n",
    "        \n",
    "        visitied.add(froninter)"
   ]
  },
  {
   "cell_type": "markdown",
   "metadata": {},
   "source": [
    "##### 5.\tTest your result with commercial applications. \n",
    "\n",
    "将你的结果和高德地图或者百度地图进行比较，如果有不同，请分析原因\n"
   ]
  },
  {
   "cell_type": "markdown",
   "metadata": {},
   "source": [
    "恭喜，完成本次课程，你对常用的人工智能方法以及有一定的了解了。基于规则的，基于概率模型的，基于搜索的，基于机器学习的。 可以说，我们现在通常见到的方法都能够归属到这几类方法中。 这就是**人工智能**，并没有很难是吧？ 继续加油！"
   ]
  },
  {
   "cell_type": "markdown",
   "metadata": {},
   "source": [
    "![](https://timgsa.baidu.com/timg?image&quality=80&size=b9999_10000&sec=1562415163815&di=4b29a2a863a8285212033760f288ed7a&imgtype=0&src=http%3A%2F%2F5b0988e595225.cdn.sohucs.com%2Fimages%2F20180710%2F8704194a1d7f46a383ddc29d40c9bca5.jpeg)"
   ]
  }
 ],
 "metadata": {
  "kernelspec": {
   "display_name": "Python 3",
   "language": "python",
   "name": "python3"
  },
  "language_info": {
   "codemirror_mode": {
    "name": "ipython",
    "version": 3
   },
   "file_extension": ".py",
   "mimetype": "text/x-python",
   "name": "python",
   "nbconvert_exporter": "python",
   "pygments_lexer": "ipython3",
   "version": "3.7.1"
  }
 },
 "nbformat": 4,
 "nbformat_minor": 2
}
