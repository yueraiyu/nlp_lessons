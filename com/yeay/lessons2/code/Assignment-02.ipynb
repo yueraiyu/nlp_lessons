{
 "cells": [
  {
   "cell_type": "markdown",
   "metadata": {},
   "source": [
    "## Assignments for Week-02"
   ]
  },
  {
   "cell_type": "markdown",
   "metadata": {},
   "source": [
    "In this course, we learnt what's the search problem and what's the machine leanring. In this assignment, we need you do some more practice."
   ]
  },
  {
   "cell_type": "markdown",
   "metadata": {},
   "source": [
    "### 1. Re-code the house price machine learning\n",
    "\n",
    "###### 1. Random Choose Method to get optimal *k* and *b*\n",
    "###### 2.Supervised Direction to get optimal *k* and *b*\n",
    "###### 3.Gradient Descent to get optimal *k* and *b*\n",
    "###### 4. Try different Loss function and learning rate. \n",
    "\n",
    "For example, you can change the loss function: $Loss = \\frac{1}{n} sum({y_i - \\hat{y_i}})^2$ to $Loss = \\frac{1}{n} sum(|{y_i - \\hat{y_i}}|)$\n",
    "\n",
    "And you can change the learning rate and observe the performance."
   ]
  },
  {
   "cell_type": "markdown",
   "metadata": {},
   "source": [
    "![](https://timgsa.baidu.com/timg?image&quality=80&size=b9999_10000&sec=1562414412237&di=8377c38d7b50c6f8d45b92ccc78dc1e7&imgtype=0&src=http%3A%2F%2Fmmbiz.qpic.cn%2Fmmbiz_jpg%2FlSyiavfm6wPgQDuDYa42IMgSkLOcPJU91RbkMibGy7VHLrhhNVLibTYk1iaLcmXKTdHc4icTDVia59QFXwqpW8cLflaw%2F640%3Fwx_fmt%3Djpeg)"
   ]
  },
  {
   "cell_type": "markdown",
   "metadata": {},
   "source": [
    "## 2. Answer following questions:\n",
    "\n",
    "\n",
    "###### 1. Why do we need machine learning methods instead of creating a complicated formula?\n"
   ]
  },
  {
   "cell_type": "markdown",
   "metadata": {},
   "source": [
    "Ans:"
   ]
  },
  {
   "cell_type": "markdown",
   "metadata": {},
   "source": [
    "###### 2.  Wha't's the disadvantages of `the 1st Random Choosen` methods in our course? "
   ]
  },
  {
   "cell_type": "markdown",
   "metadata": {},
   "source": [
    "Ans:"
   ]
  },
  {
   "cell_type": "markdown",
   "metadata": {},
   "source": [
    "###### 3. Is the `2nd method supervised direction` better than 1st one?  What's the disadvantages of `the 2nd supversied directin` method? "
   ]
  },
  {
   "cell_type": "markdown",
   "metadata": {},
   "source": [
    "Ans:"
   ]
  },
  {
   "cell_type": "markdown",
   "metadata": {},
   "source": [
    "###### 4. Why do we use `Derivative / Gredient` to fit a target function? "
   ]
  },
  {
   "cell_type": "markdown",
   "metadata": {},
   "source": [
    "Ans:"
   ]
  },
  {
   "cell_type": "markdown",
   "metadata": {},
   "source": [
    "###### 5. In the words 'Gredient Descent', what's the `Gredient` and what's the `Descent`?"
   ]
  },
  {
   "cell_type": "markdown",
   "metadata": {},
   "source": [
    "Ans:"
   ]
  },
  {
   "cell_type": "markdown",
   "metadata": {},
   "source": [
    "###### 6. What's the advantages of `the 3rd gradient descent method` compared to the previous methods?"
   ]
  },
  {
   "cell_type": "markdown",
   "metadata": {},
   "source": [
    "Ans:"
   ]
  },
  {
   "cell_type": "markdown",
   "metadata": {},
   "source": [
    "###### 7. Using the simple words to describe: What's the machine leanring."
   ]
  },
  {
   "cell_type": "markdown",
   "metadata": {},
   "source": [
    "Ans:"
   ]
  },
  {
   "cell_type": "markdown",
   "metadata": {},
   "source": [
    "## 3. Finish the search problem"
   ]
  },
  {
   "cell_type": "markdown",
   "metadata": {},
   "source": [
    "Please using the search policy to implement an agent. This agent receives two input, one is @param start station and the other is @param destination. Your agent should give the optimal route based on Beijing Subway system. "
   ]
  },
  {
   "cell_type": "markdown",
   "metadata": {},
   "source": [
    "> Deadline: 2019-July-13\n",
    "\n",
    ">Submit: Submit the source code and result to github. \n",
    "\n"
   ]
  },
  {
   "cell_type": "markdown",
   "metadata": {},
   "source": [
    "![](https://timgsa.baidu.com/timg?image&quality=80&size=b9999_10000&sec=1562414356407&di=b57814aafd215bb8b8d9d8cd37c573d6&imgtype=0&src=http%3A%2F%2Fcli.clewm.net%2Ffile%2F2015%2F03%2F24%2F174ed60082b8422ac0636cfd3efb9e7f.jpg)"
   ]
  },
  {
   "cell_type": "markdown",
   "metadata": {},
   "source": [
    "#### Dataflow: "
   ]
  },
  {
   "cell_type": "markdown",
   "metadata": {},
   "source": [
    "##### 1.\tGet data from web page.\n",
    "\n",
    "> a.\tGet web page source from: https://baike.baidu.com/item/%E5%8C%97%E4%BA%AC%E5%9C%B0%E9%93%81/408485\n",
    "\n",
    "> b.\tYou may need @package **requests**[https://2.python-requests.org/en/master/] page to get the response via url\n",
    "\n",
    "> c.\tYou may need save the page source to file system.\n",
    "\n",
    "> d.\tThe target of this step is to get station information of all the subway lines;\n",
    "\n",
    "> e.\tYou may need install @package beautiful soup[https://www.crummy.com/software/BeautifulSoup/bs4/doc/]  to get the url information, or just use > Regular Expression to get the url.  Our recommendation is that using the Regular Expression and BeautiflSoup both. \n",
    "\n",
    "> f.\tYou may need BFS to get all the related page url from one url. \n",
    "Question: Why do we use BFS to traverse web page (or someone said, build a web spider)?  Can DFS do this job? which is better? "
   ]
  },
  {
   "cell_type": "markdown",
   "metadata": {},
   "source": [
    "##### 2.\tPreprocessing data from page source.\n",
    "\n",
    "> a.\tBased on the page source gotten from url. You may need some more preprocessing of the page. \n",
    "\n",
    "> b.\tthe Regular Expression you may need to process the text information.\n",
    "\n",
    "> c.\tYou may need @package networkx, @package matplotlib to visualize data. \n",
    "\n",
    "> d.\tYou should build a dictionary or graph which could represent the connection information of Beijing subway routes. \n",
    "\n",
    "> e.\tYou may need the defaultdict, set data structures to implement this procedure. "
   ]
  },
  {
   "cell_type": "code",
   "execution_count": 1,
   "metadata": {},
   "outputs": [
    {
     "name": "stdout",
     "output_type": "stream",
     "text": [
      "Looking in indexes: http://mirrors.aliyun.com/pypi/simple/\r\n",
      "Requirement already satisfied: beautifulsoup4 in /Users/yeah/anaconda3/lib/python3.7/site-packages (4.6.3)\r\n"
     ]
    }
   ],
   "source": [
    "# 安装 Beautiful Soup\n",
    "!pip install beautifulsoup4"
   ]
  },
  {
   "cell_type": "code",
   "execution_count": 6,
   "metadata": {},
   "outputs": [],
   "source": [
    "# 北京地铁1号线 北京地铁1号线车站列表/北京地铁1号线首末车时刻表\n",
    "# 北京地铁2号线 北京地铁2号线车站列表/北京地铁2号线首末车时间表\n",
    "# 北京地铁4号线 北京地铁4号线车站列表/北京地铁4号线首末班车时刻表\n",
    "# 北京地铁5号线 北京地铁5号线车站列表/5号线首末车时刻表\n",
    "# 北京地铁6号线 北京地铁6号线车站列表/6号线首末车时刻表\n",
    "# 北京地铁7号线 北京地铁7号线车站列表/7号线首末车时刻表\n",
    "# 北京地铁8号线（北段）北京地铁8号线车站列表/北京地铁8号线（北段）首末车时刻表\n",
    "# 北京地铁8号线（南段）北京地铁8号线车站列表/北京地铁8号线（南段）首末车时刻表\n",
    "# 北京地铁9号线 北京地铁9号线车站列表/9号线首末车时刻表\n",
    "# 北京地铁10号线 北京地铁10号线车站列表/10号线首末车时刻表\n",
    "# 北京地铁13号线 车站列表/13号线首末车时刻表\n",
    "# 北京地铁14号线（西段）北京地铁14号线车站列表/14号线（西段）首末车时刻表\n",
    "# 北京地铁14号线（东段）北京地铁14号线车站列表/14号线东段（含中段）首末车时刻表\n",
    "# 北京地铁15号线 北京地铁15号线车站列表/北京地铁15号线首末车时刻表\n",
    "# 北京地铁16号线 车站列表/首末车时间\n",
    "# 北京地铁八通线 北京地铁八通线车站列表/八通线首末车时刻表\n",
    "# 北京地铁昌平线 北京地铁昌平线车站列表/昌平线首末车时刻表\n",
    "# 北京地铁亦庄线 车站信息\n",
    "# 北京地铁房山线 北京地铁房山线车站列表/房山线首末车时刻表\n",
    "# 北京地铁S1线 车站列表/北京地铁S1线首末车时刻表\n",
    "# 北京地铁燕房线 车站列表/运营时刻"
   ]
  },
  {
   "cell_type": "code",
   "execution_count": 2,
   "metadata": {},
   "outputs": [],
   "source": [
    "# spider\n",
    "import requests\n",
    "from bs4 import BeautifulSoup\n",
    "import re\n",
    "import networkx as nx\n",
    "import matplotlib.pyplot as plt\n",
    "\n",
    "#站点类 \n",
    "class Station :\n",
    "    \"\"\"\n",
    "    name : 站点名\n",
    "    line_lable : 所属线\n",
    "    next_stations : 连接的站点\n",
    "    \"\"\"\n",
    "    def __init__(self, name=\"\", line_lable=\"\", next_stations = []):\n",
    "        self.name, self.line_lable, self.next_stations = name, line_lable, next_stations\n",
    "        \n",
    "    def setName(self, name=\"\") : self.name = name\n",
    "    def getName(self) : return self.name\n",
    "\n",
    "    def setLineLable(self, line_lable=\"\") : self.line_lable = line_lable\n",
    "    def getLineLable(self) : return self.line_lable \n",
    "    \n",
    "    def setNextStations(self, next_stations = []) : self.next_stations = next_stations\n",
    "    def getNextStations(self) : return self.next_stations    \n",
    "    \n",
    "    def to_str(self) : \n",
    "        return \"name = \" + self.name + \",line_lable = \" + self.line_lable + \",next_stations = \" + str(self.next_stations)\n",
    "    \n",
    "# 请求头\n",
    "def headers() : \n",
    "    header = {\n",
    "     \"User-Agent\": \"Mozilla/5.0 (Windows NT 6.1; WOW64) AppleWebKit/537.36 (KHTML, like Gecko) Chrome/53.0.2785.89 \"\n",
    "     \"Safari/537.36\"\n",
    "     }\n",
    "    return header\n",
    "\n",
    "# 站点url\n",
    "def source() : \n",
    "    return 'https://baike.baidu.com'\n",
    "\n",
    "# 详情url\n",
    "def contact_item(item) : \n",
    "    return source() + item\n",
    "\n",
    "# 爬取源码\n",
    "def spider(url, encode) : \n",
    "    header = headers()\n",
    "    res = requests.get(url,  headers=header)\n",
    "    res.encoding = encode\n",
    "    soup = BeautifulSoup(res.text)\n",
    "    return soup\n",
    "\n",
    "# 地铁线 + 链接\n",
    "def line_and_href(tables) : \n",
    "    lfs = {}\n",
    "    for t in tables : \n",
    "        tds = t.find_all('td')\n",
    "        for td in tds : \n",
    "            if re.findall(r'北京地铁.*线', str(td)) : \n",
    "                lfs[td.get_text()] = td.a.get('href')\n",
    "    return lfs\n",
    "\n",
    "# 获取所有地铁线及链接\n",
    "def all_lfs(soup) : \n",
    "    tables = soup.find_all('table')\n",
    "    pat = r\"<tr><th.*>线路</th><th.*>起止点</th><th.*>首班</th><th>末班</th></tr><tr>\"\n",
    "    mts = [t for t in tables if re.findall(pat, str(t))]\n",
    "    lfs = line_and_href(mts)\n",
    "    return lfs\n",
    "\n",
    "def stations(lfs) : \n",
    "    # 地铁路线\n",
    "    lines = {}\n",
    "    \n",
    "    for k, v in lfs.items() : \n",
    "        preferred_pat = r\"\" + str(k[4:] + \".{0,6}首末班?车时[刻|间]表?\").replace('(', '\\(?').replace('（', '（?').replace(')', '\\)?').replace('）', '）?')\n",
    "        print(\"spider \" + k)\n",
    "        optional_pat = r\"车站信息\"\n",
    "        special_pat = r\"<tr><th.*>车?站?编号</th><th.*>车站名称.*</th>.*<tr>\"\n",
    "        soup = spider(contact_item(v), 'utf-8')\n",
    "        tables = soup.find_all('table')\n",
    "        \n",
    "        tagets = [tab for tab in tables if re.findall(preferred_pat, str(tab))]\n",
    "        if  len(tagets) > 0 :\n",
    "            print(preferred_pat)\n",
    "            trs = tagets[0].find_all('tr')\n",
    "            stations = [list(tr.children)[0].get_text() for tr in trs[1:] if list(tr.children) and (not re.findall(r\"参考|车站|时间|方向|全程|(备?注)|(\\d{4}年\\d{1,2}月)\", str(tr)))]\n",
    "            if re.findall(r\"内|外环\", str(trs[0])) : \n",
    "                print(\"环线\")\n",
    "                stations.append(stations[0])\n",
    "            lines[k] = stations\n",
    "            continue\n",
    "            \n",
    "        tagets = [tab for tab in tables if re.findall(optional_pat, str(tab))]\n",
    "        if  len(tagets) > 0 : \n",
    "            print(optional_pat)\n",
    "            trs = tagets[0].find_all('tr')\n",
    "            stations = [list(tr.children)[1].get_text().replace(\"\\n\", \"\") for tr in trs[1:] if list(tr.children) and (not re.findall(r\"参考|时间|方向|全程|(备?注)|(\\d{4}年\\d{1,2}月)\", str(tr)))]\n",
    "            if re.findall(r\"内|外环\", str(trs[0])) : \n",
    "                print(\"环线\")\n",
    "                stations.append(stations[0])\n",
    "            lines[k] = stations\n",
    "            continue\n",
    "            \n",
    "        tagets = [tab for tab in tables if re.findall(special_pat, str(tab))]\n",
    "        if  len(tagets) > 0 : \n",
    "            print(special_pat)\n",
    "            trs = tagets[0].find_all('tr')\n",
    "            stations = [list(tr.children)[1].get_text().replace(\"\\n\", \"\") for tr in trs[1:] if list(tr.children) and (not re.findall(r\"参考|时间|方向|全程|(备?注)\", str(tr)))]\n",
    "            if re.findall(r\"[内外]环\", str(trs[0])) : \n",
    "                print(\"环线\")\n",
    "                stations.append(stations[0])\n",
    "            lines[k] = stations\n",
    "            continue     \n",
    "\n",
    "    return lines\n",
    "            \n",
    "# 生成地铁图\n",
    "def create_line_graph(lines) : \n",
    "    gragh = {}\n",
    "    # 生成所有站点信息    \n",
    "    for line_lable,stations in lines.items() : \n",
    "        for station in stations : \n",
    "            s = Station(name=station, line_lable=line_lable, next_stations = [])\n",
    "            if not station in gragh : \n",
    "                gragh[station] = s\n",
    "    \n",
    "    # 关联所有相邻站点\n",
    "    for line_lable,stations in lines.items() : \n",
    "        for i, station in enumerate(stations) : \n",
    "            current_ = gragh[station]\n",
    "            if i != 0 or i != len(stations) - 1 : \n",
    "                if i - 1 >= 0 : \n",
    "                    pre_station = stations[i - 1]\n",
    "                    current_.setNextStations(current_.getNextStations() + [pre_station])\n",
    "                \n",
    "                if i + 1 <= len(stations) - 1 : \n",
    "                    next_station = stations[i + 1]\n",
    "                    current_.setNextStations(current_.getNextStations() + [next_station])\n",
    "\n",
    "    return gragh        \n",
    "\n",
    "# 路线查询\n",
    "def search(start, destination, gragh):\n",
    "    pathes = [[start]]\n",
    "    visitied = set()\n",
    "    \n",
    "    while pathes: # if we find existing pathes\n",
    "        path = pathes.pop(0)\n",
    "        froninter = path[-1]\n",
    "\n",
    "        if froninter in visitied: continue\n",
    "            \n",
    "        successors = gragh[froninter].getNextStations()\n",
    "        \n",
    "        for station in successors:\n",
    "            if station in path: continue  # eliminate loop\n",
    "                \n",
    "            new_path = path + [station]\n",
    "            \n",
    "            pathes.append(new_path)\n",
    "            \n",
    "            if station == destination: return new_path\n",
    "        \n",
    "        visitied.add(froninter)\n",
    "        \n",
    "    return pathes\n",
    "\n",
    "# 打印路线\n",
    "def print_line(line, graph) : \n",
    "    print(\" ---> \".join([station + \"🚇(\" + graph[station].getLineLable() + \")\" for station in line]))"
   ]
  },
  {
   "cell_type": "code",
   "execution_count": 3,
   "metadata": {},
   "outputs": [],
   "source": [
    "soup = spider(contact_item('/item/北京地铁/408485'), 'utf-8')"
   ]
  },
  {
   "cell_type": "code",
   "execution_count": 4,
   "metadata": {},
   "outputs": [],
   "source": [
    "lfs = all_lfs(soup)"
   ]
  },
  {
   "cell_type": "code",
   "execution_count": 5,
   "metadata": {},
   "outputs": [
    {
     "name": "stdout",
     "output_type": "stream",
     "text": [
      "spider 北京地铁1号线\n",
      "1号线.{0,6}首末班?车时[刻|间]表?\n",
      "spider 北京地铁2号线\n",
      "2号线.{0,6}首末班?车时[刻|间]表?\n",
      "环线\n",
      "spider 北京地铁4号线\n",
      "4号线.{0,6}首末班?车时[刻|间]表?\n",
      "spider 北京地铁5号线\n",
      "5号线.{0,6}首末班?车时[刻|间]表?\n",
      "spider 北京地铁6号线\n",
      "6号线.{0,6}首末班?车时[刻|间]表?\n",
      "spider 北京地铁7号线\n",
      "7号线.{0,6}首末班?车时[刻|间]表?\n",
      "spider 北京地铁8号线（北段）\n",
      "8号线（?北段）?.{0,6}首末班?车时[刻|间]表?\n",
      "spider 北京地铁8号线（南段）\n",
      "8号线（?南段）?.{0,6}首末班?车时[刻|间]表?\n",
      "spider 北京地铁9号线\n",
      "9号线.{0,6}首末班?车时[刻|间]表?\n",
      "spider 北京地铁10号线\n",
      "10号线.{0,6}首末班?车时[刻|间]表?\n",
      "环线\n",
      "spider 北京地铁13号线\n",
      "13号线.{0,6}首末班?车时[刻|间]表?\n",
      "spider 北京地铁14号线（西段）\n",
      "14号线（?西段）?.{0,6}首末班?车时[刻|间]表?\n",
      "spider 北京地铁14号线（东段）\n",
      "14号线（?东段）?.{0,6}首末班?车时[刻|间]表?\n",
      "spider 北京地铁15号线\n",
      "15号线.{0,6}首末班?车时[刻|间]表?\n",
      "spider 北京地铁16号线\n",
      "<tr><th.*>车?站?编号</th><th.*>车站名称.*</th>.*<tr>\n",
      "spider 北京地铁八通线\n",
      "八通线.{0,6}首末班?车时[刻|间]表?\n",
      "spider 北京地铁昌平线\n",
      "昌平线.{0,6}首末班?车时[刻|间]表?\n",
      "spider 北京地铁亦庄线\n",
      "车站信息\n",
      "spider 北京地铁房山线\n",
      "房山线.{0,6}首末班?车时[刻|间]表?\n",
      "spider 北京地铁S1线\n",
      "S1线.{0,6}首末班?车时[刻|间]表?\n",
      "spider 北京地铁燕房线\n",
      "<tr><th.*>车?站?编号</th><th.*>车站名称.*</th>.*<tr>\n"
     ]
    }
   ],
   "source": [
    "lines = stations(lfs)"
   ]
  },
  {
   "cell_type": "code",
   "execution_count": 7,
   "metadata": {},
   "outputs": [
    {
     "data": {
      "text/plain": [
       "{'北京地铁1号线': ['苹果园',\n",
       "  '古城',\n",
       "  '八角游乐园',\n",
       "  '八宝山',\n",
       "  '玉泉路',\n",
       "  '五棵松',\n",
       "  '万寿路',\n",
       "  '公主坟',\n",
       "  '军事博物馆',\n",
       "  '木樨地',\n",
       "  '南礼士路',\n",
       "  '复兴门',\n",
       "  '西单',\n",
       "  '天安门西',\n",
       "  '天安门东',\n",
       "  '王府井',\n",
       "  '东单',\n",
       "  '建国门',\n",
       "  '永安里',\n",
       "  '国贸',\n",
       "  '大望路',\n",
       "  '四惠',\n",
       "  '四惠东'],\n",
       " '北京地铁2号线': ['西直门',\n",
       "  '积水潭',\n",
       "  '鼓楼大街',\n",
       "  '安定门',\n",
       "  '雍和宫',\n",
       "  '东直门',\n",
       "  '东四十条',\n",
       "  '朝阳门',\n",
       "  '建国门',\n",
       "  '北京站',\n",
       "  '崇文门',\n",
       "  '前门',\n",
       "  '和平门',\n",
       "  '宣武门',\n",
       "  '长椿街',\n",
       "  '复兴门',\n",
       "  '阜成门',\n",
       "  '车公庄',\n",
       "  '西直门'],\n",
       " '北京地铁4号线': ['安河桥北',\n",
       "  '北宫门',\n",
       "  '西苑',\n",
       "  '圆明园',\n",
       "  '北京大学东门',\n",
       "  '中关村',\n",
       "  '海淀黄庄',\n",
       "  '人民大学',\n",
       "  '魏公村',\n",
       "  '国家图书馆',\n",
       "  '动物园',\n",
       "  '西直门',\n",
       "  '新街口',\n",
       "  '平安里',\n",
       "  '西四',\n",
       "  '灵境胡同',\n",
       "  '西单',\n",
       "  '宣武门',\n",
       "  '菜市口',\n",
       "  '陶然亭',\n",
       "  '北京南站',\n",
       "  '马家堡',\n",
       "  '角门西',\n",
       "  '公益西桥'],\n",
       " '北京地铁5号线': ['宋家庄',\n",
       "  '刘家窑',\n",
       "  '蒲黄榆',\n",
       "  '天坛东门',\n",
       "  '磁器口',\n",
       "  '崇文门',\n",
       "  '东单',\n",
       "  '灯市口',\n",
       "  '东四',\n",
       "  '张自忠路',\n",
       "  '北新桥',\n",
       "  '雍和宫',\n",
       "  '和平里北街',\n",
       "  '和平西桥',\n",
       "  '惠新西街南口',\n",
       "  '惠新西街北口',\n",
       "  '大屯路东',\n",
       "  '北苑路北',\n",
       "  '立水桥南',\n",
       "  '立水桥',\n",
       "  '天通苑南',\n",
       "  '天通苑',\n",
       "  '天通苑北'],\n",
       " '北京地铁6号线': ['金安桥',\n",
       "  '苹果园',\n",
       "  '杨庄',\n",
       "  '西黄村',\n",
       "  '廖公庄',\n",
       "  '田村',\n",
       "  '海淀五路居',\n",
       "  '慈寿寺',\n",
       "  '花园桥',\n",
       "  '白石桥南',\n",
       "  '车公庄西',\n",
       "  '车公庄',\n",
       "  '平安里',\n",
       "  '北海北',\n",
       "  '南锣鼓巷',\n",
       "  '东四',\n",
       "  '朝阳门',\n",
       "  '东大桥',\n",
       "  '呼家楼',\n",
       "  '金台路',\n",
       "  '十里堡',\n",
       "  '青年路',\n",
       "  '褡裢坡',\n",
       "  '黄渠',\n",
       "  '常营',\n",
       "  '草房',\n",
       "  '物资学院路',\n",
       "  '通州北关',\n",
       "  '通运门',\n",
       "  '北运河西',\n",
       "  '北运河东',\n",
       "  '郝家府',\n",
       "  '东夏园',\n",
       "  '潞城'],\n",
       " '北京地铁7号线': ['北京西站',\n",
       "  '湾子',\n",
       "  '达官营',\n",
       "  '广安门内',\n",
       "  '菜市口',\n",
       "  '虎坊桥',\n",
       "  '珠市口',\n",
       "  '桥湾',\n",
       "  '磁器口',\n",
       "  '广渠门内',\n",
       "  '广渠门外',\n",
       "  '双井',\n",
       "  '九龙山',\n",
       "  '大郊亭',\n",
       "  '百子湾',\n",
       "  '化工',\n",
       "  '南楼梓庄',\n",
       "  '欢乐谷景区',\n",
       "  '垡头',\n",
       "  '双合',\n",
       "  '焦化厂'],\n",
       " '北京地铁8号线（北段）': ['朱辛庄',\n",
       "  '育知路',\n",
       "  '平西府',\n",
       "  '回龙观东大街',\n",
       "  '霍营',\n",
       "  '育新',\n",
       "  '西小口',\n",
       "  '永泰庄',\n",
       "  '林萃桥',\n",
       "  '森林公园南门',\n",
       "  '奥林匹克公园',\n",
       "  '奥体中心',\n",
       "  '北土城',\n",
       "  '安华桥',\n",
       "  '安德里北街',\n",
       "  '鼓楼大街',\n",
       "  '什刹海',\n",
       "  '南锣鼓巷',\n",
       "  '中国美术馆'],\n",
       " '北京地铁8号线（南段）': ['瀛海',\n",
       "  '德茂',\n",
       "  '五福堂',\n",
       "  '火箭万源',\n",
       "  '东高地',\n",
       "  '和义',\n",
       "  '大红门南',\n",
       "  '大红门',\n",
       "  '海户屯',\n",
       "  '木樨园',\n",
       "  '永定门外',\n",
       "  '天桥',\n",
       "  '珠市口'],\n",
       " '北京地铁9号线': ['郭公庄',\n",
       "  '丰台科技园',\n",
       "  '科怡路',\n",
       "  '丰台南路',\n",
       "  '丰台东大街',\n",
       "  '七里庄',\n",
       "  '六里桥',\n",
       "  '六里桥东',\n",
       "  '北京西站',\n",
       "  '军事博物馆',\n",
       "  '白堆子',\n",
       "  '白石桥南',\n",
       "  '国家图书馆'],\n",
       " '北京地铁10号线': ['巴沟',\n",
       "  '苏州街',\n",
       "  '海淀黄庄',\n",
       "  '知春里',\n",
       "  '知春路',\n",
       "  '西土城',\n",
       "  '牡丹园',\n",
       "  '健德门',\n",
       "  '北土城',\n",
       "  '安贞门',\n",
       "  '惠新西街南口',\n",
       "  '芍药居',\n",
       "  '太阳宫',\n",
       "  '三元桥',\n",
       "  '亮马桥',\n",
       "  '农业展览馆',\n",
       "  '团结湖',\n",
       "  '呼家楼',\n",
       "  '金台夕照',\n",
       "  '国贸',\n",
       "  '双井',\n",
       "  '劲松',\n",
       "  '潘家园',\n",
       "  '十里河',\n",
       "  '分钟寺',\n",
       "  '成寿寺',\n",
       "  '宋家庄',\n",
       "  '石榴庄',\n",
       "  '大红门',\n",
       "  '角门东',\n",
       "  '角门西',\n",
       "  '草桥',\n",
       "  '纪家庙',\n",
       "  '首经贸',\n",
       "  '丰台站',\n",
       "  '泥洼',\n",
       "  '西局',\n",
       "  '六里桥',\n",
       "  '莲花桥',\n",
       "  '公主坟',\n",
       "  '西钓鱼台',\n",
       "  '慈寿寺',\n",
       "  '车道沟',\n",
       "  '长春桥',\n",
       "  '火器营',\n",
       "  '巴沟'],\n",
       " '北京地铁13号线': ['西直门',\n",
       "  '明光桥西',\n",
       "  '大钟寺',\n",
       "  '知春路',\n",
       "  '五道口',\n",
       "  '清华东路西口',\n",
       "  '上地',\n",
       "  '清河站',\n",
       "  '西二旗',\n",
       "  '龙泽',\n",
       "  '回龙观',\n",
       "  '霍营',\n",
       "  '建材城东路',\n",
       "  '立水桥',\n",
       "  '北苑',\n",
       "  '来广营西',\n",
       "  '望京西',\n",
       "  '望和桥',\n",
       "  '芍药居',\n",
       "  '光熙门',\n",
       "  '柳芳',\n",
       "  '东直门'],\n",
       " '北京地铁14号线（西段）': ['张郭庄', '园博园', '大瓦窑', '郭庄子', '大井', '七里庄', '西局'],\n",
       " '北京地铁14号线（东段）': ['北京南站',\n",
       "  '永定门外',\n",
       "  '景泰',\n",
       "  '蒲黄榆',\n",
       "  '方庄',\n",
       "  '十里河',\n",
       "  '北工大西门',\n",
       "  '九龙山',\n",
       "  '大望路',\n",
       "  '金台路',\n",
       "  '朝阳公园',\n",
       "  '枣营',\n",
       "  '东风北桥',\n",
       "  '将台',\n",
       "  '望京南',\n",
       "  '阜通',\n",
       "  '望京',\n",
       "  '东湖渠',\n",
       "  '来广营',\n",
       "  '善各庄'],\n",
       " '北京地铁15号线': ['俸伯',\n",
       "  '顺义',\n",
       "  '石门',\n",
       "  '南法信',\n",
       "  '后沙峪',\n",
       "  '花梨坎',\n",
       "  '国展',\n",
       "  '孙河',\n",
       "  '马泉营',\n",
       "  '崔各庄',\n",
       "  '望京东',\n",
       "  '望京',\n",
       "  '望京西',\n",
       "  '关庄',\n",
       "  '大屯路东',\n",
       "  '安立路',\n",
       "  '奥林匹克公园',\n",
       "  '北沙滩',\n",
       "  '六道口',\n",
       "  '清华东路西口'],\n",
       " '北京地铁16号线': ['宛平站',\n",
       "  '榆树庄站',\n",
       "  '看丹站',\n",
       "  '富丰桥站',\n",
       "  '丰台南路站',\n",
       "  '丰台站',\n",
       "  '丰益桥南站',\n",
       "  '丽泽商务区站',\n",
       "  '红莲南里站',\n",
       "  '达官营站',\n",
       "  '木樨地站',\n",
       "  '玉渊潭东门站',\n",
       "  '甘家口站',\n",
       "  '二里沟站',\n",
       "  '国家图书馆站',\n",
       "  '万寿寺站',\n",
       "  '苏州桥站',\n",
       "  '苏州街站',\n",
       "  '万泉河桥站',\n",
       "  '西苑站',\n",
       "  '农大南路站',\n",
       "  '马连洼站',\n",
       "  '西北旺站',\n",
       "  '永丰南站',\n",
       "  '永丰站',\n",
       "  '屯佃站',\n",
       "  '稻香湖路站',\n",
       "  '温阳路站',\n",
       "  '北安河站'],\n",
       " '北京地铁八通线': ['四惠',\n",
       "  '四惠东',\n",
       "  '高碑店',\n",
       "  '传媒大学',\n",
       "  '双桥',\n",
       "  '管庄',\n",
       "  '八里桥',\n",
       "  '通州北苑',\n",
       "  '果园',\n",
       "  '九棵树',\n",
       "  '梨园',\n",
       "  '临河里',\n",
       "  '土桥'],\n",
       " '北京地铁昌平线': ['昌平西山口',\n",
       "  '十三陵景区',\n",
       "  '昌平',\n",
       "  '昌平东关',\n",
       "  '北邵洼',\n",
       "  '南邵',\n",
       "  '沙河高教园',\n",
       "  '沙河',\n",
       "  '巩华城',\n",
       "  '朱辛庄',\n",
       "  '生命科学园',\n",
       "  '西二旗'],\n",
       " '北京地铁亦庄线': ['宋家庄站',\n",
       "  '肖村站',\n",
       "  '小红门站',\n",
       "  '旧宫站',\n",
       "  '亦庄桥站',\n",
       "  '亦庄文化园站',\n",
       "  '万源街站',\n",
       "  '荣京东街站',\n",
       "  '荣昌东街站',\n",
       "  '经海路站',\n",
       "  '次渠南站',\n",
       "  '次渠站',\n",
       "  '亦庄火车站'],\n",
       " '北京地铁房山线': ['郭公庄',\n",
       "  '大葆台',\n",
       "  '稻田',\n",
       "  '长阳',\n",
       "  '篱笆房',\n",
       "  '广阳城',\n",
       "  '良乡大学城北',\n",
       "  '良乡大学城',\n",
       "  '良乡大学城西',\n",
       "  '良乡南关',\n",
       "  '苏庄',\n",
       "  '阎村东'],\n",
       " '北京地铁S1线': ['苹果园站', '金安桥站', '四道桥站', '桥户营站', '上岸站', '栗园庄站', '小园站', '石厂站'],\n",
       " '北京地铁燕房线': ['阎村东站',\n",
       "  '紫草坞站',\n",
       "  '阎村站',\n",
       "  '星城站',\n",
       "  '大石河东站',\n",
       "  '马各庄站',\n",
       "  '饶乐府站',\n",
       "  '房山城关站',\n",
       "  '燕山站',\n",
       "  '老城区站',\n",
       "  '顾册站',\n",
       "  '周口店镇站']}"
      ]
     },
     "execution_count": 7,
     "metadata": {},
     "output_type": "execute_result"
    }
   ],
   "source": [
    "lines"
   ]
  },
  {
   "cell_type": "code",
   "execution_count": 8,
   "metadata": {},
   "outputs": [],
   "source": [
    "def print_sub(lines) : \n",
    "    G = nx.Graph()\n",
    "    for k, v in lines.items() : \n",
    "        i = 0\n",
    "        while i < len(v) - 1 : \n",
    "            x = v[i]\n",
    "            y = v[i + 1]\n",
    "            G.add_edge(x, y, len=\"10.0\")\n",
    "            i += 1\n",
    "    \n",
    "    nx.draw(G, with_labels=True, node_size=60, font_size=15)\n",
    "    plt.rcParams['font.sans-serif']=['SimHei']\n",
    "    plt.show()"
   ]
  },
  {
   "cell_type": "code",
   "execution_count": 9,
   "metadata": {},
   "outputs": [
    {
     "name": "stderr",
     "output_type": "stream",
     "text": [
      "/Users/yeah/anaconda3/lib/python3.7/site-packages/networkx/drawing/nx_pylab.py:611: MatplotlibDeprecationWarning: isinstance(..., numbers.Number)\n",
      "  if cb.is_numlike(alpha):\n"
     ]
    },
    {
     "data": {
      "image/png": "[encoded data removed]",
      "text/plain": [
       "<Figure size 432x288 with 1 Axes>"
      ]
     },
     "metadata": {},
     "output_type": "display_data"
    }
   ],
   "source": [
    "print_sub(lines)"
   ]
  },
  {
   "cell_type": "code",
   "execution_count": 10,
   "metadata": {},
   "outputs": [],
   "source": [
    "line_graph = create_line_graph(lines)"
   ]
  },
  {
   "cell_type": "code",
   "execution_count": 11,
   "metadata": {},
   "outputs": [
    {
     "data": {
      "text/plain": [
       "\"name = 苹果园,line_lable = 北京地铁1号线,next_stations = ['古城', '金安桥', '杨庄']\""
      ]
     },
     "execution_count": 11,
     "metadata": {},
     "output_type": "execute_result"
    }
   ],
   "source": [
    "line_graph['苹果园'].to_str()"
   ]
  },
  {
   "cell_type": "code",
   "execution_count": 12,
   "metadata": {},
   "outputs": [
    {
     "data": {
      "text/plain": [
       "\"name = 东单,line_lable = 北京地铁1号线,next_stations = ['王府井', '建国门', '崇文门', '灯市口']\""
      ]
     },
     "execution_count": 12,
     "metadata": {},
     "output_type": "execute_result"
    }
   ],
   "source": [
    "line_graph['东单'].to_str()"
   ]
  },
  {
   "cell_type": "code",
   "execution_count": 13,
   "metadata": {},
   "outputs": [
    {
     "data": {
      "text/plain": [
       "\"name = 巴沟,line_lable = 北京地铁10号线,next_stations = ['苏州街', '火器营']\""
      ]
     },
     "execution_count": 13,
     "metadata": {},
     "output_type": "execute_result"
    }
   ],
   "source": [
    "line_graph['巴沟'].to_str()"
   ]
  },
  {
   "cell_type": "code",
   "execution_count": 14,
   "metadata": {},
   "outputs": [
    {
     "data": {
      "text/plain": [
       "\"name = 西直门,line_lable = 北京地铁2号线,next_stations = ['积水潭', '车公庄', '动物园', '新街口', '明光桥西']\""
      ]
     },
     "execution_count": 14,
     "metadata": {},
     "output_type": "execute_result"
    }
   ],
   "source": [
    "line_graph['西直门'].to_str()"
   ]
  },
  {
   "cell_type": "code",
   "execution_count": 15,
   "metadata": {},
   "outputs": [
    {
     "data": {
      "text/plain": [
       "\"name = 古城,line_lable = 北京地铁1号线,next_stations = ['苹果园', '八角游乐园']\""
      ]
     },
     "execution_count": 15,
     "metadata": {},
     "output_type": "execute_result"
    }
   ],
   "source": [
    "line_graph['古城'].to_str()"
   ]
  },
  {
   "cell_type": "code",
   "execution_count": 16,
   "metadata": {},
   "outputs": [
    {
     "data": {
      "text/plain": [
       "['苹果园',\n",
       " '古城',\n",
       " '八角游乐园',\n",
       " '八宝山',\n",
       " '玉泉路',\n",
       " '五棵松',\n",
       " '万寿路',\n",
       " '公主坟',\n",
       " '军事博物馆',\n",
       " '木樨地',\n",
       " '南礼士路',\n",
       " '复兴门',\n",
       " '西单',\n",
       " '天安门西',\n",
       " '天安门东',\n",
       " '王府井',\n",
       " '东单']"
      ]
     },
     "execution_count": 16,
     "metadata": {},
     "output_type": "execute_result"
    }
   ],
   "source": [
    "search('苹果园', '东单', line_graph)"
   ]
  },
  {
   "cell_type": "code",
   "execution_count": 17,
   "metadata": {},
   "outputs": [
    {
     "name": "stdout",
     "output_type": "stream",
     "text": [
      "五棵松🚇(北京地铁1号线) ---> 万寿路🚇(北京地铁1号线) ---> 公主坟🚇(北京地铁1号线) ---> 军事博物馆🚇(北京地铁1号线) ---> 北京西站🚇(北京地铁7号线) ---> 湾子🚇(北京地铁7号线) ---> 达官营🚇(北京地铁7号线) ---> 广安门内🚇(北京地铁7号线) ---> 菜市口🚇(北京地铁4号线) ---> 陶然亭🚇(北京地铁4号线) ---> 北京南站🚇(北京地铁4号线) ---> 永定门外🚇(北京地铁8号线（南段）) ---> 景泰🚇(北京地铁14号线（东段）) ---> 蒲黄榆🚇(北京地铁5号线) ---> 方庄🚇(北京地铁14号线（东段）)\n"
     ]
    }
   ],
   "source": [
    "print_line(search('五棵松', '方庄', line_graph), line_graph)"
   ]
  },
  {
   "cell_type": "markdown",
   "metadata": {},
   "source": [
    "##### 3. Build the search agent\n",
    "\n",
    "> Build the search agent based on the graph we build.\n",
    "\n",
    "for example, when you run: \n",
    "\n",
    "```python\n",
    ">>> search('奥体中心', '天安门') \n",
    "```\n",
    "you need get the result: \n",
    "\n",
    "奥体中心-> A -> B -> C -> ... -> 天安门\n",
    "\n"
   ]
  },
  {
   "cell_type": "code",
   "execution_count": null,
   "metadata": {},
   "outputs": [],
   "source": []
  },
  {
   "cell_type": "markdown",
   "metadata": {},
   "source": [
    "## （Optional）Create different policies for transfer system.\n"
   ]
  },
  {
   "cell_type": "markdown",
   "metadata": {},
   "source": [
    "以下部门为可选部分，请酌情完成。 并不要求全部同学完成。"
   ]
  },
  {
   "cell_type": "markdown",
   "metadata": {},
   "source": [
    "As much as you can to use the already implemented search agent. You just need to define the **is_goal()**, **get_successor()**, **strategy()** three functions. \n",
    "\n",
    "> a.\tDefine different policies for transfer system. \n",
    "\n",
    "> b.\tSuch as Shortest Path Priority（路程最短优先）, Minimum Transfer Priority(最少换乘优先), Comprehensive Priority(综合优先)\n",
    "\n",
    "> c.\tImplement Continuous transfer. Based on the Agent you implemented, please add this feature: Besides the @param start and @param destination two stations, add some more stations, we called @param by_way, it means, our path should from the start and end, but also include the  @param by_way stations. \n",
    "\n",
    "e.g \n",
    "```\n",
    "1. Input:  start=A,  destination=B, by_way=[C] \n",
    "    Output: [A, … .., C, …. B]\n",
    "2. Input: start=A, destination=B, by_way=[C, D, E]\n",
    "    Output: [A … C … E … D … B]  \n",
    "    # based on your policy, the E station could be reached firstly. \n",
    "![image.png](attachment:image.png)\n",
    "```"
   ]
  },
  {
   "cell_type": "markdown",
   "metadata": {},
   "source": [
    "##### 5.\tTest your result with commercial applications. \n",
    "\n",
    "将你的结果和高德地图或者百度地图进行比较，如果有不同，请分析原因\n"
   ]
  },
  {
   "cell_type": "markdown",
   "metadata": {},
   "source": [
    "恭喜，完成本次课程，你对常用的人工智能方法以及有一定的了解了。基于规则的，基于概率模型的，基于搜索的，基于机器学习的。 可以说，我们现在通常见到的方法都能够归属到这几类方法中。 这就是**人工智能**，并没有很难是吧？ 继续加油！"
   ]
  },
  {
   "cell_type": "markdown",
   "metadata": {},
   "source": [
    "![](https://timgsa.baidu.com/timg?image&quality=80&size=b9999_10000&sec=1562415163815&di=4b29a2a863a8285212033760f288ed7a&imgtype=0&src=http%3A%2F%2F5b0988e595225.cdn.sohucs.com%2Fimages%2F20180710%2F8704194a1d7f46a383ddc29d40c9bca5.jpeg)"
   ]
  }
 ],
 "metadata": {
  "kernelspec": {
   "display_name": "Python 3",
   "language": "python",
   "name": "python3"
  },
  "language_info": {
   "codemirror_mode": {
    "name": "ipython",
    "version": 3
   },
   "file_extension": ".py",
   "mimetype": "text/x-python",
   "name": "python",
   "nbconvert_exporter": "python",
   "pygments_lexer": "ipython3",
   "version": "3.7.1"
  }
 },
 "nbformat": 4,
 "nbformat_minor": 2
}
