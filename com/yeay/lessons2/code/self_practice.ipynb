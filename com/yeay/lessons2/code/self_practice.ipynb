{
 "cells": [
  {
   "cell_type": "markdown",
   "metadata": {},
   "source": [
    "##### 课程练习\n",
    "\n",
    "* 决策问题/基于搜索"
   ]
  },
  {
   "cell_type": "code",
   "execution_count": 1,
   "metadata": {},
   "outputs": [
    {
     "name": "stdout",
     "output_type": "stream",
     "text": [
      "['/Users/yeah/anaconda3/lib/python3.7/site-packages/matplotlib']\n"
     ]
    }
   ],
   "source": [
    "import matplotlib\n",
    "print(matplotlib.__path__)"
   ]
  },
  {
   "cell_type": "code",
   "execution_count": 2,
   "metadata": {},
   "outputs": [],
   "source": [
    "coordination_source = \"\"\"\n",
    "{name:'兰州', geoCoord:[103.73, 36.03]},\n",
    "{name:'嘉峪关', geoCoord:[98.17, 39.47]},\n",
    "{name:'西宁', geoCoord:[101.74, 36.56]},\n",
    "{name:'成都', geoCoord:[104.06, 30.67]},\n",
    "{name:'石家庄', geoCoord:[114.48, 38.03]},\n",
    "{name:'拉萨', geoCoord:[102.73, 25.04]},\n",
    "{name:'贵阳', geoCoord:[106.71, 26.57]},\n",
    "{name:'武汉', geoCoord:[114.31, 30.52]},\n",
    "{name:'郑州', geoCoord:[113.65, 34.76]},\n",
    "{name:'济南', geoCoord:[117, 36.65]},\n",
    "{name:'南京', geoCoord:[118.78, 32.04]},\n",
    "{name:'合肥', geoCoord:[117.27, 31.86]},\n",
    "{name:'杭州', geoCoord:[120.19, 30.26]},\n",
    "{name:'南昌', geoCoord:[115.89, 28.68]},\n",
    "{name:'福州', geoCoord:[119.3, 26.08]},\n",
    "{name:'广州', geoCoord:[113.23, 23.16]},\n",
    "{name:'长沙', geoCoord:[113, 28.21]},\n",
    "//{name:'海口', geoCoord:[110.35, 20.02]},\n",
    "{name:'沈阳', geoCoord:[123.38, 41.8]},\n",
    "{name:'长春', geoCoord:[125.35, 43.88]},\n",
    "{name:'哈尔滨', geoCoord:[126.63, 45.75]},\n",
    "{name:'太原', geoCoord:[112.53, 37.87]},\n",
    "{name:'西安', geoCoord:[108.95, 34.27]},\n",
    "//{name:'台湾', geoCoord:[121.30, 25.03]},\n",
    "{name:'北京', geoCoord:[116.46, 39.92]},\n",
    "{name:'上海', geoCoord:[121.48, 31.22]},\n",
    "{name:'重庆', geoCoord:[106.54, 29.59]},\n",
    "{name:'天津', geoCoord:[117.2, 39.13]},\n",
    "{name:'呼和浩特', geoCoord:[111.65, 40.82]},\n",
    "{name:'南宁', geoCoord:[108.33, 22.84]},\n",
    "//{name:'西藏', geoCoord:[91.11, 29.97]},\n",
    "{name:'银川', geoCoord:[106.27, 38.47]},\n",
    "{name:'乌鲁木齐', geoCoord:[87.68, 43.77]},\n",
    "{name:'香港', geoCoord:[114.17, 22.28]},\n",
    "{name:'澳门', geoCoord:[113.54, 22.19]}\n",
    "\"\"\""
   ]
  },
  {
   "cell_type": "code",
   "execution_count": 3,
   "metadata": {},
   "outputs": [],
   "source": [
    "import networkx as nx"
   ]
  },
  {
   "cell_type": "code",
   "execution_count": 4,
   "metadata": {},
   "outputs": [],
   "source": [
    "import re"
   ]
  },
  {
   "cell_type": "code",
   "execution_count": 5,
   "metadata": {},
   "outputs": [],
   "source": [
    "city_location = {}"
   ]
  },
  {
   "cell_type": "code",
   "execution_count": 6,
   "metadata": {},
   "outputs": [],
   "source": [
    "test_string = \"{name:'兰州',  geoCoord:[103.73, 36.03]}\""
   ]
  },
  {
   "cell_type": "code",
   "execution_count": 7,
   "metadata": {},
   "outputs": [],
   "source": [
    "pattern = r\"name:'(\\w+)', geoCoord:\\[(\\d+.?\\d+), (\\d+.?\\d+)\\]\""
   ]
  },
  {
   "cell_type": "code",
   "execution_count": 8,
   "metadata": {},
   "outputs": [
    {
     "data": {
      "text/plain": [
       "[]"
      ]
     },
     "execution_count": 8,
     "metadata": {},
     "output_type": "execute_result"
    }
   ],
   "source": [
    "re.findall(pattern, test_string)"
   ]
  },
  {
   "cell_type": "code",
   "execution_count": 9,
   "metadata": {},
   "outputs": [],
   "source": [
    "for line in coordination_source.split('\\n') : \n",
    "    city_info = re.findall(pattern, line)\n",
    "    if not city_info : continue\n",
    "        \n",
    "    city, long, lat = city_info[0]    \n",
    "    city_location[city] = (float(long), float(lat))    "
   ]
  },
  {
   "cell_type": "code",
   "execution_count": 10,
   "metadata": {},
   "outputs": [
    {
     "data": {
      "text/plain": [
       "{'兰州': (103.73, 36.03),\n",
       " '嘉峪关': (98.17, 39.47),\n",
       " '西宁': (101.74, 36.56),\n",
       " '成都': (104.06, 30.67),\n",
       " '石家庄': (114.48, 38.03),\n",
       " '拉萨': (102.73, 25.04),\n",
       " '贵阳': (106.71, 26.57),\n",
       " '武汉': (114.31, 30.52),\n",
       " '郑州': (113.65, 34.76),\n",
       " '济南': (117.0, 36.65),\n",
       " '南京': (118.78, 32.04),\n",
       " '合肥': (117.27, 31.86),\n",
       " '杭州': (120.19, 30.26),\n",
       " '南昌': (115.89, 28.68),\n",
       " '福州': (119.3, 26.08),\n",
       " '广州': (113.23, 23.16),\n",
       " '长沙': (113.0, 28.21),\n",
       " '海口': (110.35, 20.02),\n",
       " '沈阳': (123.38, 41.8),\n",
       " '长春': (125.35, 43.88),\n",
       " '哈尔滨': (126.63, 45.75),\n",
       " '太原': (112.53, 37.87),\n",
       " '西安': (108.95, 34.27),\n",
       " '台湾': (121.3, 25.03),\n",
       " '北京': (116.46, 39.92),\n",
       " '上海': (121.48, 31.22),\n",
       " '重庆': (106.54, 29.59),\n",
       " '天津': (117.2, 39.13),\n",
       " '呼和浩特': (111.65, 40.82),\n",
       " '南宁': (108.33, 22.84),\n",
       " '西藏': (91.11, 29.97),\n",
       " '银川': (106.27, 38.47),\n",
       " '乌鲁木齐': (87.68, 43.77),\n",
       " '香港': (114.17, 22.28),\n",
       " '澳门': (113.54, 22.19)}"
      ]
     },
     "execution_count": 10,
     "metadata": {},
     "output_type": "execute_result"
    }
   ],
   "source": [
    "city_location"
   ]
  },
  {
   "cell_type": "code",
   "execution_count": 11,
   "metadata": {},
   "outputs": [],
   "source": [
    "import math"
   ]
  },
  {
   "cell_type": "code",
   "execution_count": 12,
   "metadata": {},
   "outputs": [],
   "source": [
    "def geo_distance(origin, destination):\n",
    "    \"\"\"\n",
    "    Calculate the Haversine distance.\n",
    "\n",
    "    Parameters\n",
    "    ----------\n",
    "    origin : tuple of float\n",
    "        (lat, long)\n",
    "    destination : tuple of float\n",
    "        (lat, long)\n",
    "\n",
    "    Returns\n",
    "    -------\n",
    "    distance_in_km : float\n",
    "\n",
    "    Examples\n",
    "    --------\n",
    "    >>> origin = (48.1372, 11.5756)  # Munich\n",
    "    >>> destination = (52.5186, 13.4083)  # Berlin\n",
    "    >>> round(distance(origin, destination), 1)\n",
    "    504.2\n",
    "    \"\"\"\n",
    "    lat1, lon1 = origin\n",
    "    lat2, lon2 = destination\n",
    "    radius = 6371  # km\n",
    "\n",
    "    dlat = math.radians(lat2 - lat1)\n",
    "    dlon = math.radians(lon2 - lon1)\n",
    "    a = (math.sin(dlat / 2) * math.sin(dlat / 2) +\n",
    "         math.cos(math.radians(lat1)) * math.cos(math.radians(lat2)) *\n",
    "         math.sin(dlon / 2) * math.sin(dlon / 2))\n",
    "    c = 2 * math.atan2(math.sqrt(a), math.sqrt(1 - a))\n",
    "    d = radius * c\n",
    "\n",
    "    return d"
   ]
  },
  {
   "cell_type": "code",
   "execution_count": 13,
   "metadata": {},
   "outputs": [],
   "source": [
    "def get_geo_distance(city1, city2) : \n",
    "    return geo_distance(city_location[city1], city_location[city2])"
   ]
  },
  {
   "cell_type": "code",
   "execution_count": 14,
   "metadata": {},
   "outputs": [
    {
     "data": {
      "text/plain": [
       "147.69829169296833"
      ]
     },
     "execution_count": 14,
     "metadata": {},
     "output_type": "execute_result"
    }
   ],
   "source": [
    "get_geo_distance('兰州', '成都')"
   ]
  },
  {
   "cell_type": "code",
   "execution_count": 15,
   "metadata": {},
   "outputs": [
    {
     "data": {
      "text/plain": [
       "153.5185697155768"
      ]
     },
     "execution_count": 15,
     "metadata": {},
     "output_type": "execute_result"
    }
   ],
   "source": [
    "get_geo_distance('上海', '杭州')"
   ]
  },
  {
   "cell_type": "code",
   "execution_count": 16,
   "metadata": {},
   "outputs": [],
   "source": [
    "import networkx as nx"
   ]
  },
  {
   "cell_type": "code",
   "execution_count": 17,
   "metadata": {},
   "outputs": [],
   "source": [
    "city_graph = nx.Graph()"
   ]
  },
  {
   "cell_type": "code",
   "execution_count": 18,
   "metadata": {},
   "outputs": [],
   "source": [
    "city_graph.add_nodes_from(city_location.keys())"
   ]
  },
  {
   "cell_type": "code",
   "execution_count": 19,
   "metadata": {},
   "outputs": [],
   "source": [
    "%matplotlib inline"
   ]
  },
  {
   "cell_type": "code",
   "execution_count": 20,
   "metadata": {},
   "outputs": [],
   "source": [
    "import matplotlib.pyplot as plt"
   ]
  },
  {
   "cell_type": "code",
   "execution_count": 21,
   "metadata": {},
   "outputs": [],
   "source": [
    "plt.rcParams['font.sans-serif'] = ['SimHei']\n",
    "plt.rcParams['axes.unicode_minus'] = False"
   ]
  },
  {
   "cell_type": "code",
   "execution_count": 22,
   "metadata": {},
   "outputs": [
    {
     "data": {
      "image/png": "[encoded data removed]",
      "text/plain": [
       "<Figure size 432x288 with 1 Axes>"
      ]
     },
     "metadata": {},
     "output_type": "display_data"
    }
   ],
   "source": [
    "nx.draw(city_graph, city_location, with_labels = True, node_size = 30)"
   ]
  },
  {
   "cell_type": "code",
   "execution_count": 368,
   "metadata": {},
   "outputs": [
    {
     "name": "stderr",
     "output_type": "stream",
     "text": [
      "/Users/yeah/anaconda3/lib/python3.7/site-packages/networkx/drawing/nx_pylab.py:611: MatplotlibDeprecationWarning: isinstance(..., numbers.Number)\n",
      "  if cb.is_numlike(alpha):\n"
     ]
    },
    {
     "data": {
      "image/png": "[encoded data removed]",
      "text/plain": [
       "<Figure size 432x288 with 1 Axes>"
      ]
     },
     "metadata": {},
     "output_type": "display_data"
    }
   ],
   "source": [
    "nx.draw(city_graph, with_labels = True, node_size = 30)"
   ]
  },
  {
   "cell_type": "code",
   "execution_count": 46,
   "metadata": {},
   "outputs": [],
   "source": [
    "from collections import defaultdict"
   ]
  },
  {
   "cell_type": "code",
   "execution_count": 36,
   "metadata": {},
   "outputs": [],
   "source": [
    "simple_connection_info = {\n",
    "    '北京' : ['太原', '沈阳'],\n",
    "    '沈阳' : ['北京'],\n",
    "    '太原' : ['北京', '西安', '郑州'],\n",
    "    '郑州' : ['太原'],\n",
    "    '兰州' : ['西安'],\n",
    "    '西安' : ['兰州', '长沙'],\n",
    "    '长沙' : ['福州', '南宁']\n",
    "}"
   ]
  },
  {
   "cell_type": "code",
   "execution_count": 37,
   "metadata": {},
   "outputs": [
    {
     "name": "stderr",
     "output_type": "stream",
     "text": [
      "/Users/yeah/anaconda3/lib/python3.7/site-packages/networkx/drawing/nx_pylab.py:611: MatplotlibDeprecationWarning: isinstance(..., numbers.Number)\n",
      "  if cb.is_numlike(alpha):\n"
     ]
    },
    {
     "data": {
      "image/png": "[encoded data removed]",
      "text/plain": [
       "<Figure size 432x288 with 1 Axes>"
      ]
     },
     "metadata": {},
     "output_type": "display_data"
    }
   ],
   "source": [
    "nx.draw(nx.Graph(simple_connection_info), city_location, with_labels=True)"
   ]
  },
  {
   "cell_type": "markdown",
   "metadata": {},
   "source": [
    "输入起点，终点，获取能到达目的地的路线\n",
    "###### 思考过程\n",
    "如：北京 -> 福州\n",
    "* 查看起点的连接点  \n",
    "    北京 -> [太原, 沈阳]\n",
    "* 获取到所有连接点后，看连接点的连接情况 \n",
    "    太原 -> [西安, 郑州]，沈阳 -> [北京]\n",
    "    其中'北京'已经看过，则沈阳 -> 北京 无效\n",
    "    太原 -> [西安, 郑州]\n",
    "* 西安 -> [兰州, 长沙] 郑州 -> [太原]\n",
    "    西安 -> [兰州, 长沙]\n",
    "* 兰州 -> [西安] 长沙 -> [南宁, 福州]\n",
    "    长沙 -> [南宁, 福州]\n",
    "* 南宁 -> [长沙] 福州（目的地）\n",
    "* 北京 -> 太原 -> 西安 -> 长沙 -> 福州"
   ]
  },
  {
   "cell_type": "code",
   "execution_count": 194,
   "metadata": {},
   "outputs": [],
   "source": [
    "# 路线搜索 breath first 广度优先\n",
    "def search_by_bfs(city1, city2, connection_graph) :\n",
    "    # 探索的所有路线  已知开始路线  \n",
    "    paths = [[city1]]\n",
    "    \n",
    "    # visited 已查看过\n",
    "    visited = set()\n",
    "    # 需要继续扩展\n",
    "    while paths : \n",
    "        print(\"paths\")\n",
    "        print(paths)\n",
    "        # 弹出头部\n",
    "        path = paths.pop() \n",
    "        print(\"path\")\n",
    "        print(path)\n",
    "        # 获取路线的尾部\n",
    "        froninter = path[-1]\n",
    "        # 尾部是否已经访问\n",
    "        if froninter in visited : continue\n",
    "        # 未访问，获取所有节点    \n",
    "        successors = connection_graph[froninter]\n",
    "        \n",
    "        for city in successors : \n",
    "            #去除 [北京，沈阳，北京] 这种回路探索\n",
    "            if city in path : continue\n",
    "            new_path = path + [city]\n",
    "            paths = [new_path] + paths\n",
    "            if city == city2 : return new_path\n",
    "        # 添加访问过的城市\n",
    "        visited.add(froninter)\n",
    "    "
   ]
  },
  {
   "cell_type": "code",
   "execution_count": 197,
   "metadata": {},
   "outputs": [],
   "source": [
    "# 路线搜索 depth first 深度优先\n",
    "def search_by_dfs(city1, city2, connection_graph) :\n",
    "    # 探索的所有路线  已知开始路线  \n",
    "    paths = [[city1]]\n",
    "    \n",
    "    # visited 已查看过\n",
    "    visited = set()\n",
    "    # 需要继续扩展\n",
    "    while paths : \n",
    "        print(\"paths\")\n",
    "        print(paths)\n",
    "        # 弹出头部\n",
    "        path = paths.pop() \n",
    "        print(\"path\")\n",
    "        print(path)\n",
    "        # 获取路线的尾部\n",
    "        froninter = path[-1]\n",
    "        # 尾部是否已经访问\n",
    "        if froninter in visited : continue\n",
    "        # 未访问，获取所有节点    \n",
    "        successors = connection_graph[froninter]\n",
    "        \n",
    "        for city in successors : \n",
    "            #去除 [北京，沈阳，北京] 这种回路探索\n",
    "            if city in path : continue\n",
    "            new_path = path + [city]\n",
    "            paths.append(new_path)\n",
    "            if city == city2 : return new_path\n",
    "        # 添加访问过的城市\n",
    "        visited.add(froninter)\n",
    "    "
   ]
  },
  {
   "cell_type": "code",
   "execution_count": 40,
   "metadata": {},
   "outputs": [
    {
     "name": "stdout",
     "output_type": "stream",
     "text": [
      "[['北京']]\n",
      "[['北京', '太原'], ['北京', '沈阳']]\n",
      "[['北京', '沈阳'], ['北京', '太原', '北京'], ['北京', '太原', '西安'], ['北京', '太原', '郑州']]\n",
      "[['北京', '太原', '北京'], ['北京', '太原', '西安'], ['北京', '太原', '郑州'], ['北京', '沈阳', '北京']]\n",
      "[['北京', '太原', '西安'], ['北京', '太原', '郑州'], ['北京', '沈阳', '北京']]\n",
      "[['北京', '太原', '郑州'], ['北京', '沈阳', '北京'], ['北京', '太原', '西安', '兰州'], ['北京', '太原', '西安', '长沙']]\n",
      "[['北京', '沈阳', '北京'], ['北京', '太原', '西安', '兰州'], ['北京', '太原', '西安', '长沙'], ['北京', '太原', '郑州', '太原']]\n",
      "[['北京', '太原', '西安', '兰州'], ['北京', '太原', '西安', '长沙'], ['北京', '太原', '郑州', '太原']]\n",
      "[['北京', '太原', '西安', '长沙'], ['北京', '太原', '郑州', '太原'], ['北京', '太原', '西安', '兰州', '西安']]\n"
     ]
    },
    {
     "data": {
      "text/plain": [
       "['北京', '太原', '西安', '长沙', '福州']"
      ]
     },
     "execution_count": 40,
     "metadata": {},
     "output_type": "execute_result"
    }
   ],
   "source": [
    "# 未判断 city 是否在 path 中\n",
    "search('北京', '福州', simple_connection_info)"
   ]
  },
  {
   "cell_type": "code",
   "execution_count": 38,
   "metadata": {},
   "outputs": [
    {
     "name": "stdout",
     "output_type": "stream",
     "text": [
      "[['北京']]\n",
      "[['北京', '太原'], ['北京', '沈阳']]\n",
      "[['北京', '沈阳'], ['北京', '太原', '西安'], ['北京', '太原', '郑州']]\n",
      "[['北京', '太原', '西安'], ['北京', '太原', '郑州']]\n",
      "[['北京', '太原', '郑州'], ['北京', '太原', '西安', '兰州'], ['北京', '太原', '西安', '长沙']]\n",
      "[['北京', '太原', '西安', '兰州'], ['北京', '太原', '西安', '长沙']]\n",
      "[['北京', '太原', '西安', '长沙']]\n"
     ]
    },
    {
     "data": {
      "text/plain": [
       "['北京', '太原', '西安', '长沙', '福州']"
      ]
     },
     "execution_count": 38,
     "metadata": {},
     "output_type": "execute_result"
    }
   ],
   "source": [
    "# 判断 city 是否在 path 中\n",
    "search('北京', '福州', simple_connection_info)"
   ]
  },
  {
   "cell_type": "code",
   "execution_count": 198,
   "metadata": {},
   "outputs": [
    {
     "name": "stdout",
     "output_type": "stream",
     "text": [
      "==========bfs==========\n",
      "paths\n",
      "[['北京']]\n",
      "path\n",
      "['北京']\n",
      "paths\n",
      "[['北京', '沈阳'], ['北京', '太原']]\n",
      "path\n",
      "['北京', '太原']\n",
      "paths\n",
      "[['北京', '太原', '郑州'], ['北京', '太原', '西安'], ['北京', '沈阳']]\n",
      "path\n",
      "['北京', '沈阳']\n",
      "paths\n",
      "[['北京', '太原', '郑州'], ['北京', '太原', '西安']]\n",
      "path\n",
      "['北京', '太原', '西安']\n",
      "paths\n",
      "[['北京', '太原', '西安', '长沙'], ['北京', '太原', '西安', '兰州'], ['北京', '太原', '郑州']]\n",
      "path\n",
      "['北京', '太原', '郑州']\n",
      "paths\n",
      "[['北京', '太原', '西安', '长沙'], ['北京', '太原', '西安', '兰州']]\n",
      "path\n",
      "['北京', '太原', '西安', '兰州']\n",
      "paths\n",
      "[['北京', '太原', '西安', '长沙']]\n",
      "path\n",
      "['北京', '太原', '西安', '长沙']\n",
      "==========dfs==========\n",
      "paths\n",
      "[['北京']]\n",
      "path\n",
      "['北京']\n",
      "paths\n",
      "[['北京', '太原'], ['北京', '沈阳']]\n",
      "path\n",
      "['北京', '沈阳']\n",
      "paths\n",
      "[['北京', '太原']]\n",
      "path\n",
      "['北京', '太原']\n",
      "paths\n",
      "[['北京', '太原', '西安'], ['北京', '太原', '郑州']]\n",
      "path\n",
      "['北京', '太原', '郑州']\n",
      "paths\n",
      "[['北京', '太原', '西安']]\n",
      "path\n",
      "['北京', '太原', '西安']\n",
      "paths\n",
      "[['北京', '太原', '西安', '兰州'], ['北京', '太原', '西安', '长沙']]\n",
      "path\n",
      "['北京', '太原', '西安', '长沙']\n"
     ]
    },
    {
     "data": {
      "text/plain": [
       "['北京', '太原', '西安', '长沙', '福州']"
      ]
     },
     "execution_count": 198,
     "metadata": {},
     "output_type": "execute_result"
    }
   ],
   "source": [
    "print(\"==========bfs==========\")\n",
    "search_by_bfs('北京', '福州', simple_connection_info)\n",
    "print(\"==========dfs==========\")\n",
    "search_by_dfs('北京', '福州', simple_connection_info)"
   ]
  },
  {
   "cell_type": "markdown",
   "metadata": {},
   "source": [
    "##### breath first search 广度优先\n",
    "* 一级一级探索，每层探索完再开始下一层\n",
    "\n",
    "##### depth first search 深度优先\n",
    "* 选择一条路一直探索，直至无法探索\n",
    "\n",
    "##### 广度/深度 区别\n",
    "* 广度优先会基于旧的点遍历，深度会基于最新的点遍历\n",
    "* 扩展顺序决定搜索方式"
   ]
  },
  {
   "cell_type": "code",
   "execution_count": 97,
   "metadata": {},
   "outputs": [],
   "source": [
    "# 深度优先搜索，给定初始点，遍历整个图\n",
    "def dfs(graph, start) : \n",
    "    \"\"\"\n",
    "    breath first search\n",
    "    \"\"\"\n",
    "    visited = [start]\n",
    "    seen = set()\n",
    "    print(start)\n",
    "    while visited : \n",
    "        # 获取最新的\n",
    "        froninter = visited.pop()\n",
    "        \n",
    "        if froninter in seen : continue\n",
    "            \n",
    "        for successors in graph[froninter] : \n",
    "            if successors in seen : continue\n",
    "            print(successors)\n",
    "            visited.append(successors)\n",
    "            \n",
    "        seen.add(froninter)    \n",
    "    return seen"
   ]
  },
  {
   "cell_type": "code",
   "execution_count": 98,
   "metadata": {},
   "outputs": [],
   "source": [
    "# 广度度优先搜索，给定初始点，遍历整个图\n",
    "def bfs(graph, start) : \n",
    "    \"\"\"\n",
    "    depth first search\n",
    "    \"\"\"\n",
    "    visited = [start]\n",
    "    seen = set()\n",
    "    print(start)\n",
    "    while visited : \n",
    "        # 获取最新的\n",
    "        froninter = visited.pop()\n",
    "        \n",
    "        if froninter in seen : continue\n",
    "            \n",
    "        for successors in graph[froninter] : \n",
    "            if successors in seen : continue\n",
    "            print(successors)\n",
    "            visited =  [successors] + visited\n",
    "            \n",
    "        seen.add(froninter)    \n",
    "        \n",
    "    return seen"
   ]
  },
  {
   "cell_type": "code",
   "execution_count": 71,
   "metadata": {},
   "outputs": [
    {
     "name": "stderr",
     "output_type": "stream",
     "text": [
      "/Users/yeah/anaconda3/lib/python3.7/site-packages/networkx/drawing/nx_pylab.py:611: MatplotlibDeprecationWarning: isinstance(..., numbers.Number)\n",
      "  if cb.is_numlike(alpha):\n"
     ]
    },
    {
     "data": {
      "image/png": "[encoded data removed]",
      "text/plain": [
       "<Figure size 432x288 with 1 Axes>"
      ]
     },
     "metadata": {},
     "output_type": "display_data"
    }
   ],
   "source": [
    "nx.draw(nx.Graph(simple_connection_info), city_location, with_labels=True)"
   ]
  },
  {
   "cell_type": "code",
   "execution_count": 85,
   "metadata": {},
   "outputs": [],
   "source": [
    "num_graph = defaultdict(list)\n",
    "num_graph_ = {\n",
    "    1 : [2,3],\n",
    "    2 : [1,4],\n",
    "    3 : [1,5],\n",
    "    4 : [2,6],\n",
    "    5 : [3,7],\n",
    "    6 : [4],\n",
    "    7 : [5]\n",
    "}\n",
    "num_graph.update(num_graph_)"
   ]
  },
  {
   "cell_type": "code",
   "execution_count": 86,
   "metadata": {},
   "outputs": [
    {
     "data": {
      "image/png": "[encoded data removed]",
      "text/plain": [
       "<Figure size 432x288 with 1 Axes>"
      ]
     },
     "metadata": {},
     "output_type": "display_data"
    }
   ],
   "source": [
    "nx.draw(nx.Graph(num_graph), with_labels=True)"
   ]
  },
  {
   "cell_type": "code",
   "execution_count": 185,
   "metadata": {},
   "outputs": [
    {
     "name": "stdout",
     "output_type": "stream",
     "text": [
      "==========bfs==========\n",
      "1\n",
      "2\n",
      "3\n",
      "4\n",
      "5\n",
      "6\n",
      "7\n",
      "==========dfs==========\n",
      "1\n",
      "2\n",
      "3\n",
      "5\n",
      "7\n",
      "4\n",
      "6\n"
     ]
    },
    {
     "data": {
      "text/plain": [
       "{1, 2, 3, 4, 5, 6, 7}"
      ]
     },
     "execution_count": 185,
     "metadata": {},
     "output_type": "execute_result"
    }
   ],
   "source": [
    "simple_connection_info_def = defaultdict(list)\n",
    "simple_connection_info_def.update(simple_connection_info)\n",
    "print(\"==========bfs==========\")\n",
    "bfs(num_graph, 1)\n",
    "print(\"==========dfs==========\")\n",
    "dfs(num_graph, 1)"
   ]
  },
  {
   "cell_type": "code",
   "execution_count": 108,
   "metadata": {},
   "outputs": [],
   "source": [
    "threshold = 300"
   ]
  },
  {
   "cell_type": "code",
   "execution_count": 110,
   "metadata": {},
   "outputs": [
    {
     "data": {
      "text/plain": [
       "<networkx.classes.graph.Graph at 0xa205212e8>"
      ]
     },
     "execution_count": 110,
     "metadata": {},
     "output_type": "execute_result"
    }
   ],
   "source": [
    "city_graph"
   ]
  },
  {
   "cell_type": "code",
   "execution_count": 170,
   "metadata": {},
   "outputs": [],
   "source": [
    "city_connection = defaultdict(set)"
   ]
  },
  {
   "cell_type": "code",
   "execution_count": 171,
   "metadata": {},
   "outputs": [],
   "source": [
    "for c1 in city_location : \n",
    "    for c2 in city_location : \n",
    "        if c1 == c2 : continue\n",
    "        if get_geo_distance(c1, c2) <= threshold : \n",
    "#             city_graph.add_edge(c1, c2)\n",
    "            city_connection[c1].add(c2)\n",
    "            city_connection[c2].add(c1)"
   ]
  },
  {
   "cell_type": "code",
   "execution_count": 204,
   "metadata": {},
   "outputs": [
    {
     "data": {
      "image/png": "[encoded data removed]",
      "text/plain": [
       "<Figure size 432x288 with 1 Axes>"
      ]
     },
     "metadata": {},
     "output_type": "display_data"
    }
   ],
   "source": [
    "# [['北京', '济南', '合肥', '南昌'], ['北京', '石家庄', '郑州', '武汉', '南昌']]\n",
    "nx.draw(city_graph, city_location, with_labels = True, node_size = 10,front_size=1)"
   ]
  },
  {
   "cell_type": "code",
   "execution_count": 172,
   "metadata": {},
   "outputs": [
    {
     "data": {
      "text/plain": [
       "defaultdict(set,\n",
       "            {'兰州': {'成都', '西宁', '银川'},\n",
       "             '西宁': {'兰州', '成都', '拉萨'},\n",
       "             '成都': {'兰州', '拉萨', '西宁', '重庆'},\n",
       "             '银川': {'兰州', '重庆'},\n",
       "             '拉萨': {'成都', '西宁'},\n",
       "             '重庆': {'成都', '贵阳', '银川'},\n",
       "             '石家庄': {'北京', '太原', '济南', '郑州'},\n",
       "             '郑州': {'太原', '武汉', '石家庄', '长沙'},\n",
       "             '济南': {'北京', '合肥', '天津', '石家庄'},\n",
       "             '太原': {'呼和浩特', '石家庄', '郑州'},\n",
       "             '北京': {'天津', '济南', '石家庄'},\n",
       "             '贵阳': {'南宁', '重庆'},\n",
       "             '南宁': {'海口', '贵阳'},\n",
       "             '武汉': {'南昌', '郑州', '长沙'},\n",
       "             '南昌': {'合肥', '武汉'},\n",
       "             '长沙': {'广州', '武汉', '澳门', '郑州', '香港'},\n",
       "             '合肥': {'南京', '南昌', '济南'},\n",
       "             '天津': {'北京', '济南'},\n",
       "             '南京': {'合肥', '杭州'},\n",
       "             '杭州': {'上海', '南京', '福州'},\n",
       "             '福州': {'台湾', '杭州'},\n",
       "             '上海': {'杭州'},\n",
       "             '台湾': {'福州'},\n",
       "             '广州': {'澳门', '长沙', '香港'},\n",
       "             '香港': {'广州', '澳门', '长沙'},\n",
       "             '澳门': {'广州', '长沙', '香港'},\n",
       "             '海口': {'南宁'},\n",
       "             '沈阳': {'长春'},\n",
       "             '长春': {'哈尔滨', '沈阳'},\n",
       "             '哈尔滨': {'长春'},\n",
       "             '呼和浩特': {'太原'}})"
      ]
     },
     "execution_count": 172,
     "metadata": {},
     "output_type": "execute_result"
    }
   ],
   "source": [
    "city_connection"
   ]
  },
  {
   "cell_type": "code",
   "execution_count": 119,
   "metadata": {},
   "outputs": [
    {
     "name": "stdout",
     "output_type": "stream",
     "text": [
      "[['兰州']]\n",
      "[['兰州', '银川'], ['兰州', '成都'], ['兰州', '西宁'], ['兰州', '银川'], ['兰州', '成都'], ['兰州', '西宁']]\n",
      "[['兰州', '银川', '重庆'], ['兰州', '银川', '重庆'], ['兰州', '成都'], ['兰州', '西宁'], ['兰州', '银川'], ['兰州', '成都'], ['兰州', '西宁']]\n",
      "[['兰州', '银川', '重庆', '贵阳'], ['兰州', '银川', '重庆', '成都'], ['兰州', '银川', '重庆', '贵阳'], ['兰州', '银川', '重庆', '成都'], ['兰州', '银川', '重庆'], ['兰州', '成都'], ['兰州', '西宁'], ['兰州', '银川'], ['兰州', '成都'], ['兰州', '西宁']]\n",
      "[['兰州', '银川', '重庆', '贵阳', '南宁'], ['兰州', '银川', '重庆', '贵阳', '南宁'], ['兰州', '银川', '重庆', '成都'], ['兰州', '银川', '重庆', '贵阳'], ['兰州', '银川', '重庆', '成都'], ['兰州', '银川', '重庆'], ['兰州', '成都'], ['兰州', '西宁'], ['兰州', '银川'], ['兰州', '成都'], ['兰州', '西宁']]\n"
     ]
    },
    {
     "data": {
      "text/plain": [
       "['兰州', '银川', '重庆', '贵阳', '南宁', '海口']"
      ]
     },
     "execution_count": 119,
     "metadata": {},
     "output_type": "execute_result"
    }
   ],
   "source": [
    "search_by_bfs('兰州', '海口', city_connection)"
   ]
  },
  {
   "cell_type": "code",
   "execution_count": 227,
   "metadata": {},
   "outputs": [],
   "source": [
    "# 路线搜索 breath first 广度优先\n",
    "def search(city1, city2, connection_graph, sort_by) :\n",
    "    # 探索的所有路线  已知开始路线  \n",
    "    paths = [[city1]]\n",
    "    valid_paths = []\n",
    "    # visited 已查看过\n",
    "    visited = set()\n",
    "    # 需要继续扩展\n",
    "    while paths : \n",
    "        print(paths)\n",
    "        # 弹出头部\n",
    "        path = paths.pop() \n",
    "        # 获取路线的尾部\n",
    "        froninter = path[-1]\n",
    "        # 尾部是否已经访问\n",
    "        if froninter in visited : continue\n",
    "        # 未访问，获取所有节点    \n",
    "        successors = connection_graph[froninter]\n",
    "        \n",
    "        for city in successors : \n",
    "            #去除 [北京，沈阳，北京] 这种回路探索\n",
    "            if city in path : continue\n",
    "            new_path = path + [city]\n",
    "            paths = [new_path] + paths\n",
    "            if city == city2 : \n",
    "                valid_paths.append(new_path) \n",
    "#                 return new_path\n",
    "        # 添加访问过的城市\n",
    "        visited.add(froninter)\n",
    "        # 针对已探索路线排序\n",
    "        paths = sort_by(paths)\n",
    "    return sort_by(valid_paths)    "
   ]
  },
  {
   "cell_type": "code",
   "execution_count": 228,
   "metadata": {},
   "outputs": [],
   "source": [
    "def transfer_station_first(paths) : \n",
    "    return sorted(paths, key=len, reverse=False)"
   ]
  },
  {
   "cell_type": "code",
   "execution_count": 229,
   "metadata": {},
   "outputs": [
    {
     "name": "stdout",
     "output_type": "stream",
     "text": [
      "[['北京']]\n",
      "[['北京', '石家庄'], ['北京', '天津'], ['北京', '济南']]\n",
      "[['北京', '石家庄'], ['北京', '天津'], ['北京', '济南', '天津'], ['北京', '济南', '石家庄'], ['北京', '济南', '合肥']]\n",
      "[['北京', '石家庄'], ['北京', '天津'], ['北京', '济南', '天津'], ['北京', '济南', '石家庄'], ['北京', '济南', '合肥', '南京'], ['北京', '济南', '合肥', '南昌']]\n",
      "[['北京', '石家庄'], ['北京', '天津'], ['北京', '济南', '天津'], ['北京', '济南', '石家庄'], ['北京', '济南', '合肥', '南京'], ['北京', '济南', '合肥', '南昌', '武汉']]\n",
      "[['北京', '石家庄'], ['北京', '天津'], ['北京', '济南', '天津'], ['北京', '济南', '石家庄'], ['北京', '济南', '合肥', '南京'], ['北京', '济南', '合肥', '南昌', '武汉', '长沙'], ['北京', '济南', '合肥', '南昌', '武汉', '郑州']]\n",
      "[['北京', '石家庄'], ['北京', '天津'], ['北京', '济南', '天津'], ['北京', '济南', '石家庄'], ['北京', '济南', '合肥', '南京'], ['北京', '济南', '合肥', '南昌', '武汉', '长沙'], ['北京', '济南', '合肥', '南昌', '武汉', '郑州', '太原'], ['北京', '济南', '合肥', '南昌', '武汉', '郑州', '石家庄'], ['北京', '济南', '合肥', '南昌', '武汉', '郑州', '长沙']]\n",
      "[['北京', '石家庄'], ['北京', '天津'], ['北京', '济南', '天津'], ['北京', '济南', '石家庄'], ['北京', '济南', '合肥', '南京'], ['北京', '济南', '合肥', '南昌', '武汉', '长沙'], ['北京', '济南', '合肥', '南昌', '武汉', '郑州', '太原'], ['北京', '济南', '合肥', '南昌', '武汉', '郑州', '石家庄'], ['北京', '济南', '合肥', '南昌', '武汉', '郑州', '长沙', '广州'], ['北京', '济南', '合肥', '南昌', '武汉', '郑州', '长沙', '澳门'], ['北京', '济南', '合肥', '南昌', '武汉', '郑州', '长沙', '香港']]\n",
      "[['北京', '石家庄'], ['北京', '天津'], ['北京', '济南', '天津'], ['北京', '济南', '石家庄'], ['北京', '济南', '合肥', '南京'], ['北京', '济南', '合肥', '南昌', '武汉', '长沙'], ['北京', '济南', '合肥', '南昌', '武汉', '郑州', '太原'], ['北京', '济南', '合肥', '南昌', '武汉', '郑州', '石家庄'], ['北京', '济南', '合肥', '南昌', '武汉', '郑州', '长沙', '广州'], ['北京', '济南', '合肥', '南昌', '武汉', '郑州', '长沙', '澳门'], ['北京', '济南', '合肥', '南昌', '武汉', '郑州', '长沙', '香港', '广州'], ['北京', '济南', '合肥', '南昌', '武汉', '郑州', '长沙', '香港', '澳门']]\n",
      "[['北京', '石家庄'], ['北京', '天津'], ['北京', '济南', '天津'], ['北京', '济南', '石家庄'], ['北京', '济南', '合肥', '南京'], ['北京', '济南', '合肥', '南昌', '武汉', '长沙'], ['北京', '济南', '合肥', '南昌', '武汉', '郑州', '太原'], ['北京', '济南', '合肥', '南昌', '武汉', '郑州', '石家庄'], ['北京', '济南', '合肥', '南昌', '武汉', '郑州', '长沙', '广州'], ['北京', '济南', '合肥', '南昌', '武汉', '郑州', '长沙', '澳门'], ['北京', '济南', '合肥', '南昌', '武汉', '郑州', '长沙', '香港', '广州'], ['北京', '济南', '合肥', '南昌', '武汉', '郑州', '长沙', '香港', '澳门', '广州']]\n",
      "[['北京', '石家庄'], ['北京', '天津'], ['北京', '济南', '天津'], ['北京', '济南', '石家庄'], ['北京', '济南', '合肥', '南京'], ['北京', '济南', '合肥', '南昌', '武汉', '长沙'], ['北京', '济南', '合肥', '南昌', '武汉', '郑州', '太原'], ['北京', '济南', '合肥', '南昌', '武汉', '郑州', '石家庄'], ['北京', '济南', '合肥', '南昌', '武汉', '郑州', '长沙', '广州'], ['北京', '济南', '合肥', '南昌', '武汉', '郑州', '长沙', '澳门'], ['北京', '济南', '合肥', '南昌', '武汉', '郑州', '长沙', '香港', '广州']]\n",
      "[['北京', '石家庄'], ['北京', '天津'], ['北京', '济南', '天津'], ['北京', '济南', '石家庄'], ['北京', '济南', '合肥', '南京'], ['北京', '济南', '合肥', '南昌', '武汉', '长沙'], ['北京', '济南', '合肥', '南昌', '武汉', '郑州', '太原'], ['北京', '济南', '合肥', '南昌', '武汉', '郑州', '石家庄'], ['北京', '济南', '合肥', '南昌', '武汉', '郑州', '长沙', '广州'], ['北京', '济南', '合肥', '南昌', '武汉', '郑州', '长沙', '澳门']]\n",
      "[['北京', '石家庄'], ['北京', '天津'], ['北京', '济南', '天津'], ['北京', '济南', '石家庄'], ['北京', '济南', '合肥', '南京'], ['北京', '济南', '合肥', '南昌', '武汉', '长沙'], ['北京', '济南', '合肥', '南昌', '武汉', '郑州', '太原'], ['北京', '济南', '合肥', '南昌', '武汉', '郑州', '石家庄'], ['北京', '济南', '合肥', '南昌', '武汉', '郑州', '长沙', '广州']]\n",
      "[['北京', '石家庄'], ['北京', '天津'], ['北京', '济南', '天津'], ['北京', '济南', '石家庄'], ['北京', '济南', '合肥', '南京'], ['北京', '济南', '合肥', '南昌', '武汉', '长沙'], ['北京', '济南', '合肥', '南昌', '武汉', '郑州', '太原'], ['北京', '济南', '合肥', '南昌', '武汉', '郑州', '石家庄']]\n",
      "[['北京', '石家庄'], ['北京', '天津'], ['北京', '济南', '天津'], ['北京', '济南', '石家庄'], ['北京', '济南', '合肥', '南京'], ['北京', '济南', '合肥', '南昌', '武汉', '长沙'], ['北京', '济南', '合肥', '南昌', '武汉', '郑州', '太原'], ['北京', '济南', '合肥', '南昌', '武汉', '郑州', '石家庄', '太原']]\n",
      "[['北京', '石家庄'], ['北京', '天津'], ['北京', '济南', '天津'], ['北京', '济南', '石家庄'], ['北京', '济南', '合肥', '南京'], ['北京', '济南', '合肥', '南昌', '武汉', '长沙'], ['北京', '济南', '合肥', '南昌', '武汉', '郑州', '太原'], ['北京', '济南', '合肥', '南昌', '武汉', '郑州', '石家庄', '太原', '呼和浩特']]\n",
      "[['北京', '石家庄'], ['北京', '天津'], ['北京', '济南', '天津'], ['北京', '济南', '石家庄'], ['北京', '济南', '合肥', '南京'], ['北京', '济南', '合肥', '南昌', '武汉', '长沙'], ['北京', '济南', '合肥', '南昌', '武汉', '郑州', '太原']]\n",
      "[['北京', '石家庄'], ['北京', '天津'], ['北京', '济南', '天津'], ['北京', '济南', '石家庄'], ['北京', '济南', '合肥', '南京'], ['北京', '济南', '合肥', '南昌', '武汉', '长沙']]\n",
      "[['北京', '石家庄'], ['北京', '天津'], ['北京', '济南', '天津'], ['北京', '济南', '石家庄'], ['北京', '济南', '合肥', '南京']]\n",
      "[['北京', '石家庄'], ['北京', '天津'], ['北京', '济南', '天津'], ['北京', '济南', '石家庄'], ['北京', '济南', '合肥', '南京', '杭州']]\n",
      "[['北京', '石家庄'], ['北京', '天津'], ['北京', '济南', '天津'], ['北京', '济南', '石家庄'], ['北京', '济南', '合肥', '南京', '杭州', '福州'], ['北京', '济南', '合肥', '南京', '杭州', '上海']]\n",
      "[['北京', '石家庄'], ['北京', '天津'], ['北京', '济南', '天津'], ['北京', '济南', '石家庄'], ['北京', '济南', '合肥', '南京', '杭州', '福州']]\n",
      "[['北京', '石家庄'], ['北京', '天津'], ['北京', '济南', '天津'], ['北京', '济南', '石家庄'], ['北京', '济南', '合肥', '南京', '杭州', '福州', '台湾']]\n",
      "[['北京', '石家庄'], ['北京', '天津'], ['北京', '济南', '天津'], ['北京', '济南', '石家庄']]\n",
      "[['北京', '石家庄'], ['北京', '天津'], ['北京', '济南', '天津']]\n",
      "[['北京', '石家庄'], ['北京', '天津']]\n",
      "[['北京', '石家庄']]\n"
     ]
    },
    {
     "data": {
      "text/plain": [
       "[['北京', '济南', '合肥', '南昌', '武汉', '郑州', '长沙', '广州'],\n",
       " ['北京', '济南', '合肥', '南昌', '武汉', '郑州', '长沙', '香港', '广州'],\n",
       " ['北京', '济南', '合肥', '南昌', '武汉', '郑州', '长沙', '香港', '澳门', '广州']]"
      ]
     },
     "execution_count": 229,
     "metadata": {},
     "output_type": "execute_result"
    }
   ],
   "source": [
    "search('北京', '广州', city_connection, sort_by=transfer_station_first)"
   ]
  },
  {
   "cell_type": "markdown",
   "metadata": {},
   "source": [
    "##### 深度学习\n",
    "* 波士顿房价\n",
    "* 基于数据生成函数"
   ]
  },
  {
   "cell_type": "code",
   "execution_count": 230,
   "metadata": {},
   "outputs": [],
   "source": [
    "from sklearn.datasets import load_boston"
   ]
  },
  {
   "cell_type": "code",
   "execution_count": 235,
   "metadata": {},
   "outputs": [],
   "source": [
    "data = load_boston()"
   ]
  },
  {
   "cell_type": "code",
   "execution_count": 232,
   "metadata": {},
   "outputs": [
    {
     "name": "stdout",
     "output_type": "stream",
     "text": [
      "Help on function load_boston in module sklearn.datasets.base:\n",
      "\n",
      "load_boston(return_X_y=False)\n",
      "    Load and return the boston house-prices dataset (regression).\n",
      "    \n",
      "    ==============     ==============\n",
      "    Samples total                 506\n",
      "    Dimensionality                 13\n",
      "    Features           real, positive\n",
      "    Targets             real 5. - 50.\n",
      "    ==============     ==============\n",
      "    \n",
      "    Read more in the :ref:`User Guide <boston_dataset>`.\n",
      "    \n",
      "    Parameters\n",
      "    ----------\n",
      "    return_X_y : boolean, default=False.\n",
      "        If True, returns ``(data, target)`` instead of a Bunch object.\n",
      "        See below for more information about the `data` and `target` object.\n",
      "    \n",
      "        .. versionadded:: 0.18\n",
      "    \n",
      "    Returns\n",
      "    -------\n",
      "    data : Bunch\n",
      "        Dictionary-like object, the interesting attributes are:\n",
      "        'data', the data to learn, 'target', the regression targets,\n",
      "        'DESCR', the full description of the dataset,\n",
      "        and 'filename', the physical location of boston\n",
      "        csv dataset (added in version `0.20`).\n",
      "    \n",
      "    (data, target) : tuple if ``return_X_y`` is True\n",
      "    \n",
      "        .. versionadded:: 0.18\n",
      "    \n",
      "    Notes\n",
      "    -----\n",
      "        .. versionchanged:: 0.20\n",
      "            Fixed a wrong data point at [445, 0].\n",
      "    \n",
      "    Examples\n",
      "    --------\n",
      "    >>> from sklearn.datasets import load_boston\n",
      "    >>> boston = load_boston()\n",
      "    >>> print(boston.data.shape)\n",
      "    (506, 13)\n",
      "\n"
     ]
    }
   ],
   "source": [
    "help(load_boston)"
   ]
  },
  {
   "cell_type": "code",
   "execution_count": 233,
   "metadata": {},
   "outputs": [
    {
     "name": "stdout",
     "output_type": "stream",
     "text": [
      "Help on class defaultdict in module collections:\n",
      "\n",
      "class defaultdict(builtins.dict)\n",
      " |  defaultdict(default_factory[, ...]) --> dict with default factory\n",
      " |  \n",
      " |  The default factory is called without arguments to produce\n",
      " |  a new value when a key is not present, in __getitem__ only.\n",
      " |  A defaultdict compares equal to a dict with the same items.\n",
      " |  All remaining arguments are treated the same as if they were\n",
      " |  passed to the dict constructor, including keyword arguments.\n",
      " |  \n",
      " |  Method resolution order:\n",
      " |      defaultdict\n",
      " |      builtins.dict\n",
      " |      builtins.object\n",
      " |  \n",
      " |  Methods defined here:\n",
      " |  \n",
      " |  __copy__(...)\n",
      " |      D.copy() -> a shallow copy of D.\n",
      " |  \n",
      " |  __getattribute__(self, name, /)\n",
      " |      Return getattr(self, name).\n",
      " |  \n",
      " |  __init__(self, /, *args, **kwargs)\n",
      " |      Initialize self.  See help(type(self)) for accurate signature.\n",
      " |  \n",
      " |  __missing__(...)\n",
      " |      __missing__(key) # Called by __getitem__ for missing key; pseudo-code:\n",
      " |      if self.default_factory is None: raise KeyError((key,))\n",
      " |      self[key] = value = self.default_factory()\n",
      " |      return value\n",
      " |  \n",
      " |  __reduce__(...)\n",
      " |      Return state information for pickling.\n",
      " |  \n",
      " |  __repr__(self, /)\n",
      " |      Return repr(self).\n",
      " |  \n",
      " |  copy(...)\n",
      " |      D.copy() -> a shallow copy of D.\n",
      " |  \n",
      " |  ----------------------------------------------------------------------\n",
      " |  Data descriptors defined here:\n",
      " |  \n",
      " |  default_factory\n",
      " |      Factory for default value called by __missing__().\n",
      " |  \n",
      " |  ----------------------------------------------------------------------\n",
      " |  Methods inherited from builtins.dict:\n",
      " |  \n",
      " |  __contains__(self, key, /)\n",
      " |      True if the dictionary has the specified key, else False.\n",
      " |  \n",
      " |  __delitem__(self, key, /)\n",
      " |      Delete self[key].\n",
      " |  \n",
      " |  __eq__(self, value, /)\n",
      " |      Return self==value.\n",
      " |  \n",
      " |  __ge__(self, value, /)\n",
      " |      Return self>=value.\n",
      " |  \n",
      " |  __getitem__(...)\n",
      " |      x.__getitem__(y) <==> x[y]\n",
      " |  \n",
      " |  __gt__(self, value, /)\n",
      " |      Return self>value.\n",
      " |  \n",
      " |  __iter__(self, /)\n",
      " |      Implement iter(self).\n",
      " |  \n",
      " |  __le__(self, value, /)\n",
      " |      Return self<=value.\n",
      " |  \n",
      " |  __len__(self, /)\n",
      " |      Return len(self).\n",
      " |  \n",
      " |  __lt__(self, value, /)\n",
      " |      Return self<value.\n",
      " |  \n",
      " |  __ne__(self, value, /)\n",
      " |      Return self!=value.\n",
      " |  \n",
      " |  __setitem__(self, key, value, /)\n",
      " |      Set self[key] to value.\n",
      " |  \n",
      " |  __sizeof__(...)\n",
      " |      D.__sizeof__() -> size of D in memory, in bytes\n",
      " |  \n",
      " |  clear(...)\n",
      " |      D.clear() -> None.  Remove all items from D.\n",
      " |  \n",
      " |  get(self, key, default=None, /)\n",
      " |      Return the value for key if key is in the dictionary, else default.\n",
      " |  \n",
      " |  items(...)\n",
      " |      D.items() -> a set-like object providing a view on D's items\n",
      " |  \n",
      " |  keys(...)\n",
      " |      D.keys() -> a set-like object providing a view on D's keys\n",
      " |  \n",
      " |  pop(...)\n",
      " |      D.pop(k[,d]) -> v, remove specified key and return the corresponding value.\n",
      " |      If key is not found, d is returned if given, otherwise KeyError is raised\n",
      " |  \n",
      " |  popitem(...)\n",
      " |      D.popitem() -> (k, v), remove and return some (key, value) pair as a\n",
      " |      2-tuple; but raise KeyError if D is empty.\n",
      " |  \n",
      " |  setdefault(self, key, default=None, /)\n",
      " |      Insert key with a value of default if key is not in the dictionary.\n",
      " |      \n",
      " |      Return the value for key if key is in the dictionary, else default.\n",
      " |  \n",
      " |  update(...)\n",
      " |      D.update([E, ]**F) -> None.  Update D from dict/iterable E and F.\n",
      " |      If E is present and has a .keys() method, then does:  for k in E: D[k] = E[k]\n",
      " |      If E is present and lacks a .keys() method, then does:  for k, v in E: D[k] = v\n",
      " |      In either case, this is followed by: for k in F:  D[k] = F[k]\n",
      " |  \n",
      " |  values(...)\n",
      " |      D.values() -> an object providing a view on D's values\n",
      " |  \n",
      " |  ----------------------------------------------------------------------\n",
      " |  Class methods inherited from builtins.dict:\n",
      " |  \n",
      " |  fromkeys(iterable, value=None, /) from builtins.type\n",
      " |      Create a new dictionary with keys from iterable and values set to value.\n",
      " |  \n",
      " |  ----------------------------------------------------------------------\n",
      " |  Static methods inherited from builtins.dict:\n",
      " |  \n",
      " |  __new__(*args, **kwargs) from builtins.type\n",
      " |      Create and return a new object.  See help(type) for accurate signature.\n",
      " |  \n",
      " |  ----------------------------------------------------------------------\n",
      " |  Data and other attributes inherited from builtins.dict:\n",
      " |  \n",
      " |  __hash__ = None\n",
      "\n"
     ]
    }
   ],
   "source": [
    "help(defaultdict)"
   ]
  },
  {
   "cell_type": "code",
   "execution_count": 236,
   "metadata": {},
   "outputs": [],
   "source": [
    "x, y = data['data'], data['target']"
   ]
  },
  {
   "cell_type": "code",
   "execution_count": 244,
   "metadata": {},
   "outputs": [
    {
     "data": {
      "text/plain": [
       "array([6.320e-03, 1.800e+01, 2.310e+00, 0.000e+00, 5.380e-01, 6.575e+00,\n",
       "       6.520e+01, 4.090e+00, 1.000e+00, 2.960e+02, 1.530e+01, 3.969e+02,\n",
       "       4.980e+00])"
      ]
     },
     "execution_count": 244,
     "metadata": {},
     "output_type": "execute_result"
    }
   ],
   "source": [
    "x[0]"
   ]
  },
  {
   "cell_type": "code",
   "execution_count": 242,
   "metadata": {},
   "outputs": [
    {
     "data": {
      "text/plain": [
       "24.0"
      ]
     },
     "execution_count": 242,
     "metadata": {},
     "output_type": "execute_result"
    }
   ],
   "source": [
    "y[0]"
   ]
  },
  {
   "cell_type": "code",
   "execution_count": 247,
   "metadata": {},
   "outputs": [
    {
     "data": {
      "text/plain": [
       "array(['CRIM', 'ZN', 'INDUS', 'CHAS', 'NOX', 'RM', 'AGE', 'DIS', 'RAD',\n",
       "       'TAX', 'PTRATIO', 'B', 'LSTAT'], dtype='<U7')"
      ]
     },
     "execution_count": 247,
     "metadata": {},
     "output_type": "execute_result"
    }
   ],
   "source": [
    "data['feature_names']"
   ]
  },
  {
   "cell_type": "code",
   "execution_count": 249,
   "metadata": {},
   "outputs": [
    {
     "data": {
      "text/plain": [
       "\".. _boston_dataset:\\n\\nBoston house prices dataset\\n---------------------------\\n\\n**Data Set Characteristics:**  \\n\\n    :Number of Instances: 506 \\n\\n    :Number of Attributes: 13 numeric/categorical predictive. Median Value (attribute 14) is usually the target.\\n\\n    :Attribute Information (in order):\\n        - CRIM     per capita crime rate by town\\n        - ZN       proportion of residential land zoned for lots over 25,000 sq.ft.\\n        - INDUS    proportion of non-retail business acres per town\\n        - CHAS     Charles River dummy variable (= 1 if tract bounds river; 0 otherwise)\\n        - NOX      nitric oxides concentration (parts per 10 million)\\n        - RM       average number of rooms per dwelling\\n        - AGE      proportion of owner-occupied units built prior to 1940\\n        - DIS      weighted distances to five Boston employment centres\\n        - RAD      index of accessibility to radial highways\\n        - TAX      full-value property-tax rate per $10,000\\n        - PTRATIO  pupil-teacher ratio by town\\n        - B        1000(Bk - 0.63)^2 where Bk is the proportion of blacks by town\\n        - LSTAT    % lower status of the population\\n        - MEDV     Median value of owner-occupied homes in $1000's\\n\\n    :Missing Attribute Values: None\\n\\n    :Creator: Harrison, D. and Rubinfeld, D.L.\\n\\nThis is a copy of UCI ML housing dataset.\\nhttps://archive.ics.uci.edu/ml/machine-learning-databases/housing/\\n\\n\\nThis dataset was taken from the StatLib library which is maintained at Carnegie Mellon University.\\n\\nThe Boston house-price data of Harrison, D. and Rubinfeld, D.L. 'Hedonic\\nprices and the demand for clean air', J. Environ. Economics & Management,\\nvol.5, 81-102, 1978.   Used in Belsley, Kuh & Welsch, 'Regression diagnostics\\n...', Wiley, 1980.   N.B. Various transformations are used in the table on\\npages 244-261 of the latter.\\n\\nThe Boston house-price data has been used in many machine learning papers that address regression\\nproblems.   \\n     \\n.. topic:: References\\n\\n   - Belsley, Kuh & Welsch, 'Regression diagnostics: Identifying Influential Data and Sources of Collinearity', Wiley, 1980. 244-261.\\n   - Quinlan,R. (1993). Combining Instance-Based and Model-Based Learning. In Proceedings on the Tenth International Conference of Machine Learning, 236-243, University of Massachusetts, Amherst. Morgan Kaufmann.\\n\""
      ]
     },
     "execution_count": 249,
     "metadata": {},
     "output_type": "execute_result"
    }
   ],
   "source": [
    "data['DESCR']"
   ]
  },
  {
   "cell_type": "code",
   "execution_count": 253,
   "metadata": {},
   "outputs": [
    {
     "data": {
      "text/plain": [
       "506"
      ]
     },
     "execution_count": 253,
     "metadata": {},
     "output_type": "execute_result"
    }
   ],
   "source": [
    "len(x[:, 0])"
   ]
  },
  {
   "cell_type": "code",
   "execution_count": 255,
   "metadata": {},
   "outputs": [
    {
     "data": {
      "text/plain": [
       "506"
      ]
     },
     "execution_count": 255,
     "metadata": {},
     "output_type": "execute_result"
    }
   ],
   "source": [
    "len(y)"
   ]
  },
  {
   "cell_type": "code",
   "execution_count": 257,
   "metadata": {},
   "outputs": [],
   "source": [
    "%matplotlib inline"
   ]
  },
  {
   "cell_type": "code",
   "execution_count": 261,
   "metadata": {},
   "outputs": [],
   "source": [
    "def draw_rm_price() : \n",
    "    plt.scatter(x[:, 5], y)"
   ]
  },
  {
   "cell_type": "code",
   "execution_count": 262,
   "metadata": {},
   "outputs": [
    {
     "data": {
      "image/png": "[encoded data removed]",
      "text/plain": [
       "<Figure size 432x288 with 1 Axes>"
      ]
     },
     "metadata": {
      "needs_background": "light"
     },
     "output_type": "display_data"
    }
   ],
   "source": [
    "draw_rm_price()"
   ]
  },
  {
   "cell_type": "markdown",
   "metadata": {},
   "source": [
    "##### 问题\n",
    "1. 怎么获取一个拟合函数，那么这个函数是什么？\n",
    "2. 假定 f(x) = kx + b，那么 k、b分别是多少？\n",
    "3. 随机 k、b\n",
    "4. 判断 f(x) 值与实际值的差值，差值越小，越接近，差值为损失值"
   ]
  },
  {
   "cell_type": "code",
   "execution_count": 263,
   "metadata": {},
   "outputs": [],
   "source": [
    "import random"
   ]
  },
  {
   "cell_type": "code",
   "execution_count": 313,
   "metadata": {},
   "outputs": [],
   "source": [
    "def price(rm, k, b) : \n",
    "    return k * rm + b"
   ]
  },
  {
   "cell_type": "code",
   "execution_count": 316,
   "metadata": {},
   "outputs": [
    {
     "data": {
      "text/plain": [
       "(24.0, -83.325)"
      ]
     },
     "execution_count": 316,
     "metadata": {},
     "output_type": "execute_result"
    }
   ],
   "source": [
    "list(zip(list(y), list(price_rm)))[0]"
   ]
  },
  {
   "cell_type": "code",
   "execution_count": 319,
   "metadata": {},
   "outputs": [],
   "source": [
    "def loss(y, y_hat) : \n",
    "    return sum((y_i - y_hat_i) ** 2 for y_i, y_hat_i in zip(list(y), list(y_hat))) / len(list(y))"
   ]
  },
  {
   "cell_type": "code",
   "execution_count": 321,
   "metadata": {},
   "outputs": [
    {
     "data": {
      "text/plain": [
       "10782.54878475691"
      ]
     },
     "execution_count": 321,
     "metadata": {},
     "output_type": "execute_result"
    }
   ],
   "source": [
    "loss(y, price_rm)"
   ]
  },
  {
   "cell_type": "code",
   "execution_count": 322,
   "metadata": {},
   "outputs": [],
   "source": [
    "x, y = data['data'], data['target']\n",
    "# 房间数量\n",
    "x_rm = x[:, 5]"
   ]
  },
  {
   "cell_type": "markdown",
   "metadata": {},
   "source": [
    "* 方法一 ：随机生成k、b，获取最接近的k、 b\n",
    "    k、b 的随机范围为 [-100, 100]的整数\n",
    "* 方法二 ：基于方法一，扩大k、b范围，且为浮点数\n",
    "\n",
    "* 总结：方法一、方法二，k、b仍是随机数，无法预知控制，误差也无法控制，同时计算次数十分耗时对误差缩小也没有绝对帮助\n",
    "\n",
    "* 问题：怎么让误差减少的更快？\n",
    "\n",
    "* 方法三 ：控制变化方向 k、b的正负影响着误差的变化，确定正确的变化方向以及增量\n",
    "                程序上监督变化---监督学习\n",
    "                \n",
    "* 问题：函数的可变因素越多，需要控制的方向越多！！！\n",
    "            下一个方向？可能选择错误的方向，可以想办法在这里选择正确的方向！！！\n",
    "            导数！！！\n",
    "            loss()函数的导数，就是差值变化的方向（增加/减少）也可以找到临界点，二次函数则有凹点最小或凸点最大！！！\n",
    "            找指定点导数小于0\n",
    "            梯度下降！！！"
   ]
  },
  {
   "cell_type": "code",
   "execution_count": 350,
   "metadata": {},
   "outputs": [],
   "source": [
    "try_times = 100000\n",
    "\n",
    "def gen_best_by_random(try_times) : \n",
    "    \"\"\"随机生成k、b，获取最接近的k、 b\"\"\"\n",
    "    min_loss = float('inf')\n",
    "    best_k, best_b = None, None\n",
    "    for i in range(try_times) : \n",
    "        k = random.randint(-100, 100)\n",
    "        b = random.randint(-100, 100)\n",
    "        price_rm = [price(rm, k, b) for rm in x_rm]\n",
    "\n",
    "        current_loss = loss(y, price_rm)\n",
    "        if current_loss < min_loss : \n",
    "            min_loss = current_loss\n",
    "            best_k = k\n",
    "            best_b = b\n",
    "            print(\"times {}, min loss {}, best k {}, best b {}\".format(i, min_loss, best_k, best_b))\n",
    "            \n",
    "    print(\"min loss {}, best k {}, best b {}\".format(min_loss, best_k, best_b))\n",
    "\n",
    "    best_price_rm = [price(rm, best_k, best_b) for rm in x_rm]\n",
    "    draw_rm_price()\n",
    "    plt.scatter(x_rm, best_price_rm)"
   ]
  },
  {
   "cell_type": "code",
   "execution_count": 351,
   "metadata": {},
   "outputs": [
    {
     "name": "stdout",
     "output_type": "stream",
     "text": [
      "min loss 43.6065241245059, best k 9, best b -34\n"
     ]
    },
    {
     "data": {
      "image/png": "[encoded data removed]",
      "text/plain": [
       "<Figure size 432x288 with 1 Axes>"
      ]
     },
     "metadata": {
      "needs_background": "light"
     },
     "output_type": "display_data"
    }
   ],
   "source": [
    "gen_best_by_random(try_times)"
   ]
  },
  {
   "cell_type": "code",
   "execution_count": 346,
   "metadata": {},
   "outputs": [
    {
     "data": {
      "text/plain": [
       "-9709.34007629706"
      ]
     },
     "execution_count": 346,
     "metadata": {},
     "output_type": "execute_result"
    }
   ],
   "source": [
    "random.random() * 20000 - 10000"
   ]
  },
  {
   "cell_type": "code",
   "execution_count": 354,
   "metadata": {},
   "outputs": [],
   "source": [
    "def gen_best_by_random(try_times) : \n",
    "    \"\"\"基于方法一，扩大k、b范围，且为浮点数\"\"\"\n",
    "    min_loss = float('inf')\n",
    "    best_k, best_b = None, None\n",
    "    for i in range(try_times) : \n",
    "        k = random.random() * 20000 - 10000\n",
    "        b = random.random() * 20000 - 10000\n",
    "        price_rm = [price(rm, k, b) for rm in x_rm]\n",
    "\n",
    "        current_loss = loss(y, price_rm)\n",
    "        if current_loss < min_loss : \n",
    "            min_loss = current_loss\n",
    "            best_k = k\n",
    "            best_b = b\n",
    "            print(\"times {}, min loss {}, best k {}, best b {}\".format(i, min_loss, best_k, best_b))\n",
    "            \n",
    "    print(\"min loss {}, best k {}, best b {}\".format(min_loss, best_k, best_b))\n",
    "\n",
    "    best_price_rm = [price(rm, best_k, best_b) for rm in x_rm]\n",
    "    draw_rm_price()\n",
    "    plt.scatter(x_rm, best_price_rm)"
   ]
  },
  {
   "cell_type": "code",
   "execution_count": 353,
   "metadata": {},
   "outputs": [
    {
     "name": "stdout",
     "output_type": "stream",
     "text": [
      "min loss 1249.5110716563977, best k -33.972518314421905, best b 218.9569070365378\n"
     ]
    },
    {
     "data": {
      "image/png": "[encoded data removed]",
      "text/plain": [
       "<Figure size 432x288 with 1 Axes>"
      ]
     },
     "metadata": {
      "needs_background": "light"
     },
     "output_type": "display_data"
    }
   ],
   "source": [
    "gen_best_by_random(try_times)"
   ]
  },
  {
   "cell_type": "code",
   "execution_count": 366,
   "metadata": {},
   "outputs": [],
   "source": [
    "def gen_best_by_random(try_times) : \n",
    "    \"\"\"控制变化方向 k、b的正负影响着误差的变化\"\"\"\n",
    "    min_loss = float('inf')\n",
    "    best_k, best_b = None, None\n",
    "    \n",
    "    \"\"\"初始化一组k、b\"\"\"\n",
    "    k = random.random() * 200 - 100\n",
    "    b = random.random() * 200 - 100\n",
    "    \"\"\"变化方向 分别为 k、b的变化方向\"\"\"\n",
    "    direction = [\n",
    "        (+1, +1),\n",
    "        (+1, -1),\n",
    "        (-1, +1),\n",
    "        (-1, -1)\n",
    "    ]\n",
    "    scanner = 0.1\n",
    "    \n",
    "    next_direction = random.choice(direction)\n",
    "    for i in range(try_times) : \n",
    "        k_direction, b_direction = next_direction\n",
    "        \n",
    "        if best_k == None : best_k = k\n",
    "        if best_b == None : best_b = b\n",
    "        \n",
    "        current_k, current_b = best_k + k_direction * scanner, best_b + b_direction * scanner\n",
    "        price_rm = [price(rm, current_k, current_b) for rm in x_rm]\n",
    "\n",
    "        current_loss = loss(y, price_rm)\n",
    "        if current_loss < min_loss : \n",
    "            min_loss = current_loss\n",
    "            best_k, best_b = current_k, current_b\n",
    "            next_direction = next_direction\n",
    "            print(\"times {}, min loss {}, best k {}, best b {}\".format(i, min_loss, best_k, best_b))\n",
    "        else : \n",
    "            next_direction = random.choice(list(set(direction) - {next_direction}))\n",
    "\n",
    "    print(\"min loss {}, best k {}, best b {}\".format(min_loss, best_k, best_b))\n",
    "    \n",
    "    best_price_rm = [price(rm, best_k, best_b) for rm in x_rm]\n",
    "    draw_rm_price()\n",
    "    plt.scatter(x_rm, best_price_rm)"
   ]
  },
  {
   "cell_type": "code",
   "execution_count": 367,
   "metadata": {},
   "outputs": [
    {
     "name": "stdout",
     "output_type": "stream",
     "text": [
      "times 0, min loss 124550.76893143087, best k -58.6897909161466, best b 41.74420827382087\n",
      "times 1, min loss 124174.83702167223, best k -58.5897909161466, best b 41.644208273820865\n",
      "times 2, min loss 123799.47351303033, best k -58.489790916146596, best b 41.544208273820864\n",
      "times 3, min loss 123424.67840550496, best k -58.389790916146595, best b 41.44420827382086\n",
      "times 4, min loss 123050.45169909611, best k -58.28979091614659, best b 41.34420827382086\n",
      "times 5, min loss 122676.79339380353, best k -58.18979091614659, best b 41.24420827382086\n",
      "times 6, min loss 122303.70348962753, best k -58.08979091614659, best b 41.14420827382086\n",
      "times 7, min loss 121931.18198656784, best k -57.98979091614659, best b 41.04420827382086\n",
      "times 8, min loss 121559.22888462496, best k -57.88979091614659, best b 40.944208273820855\n",
      "times 9, min loss 121187.84418379838, best k -57.789790916146586, best b 40.844208273820854\n",
      "times 10, min loss 120817.0278840883, best k -57.689790916146585, best b 40.74420827382085\n",
      "times 11, min loss 120446.77998549484, best k -57.58979091614658, best b 40.64420827382085\n",
      "times 12, min loss 120077.10048801765, best k -57.48979091614658, best b 40.54420827382085\n",
      "times 13, min loss 119707.98939165709, best k -57.38979091614658, best b 40.44420827382085\n",
      "times 14, min loss 119339.44669641278, best k -57.28979091614658, best b 40.34420827382085\n",
      "times 15, min loss 118971.4724022852, best k -57.18979091614658, best b 40.244208273820846\n",
      "times 16, min loss 118604.066509274, best k -57.089790916146576, best b 40.144208273820844\n",
      "times 17, min loss 118237.22901737921, best k -56.989790916146575, best b 40.04420827382084\n",
      "times 18, min loss 117870.95992660096, best k -56.88979091614657, best b 39.94420827382084\n",
      "times 19, min loss 117505.25923693944, best k -56.78979091614657, best b 39.84420827382084\n",
      "times 20, min loss 117140.12694839407, best k -56.68979091614657, best b 39.74420827382084\n",
      "times 21, min loss 116775.56306096521, best k -56.58979091614657, best b 39.64420827382084\n",
      "times 22, min loss 116411.56757465286, best k -56.48979091614657, best b 39.544208273820836\n",
      "times 23, min loss 116048.14048945722, best k -56.389790916146566, best b 39.444208273820834\n",
      "times 24, min loss 115685.28180537792, best k -56.289790916146565, best b 39.34420827382083\n",
      "times 25, min loss 115322.99152241509, best k -56.18979091614656, best b 39.24420827382083\n",
      "times 26, min loss 114961.26964056864, best k -56.08979091614656, best b 39.14420827382083\n",
      "times 27, min loss 114600.11615983877, best k -55.98979091614656, best b 39.04420827382083\n",
      "times 28, min loss 114239.5310802254, best k -55.88979091614656, best b 38.94420827382083\n",
      "times 29, min loss 113879.51440172848, best k -55.78979091614656, best b 38.844208273820826\n",
      "times 30, min loss 113520.06612434796, best k -55.689790916146556, best b 38.744208273820824\n",
      "times 31, min loss 113161.18624808404, best k -55.589790916146555, best b 38.64420827382082\n",
      "times 32, min loss 112802.87477293664, best k -55.48979091614655, best b 38.54420827382082\n",
      "times 33, min loss 112445.13169890559, best k -55.38979091614655, best b 38.44420827382082\n",
      "times 34, min loss 112087.95702599114, best k -55.28979091614655, best b 38.34420827382082\n",
      "times 35, min loss 111731.35075419299, best k -55.18979091614655, best b 38.24420827382082\n",
      "times 36, min loss 111375.31288351155, best k -55.08979091614655, best b 38.144208273820816\n",
      "times 37, min loss 111019.8434139465, best k -54.989790916146546, best b 38.044208273820814\n",
      "times 38, min loss 110664.9423454979, best k -54.889790916146545, best b 37.94420827382081\n",
      "times 39, min loss 110310.60967816573, best k -54.78979091614654, best b 37.84420827382081\n",
      "times 40, min loss 109956.84541195014, best k -54.68979091614654, best b 37.74420827382081\n",
      "times 41, min loss 109603.64954685113, best k -54.58979091614654, best b 37.64420827382081\n",
      "times 42, min loss 109251.02208286835, best k -54.48979091614654, best b 37.54420827382081\n",
      "times 43, min loss 108898.9630200022, best k -54.38979091614654, best b 37.444208273820806\n",
      "times 44, min loss 108547.47235825262, best k -54.289790916146536, best b 37.344208273820804\n",
      "times 45, min loss 108196.55009761942, best k -54.189790916146535, best b 37.2442082738208\n",
      "times 46, min loss 107846.19623810264, best k -54.089790916146534, best b 37.1442082738208\n",
      "times 47, min loss 107496.41077970242, best k -53.98979091614653, best b 37.0442082738208\n",
      "times 48, min loss 107147.1937224187, best k -53.88979091614653, best b 36.9442082738208\n",
      "times 49, min loss 106798.54506625138, best k -53.78979091614653, best b 36.8442082738208\n",
      "times 50, min loss 106450.46481120063, best k -53.68979091614653, best b 36.744208273820796\n",
      "times 51, min loss 106102.95295726623, best k -53.58979091614653, best b 36.644208273820794\n",
      "times 52, min loss 105756.00950444849, best k -53.489790916146525, best b 36.54420827382079\n",
      "times 53, min loss 105409.6344527472, best k -53.389790916146524, best b 36.44420827382079\n",
      "times 54, min loss 105063.82780216222, best k -53.28979091614652, best b 36.34420827382079\n",
      "times 55, min loss 104718.58955269393, best k -53.18979091614652, best b 36.24420827382079\n",
      "times 56, min loss 104373.91970434203, best k -53.08979091614652, best b 36.14420827382079\n",
      "times 57, min loss 104029.81825710663, best k -52.98979091614652, best b 36.044208273820786\n",
      "times 58, min loss 103686.28521098765, best k -52.88979091614652, best b 35.944208273820784\n",
      "times 59, min loss 103343.32056598521, best k -52.789790916146515, best b 35.84420827382078\n",
      "times 60, min loss 103000.9243220993, best k -52.689790916146514, best b 35.74420827382078\n",
      "times 61, min loss 102659.0964793298, best k -52.58979091614651, best b 35.64420827382078\n",
      "times 62, min loss 102317.83703767686, best k -52.48979091614651, best b 35.54420827382078\n",
      "times 63, min loss 101977.14599714027, best k -52.38979091614651, best b 35.44420827382078\n",
      "times 64, min loss 101637.02335772029, best k -52.28979091614651, best b 35.344208273820776\n",
      "times 65, min loss 101297.46911941656, best k -52.18979091614651, best b 35.244208273820774\n",
      "times 66, min loss 100958.48328222948, best k -52.089790916146505, best b 35.14420827382077\n",
      "times 67, min loss 100620.06584615896, best k -51.989790916146504, best b 35.04420827382077\n",
      "times 68, min loss 100282.21681120495, best k -51.8897909161465, best b 34.94420827382077\n",
      "times 69, min loss 99944.93617736718, best k -51.7897909161465, best b 34.84420827382077\n",
      "times 70, min loss 99608.22394464616, best k -51.6897909161465, best b 34.74420827382077\n",
      "times 71, min loss 99272.08011304145, best k -51.5897909161465, best b 34.644208273820766\n",
      "times 72, min loss 98936.50468255334, best k -51.4897909161465, best b 34.544208273820765\n",
      "times 73, min loss 98601.49765318166, best k -51.389790916146495, best b 34.44420827382076\n",
      "times 74, min loss 98267.05902492639, best k -51.289790916146494, best b 34.34420827382076\n",
      "times 75, min loss 97933.18879778757, best k -51.18979091614649, best b 34.24420827382076\n",
      "times 76, min loss 97599.88697176537, best k -51.08979091614649, best b 34.14420827382076\n",
      "times 77, min loss 97267.1535468595, best k -50.98979091614649, best b 34.04420827382076\n",
      "times 78, min loss 96934.98852307028, best k -50.88979091614649, best b 33.944208273820756\n",
      "times 79, min loss 96603.39190039744, best k -50.78979091614649, best b 33.844208273820755\n",
      "times 80, min loss 96272.36367884114, best k -50.689790916146485, best b 33.74420827382075\n",
      "times 81, min loss 95941.90385840152, best k -50.589790916146484, best b 33.64420827382075\n",
      "times 82, min loss 95612.01243907804, best k -50.48979091614648, best b 33.54420827382075\n",
      "times 83, min loss 95282.68942087117, best k -50.38979091614648, best b 33.44420827382075\n",
      "times 84, min loss 94953.93480378065, best k -50.28979091614648, best b 33.34420827382075\n",
      "times 85, min loss 94625.7485878067, best k -50.18979091614648, best b 33.244208273820746\n",
      "times 86, min loss 94298.13077294939, best k -50.08979091614648, best b 33.144208273820745\n",
      "times 87, min loss 93971.08135920847, best k -49.989790916146475, best b 33.04420827382074\n",
      "times 88, min loss 93644.60034658402, best k -49.889790916146474, best b 32.94420827382074\n",
      "times 89, min loss 93318.68773507599, best k -49.78979091614647, best b 32.84420827382074\n",
      "times 90, min loss 92993.34352468455, best k -49.68979091614647, best b 32.74420827382074\n",
      "times 91, min loss 92668.56771540956, best k -49.58979091614647, best b 32.64420827382074\n",
      "times 92, min loss 92344.36030725094, best k -49.48979091614647, best b 32.544208273820736\n",
      "times 93, min loss 92020.721300209, best k -49.38979091614647, best b 32.444208273820735\n",
      "times 94, min loss 91697.65069428332, best k -49.289790916146465, best b 32.34420827382073\n",
      "times 95, min loss 91375.14848947426, best k -49.189790916146464, best b 32.24420827382073\n",
      "times 96, min loss 91053.21468578164, best k -49.08979091614646, best b 32.14420827382073\n",
      "times 97, min loss 90731.8492832055, best k -48.98979091614646, best b 32.04420827382073\n",
      "times 98, min loss 90411.05228174594, best k -48.88979091614646, best b 31.944208273820728\n",
      "times 99, min loss 90090.82368140266, best k -48.78979091614646, best b 31.844208273820726\n",
      "times 100, min loss 89771.16348217607, best k -48.68979091614646, best b 31.744208273820725\n",
      "times 101, min loss 89452.07168406576, best k -48.589790916146455, best b 31.644208273820723\n",
      "times 102, min loss 89133.54828707206, best k -48.489790916146454, best b 31.544208273820722\n",
      "times 103, min loss 88815.59329119496, best k -48.38979091614645, best b 31.44420827382072\n",
      "times 104, min loss 88498.2066964342, best k -48.28979091614645, best b 31.34420827382072\n",
      "times 105, min loss 88181.38850278994, best k -48.18979091614645, best b 31.244208273820718\n",
      "times 106, min loss 87865.13871026204, best k -48.08979091614645, best b 31.144208273820716\n",
      "times 107, min loss 87549.45731885088, best k -47.98979091614645, best b 31.044208273820715\n",
      "times 108, min loss 87234.34432855596, best k -47.889790916146445, best b 30.944208273820713\n",
      "times 109, min loss 86919.79973937756, best k -47.789790916146444, best b 30.844208273820712\n",
      "times 110, min loss 86605.82355131574, best k -47.68979091614644, best b 30.74420827382071\n",
      "times 111, min loss 86292.41576437037, best k -47.58979091614644, best b 30.64420827382071\n",
      "times 112, min loss 85979.57637854143, best k -47.48979091614644, best b 30.544208273820708\n",
      "times 113, min loss 85667.3053938291, best k -47.38979091614644, best b 30.444208273820706\n",
      "times 114, min loss 85355.60281023323, best k -47.28979091614644, best b 30.344208273820705\n",
      "times 115, min loss 85044.4686277537, best k -47.189790916146436, best b 30.244208273820703\n",
      "times 116, min loss 84733.90284639076, best k -47.089790916146434, best b 30.144208273820702\n",
      "times 117, min loss 84423.90546614434, best k -46.98979091614643, best b 30.0442082738207\n",
      "times 118, min loss 84114.47648701434, best k -46.88979091614643, best b 29.9442082738207\n",
      "times 119, min loss 83805.61590900082, best k -46.78979091614643, best b 29.844208273820698\n",
      "times 120, min loss 83497.32373210377, best k -46.68979091614643, best b 29.744208273820696\n",
      "times 121, min loss 83189.5999563232, best k -46.58979091614643, best b 29.644208273820695\n",
      "times 122, min loss 82882.44458165912, best k -46.489790916146426, best b 29.544208273820693\n",
      "times 123, min loss 82575.85760811146, best k -46.389790916146424, best b 29.444208273820692\n",
      "times 124, min loss 82269.83903568044, best k -46.28979091614642, best b 29.34420827382069\n",
      "times 125, min loss 81964.38886436584, best k -46.18979091614642, best b 29.24420827382069\n",
      "times 126, min loss 81659.5070941677, best k -46.08979091614642, best b 29.144208273820688\n",
      "times 127, min loss 81355.19372508608, best k -45.98979091614642, best b 29.044208273820686\n",
      "times 128, min loss 81051.4487571209, best k -45.88979091614642, best b 28.944208273820685\n",
      "times 129, min loss 80748.27219027215, best k -45.789790916146416, best b 28.844208273820684\n",
      "times 130, min loss 80445.66402453999, best k -45.689790916146414, best b 28.744208273820682\n",
      "times 131, min loss 80143.62425992415, best k -45.58979091614641, best b 28.64420827382068\n",
      "times 132, min loss 79842.15289642506, best k -45.48979091614641, best b 28.54420827382068\n",
      "times 133, min loss 79541.24993404227, best k -45.38979091614641, best b 28.444208273820678\n",
      "times 134, min loss 79240.91537277591, best k -45.28979091614641, best b 28.344208273820676\n",
      "times 135, min loss 78941.1492126261, best k -45.18979091614641, best b 28.244208273820675\n",
      "times 136, min loss 78641.95145359283, best k -45.089790916146406, best b 28.144208273820674\n",
      "times 137, min loss 78343.32209567589, best k -44.989790916146404, best b 28.044208273820672\n",
      "times 138, min loss 78045.2611388756, best k -44.8897909161464, best b 27.94420827382067\n",
      "times 139, min loss 77747.76858319173, best k -44.7897909161464, best b 27.84420827382067\n",
      "times 140, min loss 77450.84442862436, best k -44.6897909161464, best b 27.744208273820668\n",
      "times 141, min loss 77154.48867517342, best k -44.5897909161464, best b 27.644208273820666\n",
      "times 142, min loss 76858.70132283903, best k -44.4897909161464, best b 27.544208273820665\n",
      "times 143, min loss 76563.48237162117, best k -44.389790916146396, best b 27.444208273820664\n",
      "times 144, min loss 76268.83182151965, best k -44.289790916146394, best b 27.344208273820662\n",
      "times 145, min loss 75974.74967253472, best k -44.18979091614639, best b 27.24420827382066\n",
      "times 146, min loss 75681.23592466608, best k -44.08979091614639, best b 27.14420827382066\n",
      "times 147, min loss 75388.29057791417, best k -43.98979091614639, best b 27.044208273820658\n",
      "times 148, min loss 75095.9136322786, best k -43.88979091614639, best b 26.944208273820657\n",
      "times 149, min loss 74804.10508775963, best k -43.78979091614639, best b 26.844208273820655\n",
      "times 150, min loss 74512.86494435694, best k -43.689790916146386, best b 26.744208273820654\n",
      "times 151, min loss 74222.19320207092, best k -43.589790916146384, best b 26.644208273820652\n",
      "times 152, min loss 73932.08986090132, best k -43.48979091614638, best b 26.54420827382065\n",
      "times 153, min loss 73642.55492084826, best k -43.38979091614638, best b 26.44420827382065\n",
      "times 154, min loss 73353.5883819115, best k -43.28979091614638, best b 26.344208273820648\n",
      "times 155, min loss 73065.1902440914, best k -43.18979091614638, best b 26.244208273820647\n",
      "times 156, min loss 72777.36050738768, best k -43.08979091614638, best b 26.144208273820645\n",
      "times 157, min loss 72490.09917180057, best k -42.989790916146376, best b 26.044208273820644\n",
      "times 158, min loss 72203.40623732984, best k -42.889790916146374, best b 25.944208273820642\n",
      "times 159, min loss 71917.28170397563, best k -42.78979091614637, best b 25.84420827382064\n",
      "times 160, min loss 71631.7255717379, best k -42.68979091614637, best b 25.74420827382064\n",
      "times 161, min loss 71346.73784061662, best k -42.58979091614637, best b 25.644208273820638\n",
      "times 162, min loss 71062.31851061185, best k -42.48979091614637, best b 25.544208273820637\n",
      "times 163, min loss 70778.46758172357, best k -42.38979091614637, best b 25.444208273820635\n",
      "times 164, min loss 70495.18505395176, best k -42.289790916146366, best b 25.344208273820634\n",
      "times 165, min loss 70212.47092729648, best k -42.189790916146364, best b 25.244208273820632\n",
      "times 166, min loss 69930.32520175754, best k -42.08979091614636, best b 25.14420827382063\n",
      "times 167, min loss 69648.74787733515, best k -41.98979091614636, best b 25.04420827382063\n",
      "times 168, min loss 69367.73895402938, best k -41.88979091614636, best b 24.944208273820628\n",
      "times 169, min loss 69087.29843183995, best k -41.78979091614636, best b 24.844208273820627\n",
      "times 170, min loss 68807.42631076701, best k -41.68979091614636, best b 24.744208273820625\n",
      "times 171, min loss 68528.12259081051, best k -41.589790916146356, best b 24.644208273820624\n",
      "times 172, min loss 68249.3872719706, best k -41.489790916146355, best b 24.544208273820622\n",
      "times 173, min loss 67971.22035424711, best k -41.38979091614635, best b 24.44420827382062\n",
      "times 174, min loss 67693.62183764011, best k -41.28979091614635, best b 24.34420827382062\n",
      "times 175, min loss 67416.59172214962, best k -41.18979091614635, best b 24.244208273820618\n",
      "times 176, min loss 67140.13000777559, best k -41.08979091614635, best b 24.144208273820617\n",
      "times 177, min loss 66864.23669451804, best k -40.98979091614635, best b 24.044208273820615\n",
      "times 178, min loss 66588.91178237693, best k -40.889790916146346, best b 23.944208273820614\n",
      "times 179, min loss 66314.1552713524, best k -40.789790916146345, best b 23.844208273820612\n",
      "times 180, min loss 66039.96716144434, best k -40.68979091614634, best b 23.74420827382061\n",
      "times 181, min loss 65766.34745265266, best k -40.58979091614634, best b 23.64420827382061\n",
      "times 182, min loss 65493.29614497746, best k -40.48979091614634, best b 23.544208273820608\n",
      "times 183, min loss 65220.81323841885, best k -40.38979091614634, best b 23.444208273820607\n",
      "times 184, min loss 64948.89873297668, best k -40.28979091614634, best b 23.344208273820605\n",
      "times 185, min loss 64677.552628651036, best k -40.189790916146336, best b 23.244208273820604\n",
      "times 186, min loss 64406.77492544184, best k -40.089790916146335, best b 23.144208273820603\n",
      "times 187, min loss 64136.56562334904, best k -39.98979091614633, best b 23.0442082738206\n",
      "times 188, min loss 63866.92472237285, best k -39.88979091614633, best b 22.9442082738206\n",
      "times 189, min loss 63597.852222513146, best k -39.78979091614633, best b 22.8442082738206\n",
      "times 190, min loss 63329.34812376978, best k -39.68979091614633, best b 22.744208273820597\n",
      "times 191, min loss 63061.41242614297, best k -39.58979091614633, best b 22.644208273820595\n",
      "times 192, min loss 62794.045129632665, best k -39.489790916146326, best b 22.544208273820594\n",
      "times 193, min loss 62527.24623423885, best k -39.389790916146325, best b 22.444208273820593\n",
      "times 194, min loss 62261.01573996152, best k -39.28979091614632, best b 22.34420827382059\n",
      "times 195, min loss 61995.35364680063, best k -39.18979091614632, best b 22.24420827382059\n",
      "times 196, min loss 61730.25995475629, best k -39.08979091614632, best b 22.14420827382059\n",
      "times 197, min loss 61465.73466382845, best k -38.98979091614632, best b 22.044208273820587\n",
      "times 198, min loss 61201.777774017035, best k -38.88979091614632, best b 21.944208273820585\n",
      "times 199, min loss 60938.38928532206, best k -38.789790916146316, best b 21.844208273820584\n",
      "times 200, min loss 60675.569197743556, best k -38.689790916146315, best b 21.744208273820583\n",
      "times 201, min loss 60413.31751128161, best k -38.58979091614631, best b 21.64420827382058\n",
      "times 202, min loss 60151.634225936075, best k -38.48979091614631, best b 21.54420827382058\n",
      "times 203, min loss 59890.51934170715, best k -38.38979091614631, best b 21.44420827382058\n",
      "times 204, min loss 59629.97285859455, best k -38.28979091614631, best b 21.344208273820577\n",
      "times 205, min loss 59369.99477659855, best k -38.18979091614631, best b 21.244208273820576\n",
      "times 206, min loss 59110.58509571901, best k -38.089790916146306, best b 21.144208273820574\n",
      "times 207, min loss 58851.743815955946, best k -37.989790916146305, best b 21.044208273820573\n",
      "times 208, min loss 58593.470937309336, best k -37.8897909161463, best b 20.94420827382057\n",
      "times 209, min loss 58335.7664597792, best k -37.7897909161463, best b 20.84420827382057\n",
      "times 210, min loss 58078.63038336556, best k -37.6897909161463, best b 20.74420827382057\n",
      "times 211, min loss 57822.06270806844, best k -37.5897909161463, best b 20.644208273820567\n",
      "times 212, min loss 57566.0634338877, best k -37.4897909161463, best b 20.544208273820566\n",
      "times 213, min loss 57310.632560823564, best k -37.389790916146296, best b 20.444208273820564\n",
      "times 214, min loss 57055.7700888759, best k -37.289790916146295, best b 20.344208273820563\n",
      "times 215, min loss 56801.47601804467, best k -37.18979091614629, best b 20.24420827382056\n",
      "times 216, min loss 56547.750348329944, best k -37.08979091614629, best b 20.14420827382056\n",
      "times 217, min loss 56294.5930797317, best k -36.98979091614629, best b 20.04420827382056\n",
      "times 218, min loss 56042.0042122499, best k -36.88979091614629, best b 19.944208273820557\n",
      "times 219, min loss 55789.98374588459, best k -36.78979091614629, best b 19.844208273820556\n",
      "times 220, min loss 55538.53168063577, best k -36.689790916146286, best b 19.744208273820554\n",
      "times 221, min loss 55287.64801650342, best k -36.589790916146285, best b 19.644208273820553\n",
      "times 222, min loss 55037.332753487564, best k -36.48979091614628, best b 19.54420827382055\n",
      "times 223, min loss 54787.585891588235, best k -36.38979091614628, best b 19.44420827382055\n",
      "times 224, min loss 54538.40743080534, best k -36.28979091614628, best b 19.34420827382055\n",
      "times 225, min loss 54289.797371138906, best k -36.18979091614628, best b 19.244208273820547\n",
      "times 226, min loss 54041.75571258904, best k -36.08979091614628, best b 19.144208273820546\n",
      "times 227, min loss 53794.282455155575, best k -35.989790916146276, best b 19.044208273820544\n",
      "times 228, min loss 53547.37759883871, best k -35.889790916146275, best b 18.944208273820543\n",
      "times 229, min loss 53301.04114363827, best k -35.78979091614627, best b 18.84420827382054\n",
      "times 230, min loss 53055.27308955416, best k -35.68979091614627, best b 18.74420827382054\n",
      "times 231, min loss 52810.073436586674, best k -35.58979091614627, best b 18.64420827382054\n",
      "times 232, min loss 52565.44218473561, best k -35.48979091614627, best b 18.544208273820537\n",
      "times 233, min loss 52321.37933400106, best k -35.38979091614627, best b 18.444208273820536\n",
      "times 234, min loss 52077.88488438304, best k -35.289790916146266, best b 18.344208273820534\n",
      "times 235, min loss 51834.9588358814, best k -35.189790916146265, best b 18.244208273820533\n",
      "times 236, min loss 51592.6011884964, best k -35.089790916146264, best b 18.14420827382053\n",
      "times 237, min loss 51350.81194222779, best k -34.98979091614626, best b 18.04420827382053\n",
      "times 238, min loss 51109.591097075645, best k -34.88979091614626, best b 17.94420827382053\n",
      "times 239, min loss 50868.93865304002, best k -34.78979091614626, best b 17.844208273820527\n",
      "times 240, min loss 50628.85461012084, best k -34.68979091614626, best b 17.744208273820526\n",
      "times 241, min loss 50389.33896831815, best k -34.58979091614626, best b 17.644208273820524\n",
      "times 242, min loss 50150.39172763198, best k -34.489790916146255, best b 17.544208273820523\n",
      "times 243, min loss 49912.01288806228, best k -34.389790916146254, best b 17.44420827382052\n",
      "times 244, min loss 49674.20244960903, best k -34.28979091614625, best b 17.34420827382052\n",
      "times 245, min loss 49436.960412272245, best k -34.18979091614625, best b 17.24420827382052\n",
      "times 246, min loss 49200.28677605199, best k -34.08979091614625, best b 17.144208273820517\n",
      "times 247, min loss 48964.18154094814, best k -33.98979091614625, best b 17.044208273820516\n",
      "times 248, min loss 48728.644706960884, best k -33.88979091614625, best b 16.944208273820514\n",
      "times 249, min loss 48493.676274089994, best k -33.789790916146245, best b 16.844208273820513\n",
      "times 250, min loss 48259.27624233569, best k -33.689790916146244, best b 16.74420827382051\n",
      "times 251, min loss 48025.444611697865, best k -33.58979091614624, best b 16.64420827382051\n",
      "times 252, min loss 47792.18138217652, best k -33.48979091614624, best b 16.54420827382051\n",
      "times 253, min loss 47559.48655377157, best k -33.38979091614624, best b 16.444208273820507\n",
      "times 254, min loss 47327.36012648322, best k -33.28979091614624, best b 16.344208273820506\n",
      "times 255, min loss 47095.80210031122, best k -33.18979091614624, best b 16.244208273820504\n",
      "times 256, min loss 46864.81247525582, best k -33.089790916146235, best b 16.144208273820503\n",
      "times 257, min loss 46634.391251316854, best k -32.989790916146234, best b 16.0442082738205\n",
      "times 258, min loss 46404.53842849438, best k -32.88979091614623, best b 15.944208273820502\n",
      "times 259, min loss 46175.25400678829, best k -32.78979091614623, best b 15.844208273820502\n",
      "times 260, min loss 45946.537986198826, best k -32.68979091614623, best b 15.744208273820503\n",
      "times 261, min loss 45718.39036672576, best k -32.58979091614623, best b 15.644208273820503\n",
      "times 262, min loss 45490.81114836921, best k -32.48979091614623, best b 15.544208273820503\n",
      "times 263, min loss 45263.80033112913, best k -32.389790916146225, best b 15.444208273820504\n",
      "times 264, min loss 45037.35791500557, best k -32.289790916146224, best b 15.344208273820504\n",
      "times 265, min loss 44811.483899998464, best k -32.18979091614622, best b 15.244208273820504\n",
      "times 266, min loss 44586.17828610778, best k -32.08979091614622, best b 15.144208273820505\n",
      "times 267, min loss 44361.44107333362, best k -31.98979091614622, best b 15.044208273820505\n",
      "times 268, min loss 44137.27226167599, best k -31.889790916146218, best b 14.944208273820506\n",
      "times 269, min loss 43913.67185113484, best k -31.789790916146217, best b 14.844208273820506\n",
      "times 270, min loss 43690.639841710065, best k -31.689790916146215, best b 14.744208273820506\n",
      "times 271, min loss 43468.176233401944, best k -31.589790916146214, best b 14.644208273820507\n",
      "times 272, min loss 43246.28102621012, best k -31.489790916146212, best b 14.544208273820507\n",
      "times 273, min loss 43024.954220134896, best k -31.38979091614621, best b 14.444208273820507\n",
      "times 274, min loss 42804.19581517615, best k -31.28979091614621, best b 14.344208273820508\n",
      "times 275, min loss 42584.005811333875, best k -31.189790916146208, best b 14.244208273820508\n",
      "times 276, min loss 42364.38420860801, best k -31.089790916146207, best b 14.144208273820508\n",
      "times 277, min loss 42145.33100699874, best k -30.989790916146205, best b 14.044208273820509\n",
      "times 278, min loss 41926.8462065059, best k -30.889790916146204, best b 13.944208273820509\n",
      "times 279, min loss 41708.92980712954, best k -30.789790916146202, best b 13.84420827382051\n",
      "times 280, min loss 41491.58180886965, best k -30.6897909161462, best b 13.74420827382051\n",
      "times 281, min loss 41274.80221172626, best k -30.5897909161462, best b 13.64420827382051\n",
      "times 282, min loss 41058.59101569934, best k -30.489790916146198, best b 13.54420827382051\n",
      "times 283, min loss 40842.94822078891, best k -30.389790916146197, best b 13.44420827382051\n",
      "times 284, min loss 40627.873826994946, best k -30.289790916146195, best b 13.344208273820511\n",
      "times 285, min loss 40413.36783431749, best k -30.189790916146194, best b 13.244208273820512\n",
      "times 286, min loss 40199.43024275648, best k -30.089790916146193, best b 13.144208273820512\n",
      "times 287, min loss 39986.06105231205, best k -29.98979091614619, best b 13.044208273820512\n",
      "times 288, min loss 39773.260262984, best k -29.88979091614619, best b 12.944208273820513\n",
      "times 289, min loss 39561.02787477248, best k -29.78979091614619, best b 12.844208273820513\n",
      "times 290, min loss 39349.36388767745, best k -29.689790916146187, best b 12.744208273820513\n",
      "times 291, min loss 39138.26830169883, best k -29.589790916146185, best b 12.644208273820514\n",
      "times 292, min loss 38927.74111683677, best k -29.489790916146184, best b 12.544208273820514\n",
      "times 293, min loss 38717.78233309113, best k -29.389790916146183, best b 12.444208273820514\n",
      "times 294, min loss 38508.39195046203, best k -29.28979091614618, best b 12.344208273820515\n",
      "times 295, min loss 38299.56996894936, best k -29.18979091614618, best b 12.244208273820515\n",
      "times 296, min loss 38091.31638855319, best k -29.08979091614618, best b 12.144208273820515\n",
      "times 297, min loss 37883.63120927353, best k -28.989790916146177, best b 12.044208273820516\n",
      "times 298, min loss 37676.51443111036, best k -28.889790916146175, best b 11.944208273820516\n",
      "times 299, min loss 37469.96605406362, best k -28.789790916146174, best b 11.844208273820517\n",
      "times 300, min loss 37263.98607813336, best k -28.689790916146173, best b 11.744208273820517\n",
      "times 301, min loss 37058.5745033197, best k -28.58979091614617, best b 11.644208273820517\n",
      "times 302, min loss 36853.73132962235, best k -28.48979091614617, best b 11.544208273820518\n",
      "times 303, min loss 36649.4565570416, best k -28.38979091614617, best b 11.444208273820518\n",
      "times 304, min loss 36445.7501855773, best k -28.289790916146167, best b 11.344208273820518\n",
      "times 305, min loss 36242.612215229485, best k -28.189790916146166, best b 11.244208273820519\n",
      "times 306, min loss 36040.042645998146, best k -28.089790916146164, best b 11.144208273820519\n",
      "times 307, min loss 35838.041477883286, best k -27.989790916146163, best b 11.04420827382052\n",
      "times 308, min loss 35636.608710884895, best k -27.88979091614616, best b 10.94420827382052\n",
      "times 309, min loss 35435.74434500298, best k -27.78979091614616, best b 10.84420827382052\n",
      "times 310, min loss 35235.44838023762, best k -27.68979091614616, best b 10.74420827382052\n",
      "times 311, min loss 35035.72081658866, best k -27.589790916146157, best b 10.64420827382052\n",
      "times 312, min loss 34836.561654056226, best k -27.489790916146156, best b 10.544208273820521\n",
      "times 313, min loss 34637.970892640275, best k -27.389790916146154, best b 10.444208273820522\n",
      "times 314, min loss 34439.94853234079, best k -27.289790916146153, best b 10.344208273820522\n",
      "times 315, min loss 34242.49457315784, best k -27.18979091614615, best b 10.244208273820522\n",
      "times 316, min loss 34045.609015091286, best k -27.08979091614615, best b 10.144208273820523\n",
      "times 317, min loss 33849.291858141245, best k -26.98979091614615, best b 10.044208273820523\n",
      "times 318, min loss 33653.543102307696, best k -26.889790916146147, best b 9.944208273820523\n",
      "times 319, min loss 33458.36274759062, best k -26.789790916146146, best b 9.844208273820524\n",
      "times 320, min loss 33263.75079399002, best k -26.689790916146144, best b 9.744208273820524\n",
      "times 321, min loss 33069.70724150593, best k -26.589790916146143, best b 9.644208273820524\n",
      "times 322, min loss 32876.23209013832, best k -26.48979091614614, best b 9.544208273820525\n",
      "times 323, min loss 32683.325339887175, best k -26.38979091614614, best b 9.444208273820525\n",
      "times 324, min loss 32490.98699075248, best k -26.28979091614614, best b 9.344208273820525\n",
      "times 325, min loss 32299.21704273431, best k -26.189790916146137, best b 9.244208273820526\n",
      "times 326, min loss 32108.015495832646, best k -26.089790916146136, best b 9.144208273820526\n",
      "times 327, min loss 31917.38235004742, best k -25.989790916146134, best b 9.044208273820527\n",
      "times 328, min loss 31727.317605378685, best k -25.889790916146133, best b 8.944208273820527\n",
      "times 329, min loss 31537.821261826404, best k -25.78979091614613, best b 8.844208273820527\n",
      "times 330, min loss 31348.893319390725, best k -25.68979091614613, best b 8.744208273820528\n",
      "times 331, min loss 31160.533778071407, best k -25.58979091614613, best b 8.644208273820528\n",
      "times 332, min loss 30972.742637868625, best k -25.489790916146127, best b 8.544208273820528\n",
      "times 333, min loss 30785.519898782302, best k -25.389790916146126, best b 8.444208273820529\n",
      "times 334, min loss 30598.865560812428, best k -25.289790916146124, best b 8.344208273820529\n",
      "times 335, min loss 30412.779623959093, best k -25.189790916146123, best b 8.24420827382053\n",
      "times 336, min loss 30227.26208822221, best k -25.08979091614612, best b 8.14420827382053\n",
      "times 337, min loss 30042.31295360184, best k -24.98979091614612, best b 8.04420827382053\n",
      "times 338, min loss 29857.932220097937, best k -24.88979091614612, best b 7.94420827382053\n",
      "times 339, min loss 29674.119887710487, best k -24.789790916146117, best b 7.844208273820531\n",
      "times 340, min loss 29490.875956439562, best k -24.689790916146116, best b 7.744208273820531\n",
      "times 341, min loss 29308.2004262851, best k -24.589790916146114, best b 7.6442082738205315\n",
      "times 342, min loss 29126.09329724712, best k -24.489790916146113, best b 7.544208273820532\n",
      "times 343, min loss 28944.55456932563, best k -24.38979091614611, best b 7.444208273820532\n",
      "times 344, min loss 28763.584242520592, best k -24.28979091614611, best b 7.3442082738205325\n",
      "times 345, min loss 28583.182316832077, best k -24.18979091614611, best b 7.244208273820533\n",
      "times 346, min loss 28403.34879226002, best k -24.089790916146107, best b 7.144208273820533\n",
      "times 347, min loss 28224.083668804455, best k -23.989790916146106, best b 7.044208273820534\n",
      "times 348, min loss 28045.386946465358, best k -23.889790916146104, best b 6.944208273820534\n",
      "times 349, min loss 27867.258625242768, best k -23.789790916146103, best b 6.844208273820534\n",
      "times 350, min loss 27689.698705136663, best k -23.6897909161461, best b 6.744208273820535\n",
      "times 351, min loss 27512.707186147007, best k -23.5897909161461, best b 6.644208273820535\n",
      "times 352, min loss 27336.284068273842, best k -23.4897909161461, best b 6.544208273820535\n",
      "times 353, min loss 27160.42935151718, best k -23.389790916146097, best b 6.444208273820536\n",
      "times 354, min loss 26985.143035877016, best k -23.289790916146096, best b 6.344208273820536\n",
      "times 355, min loss 26810.425121353328, best k -23.189790916146094, best b 6.2442082738205364\n",
      "times 356, min loss 26636.27560794608, best k -23.089790916146093, best b 6.144208273820537\n",
      "times 357, min loss 26462.694495655294, best k -22.98979091614609, best b 6.044208273820537\n",
      "times 358, min loss 26289.681784481072, best k -22.88979091614609, best b 5.9442082738205375\n",
      "times 359, min loss 26117.237474423262, best k -22.78979091614609, best b 5.844208273820538\n",
      "times 360, min loss 25945.361565481948, best k -22.689790916146087, best b 5.744208273820538\n",
      "times 361, min loss 25774.054057657133, best k -22.589790916146086, best b 5.644208273820539\n",
      "times 362, min loss 25603.314950948818, best k -22.489790916146084, best b 5.544208273820539\n",
      "times 363, min loss 25433.14424535696, best k -22.389790916146083, best b 5.444208273820539\n",
      "times 364, min loss 25263.541940881612, best k -22.28979091614608, best b 5.34420827382054\n",
      "times 365, min loss 25094.508037522744, best k -22.18979091614608, best b 5.24420827382054\n",
      "times 366, min loss 24926.042535280296, best k -22.08979091614608, best b 5.14420827382054\n",
      "times 367, min loss 24758.145434154394, best k -21.989790916146077, best b 5.044208273820541\n",
      "times 368, min loss 24590.816734144955, best k -21.889790916146076, best b 4.944208273820541\n",
      "times 369, min loss 24424.05643525202, best k -21.789790916146075, best b 4.844208273820541\n",
      "times 370, min loss 24257.86453747553, best k -21.689790916146073, best b 4.744208273820542\n",
      "times 371, min loss 24092.24104081553, best k -21.58979091614607, best b 4.644208273820542\n",
      "times 372, min loss 23927.185945271995, best k -21.48979091614607, best b 4.5442082738205425\n",
      "times 373, min loss 23762.69925084501, best k -21.38979091614607, best b 4.444208273820543\n",
      "times 374, min loss 23598.78095753447, best k -21.289790916146067, best b 4.344208273820543\n",
      "times 375, min loss 23435.431065340388, best k -21.189790916146066, best b 4.2442082738205436\n",
      "times 376, min loss 23272.64957426279, best k -21.089790916146065, best b 4.144208273820544\n",
      "times 377, min loss 23110.43648430171, best k -20.989790916146063, best b 4.044208273820544\n",
      "times 378, min loss 22948.79179545706, best k -20.88979091614606, best b 3.944208273820544\n",
      "times 379, min loss 22787.71550772895, best k -20.78979091614606, best b 3.844208273820544\n",
      "times 380, min loss 22627.20762111727, best k -20.68979091614606, best b 3.744208273820544\n",
      "times 381, min loss 22467.268135622115, best k -20.589790916146057, best b 3.644208273820544\n",
      "times 382, min loss 22307.897051243413, best k -20.489790916146056, best b 3.544208273820544\n",
      "times 383, min loss 22149.09436798121, best k -20.389790916146055, best b 3.4442082738205437\n",
      "times 384, min loss 21990.860085835528, best k -20.289790916146053, best b 3.3442082738205436\n",
      "times 385, min loss 21833.194204806245, best k -20.189790916146052, best b 3.2442082738205436\n",
      "times 386, min loss 21676.096724893498, best k -20.08979091614605, best b 3.1442082738205435\n",
      "times 387, min loss 21519.56764609722, best k -19.98979091614605, best b 3.0442082738205434\n",
      "times 388, min loss 21363.606968417425, best k -19.889790916146048, best b 2.9442082738205433\n",
      "times 389, min loss 21208.214691854115, best k -19.789790916146046, best b 2.844208273820543\n",
      "times 390, min loss 21053.39081640729, best k -19.689790916146045, best b 2.744208273820543\n",
      "times 391, min loss 20899.13534207694, best k -19.589790916146043, best b 2.644208273820543\n",
      "times 392, min loss 20745.448268863085, best k -19.489790916146042, best b 2.544208273820543\n",
      "times 393, min loss 20592.329596765685, best k -19.38979091614604, best b 2.444208273820543\n",
      "times 394, min loss 20439.779325784802, best k -19.28979091614604, best b 2.3442082738205428\n",
      "times 395, min loss 20287.797455920376, best k -19.189790916146038, best b 2.2442082738205427\n",
      "times 396, min loss 20136.38398717244, best k -19.089790916146036, best b 2.1442082738205426\n",
      "times 397, min loss 19985.53891954099, best k -18.989790916146035, best b 2.0442082738205425\n",
      "times 398, min loss 19835.262253026, best k -18.889790916146033, best b 1.9442082738205424\n",
      "times 399, min loss 19685.553987627536, best k -18.789790916146032, best b 1.8442082738205423\n",
      "times 400, min loss 19536.414123345512, best k -18.68979091614603, best b 1.7442082738205422\n",
      "times 401, min loss 19387.842660179973, best k -18.58979091614603, best b 1.6442082738205421\n",
      "times 402, min loss 19239.839598130915, best k -18.489790916146028, best b 1.544208273820542\n",
      "times 403, min loss 19092.40493719838, best k -18.389790916146026, best b 1.444208273820542\n",
      "times 404, min loss 18945.538677382297, best k -18.289790916146025, best b 1.3442082738205419\n",
      "times 405, min loss 18799.24081868269, best k -18.189790916146023, best b 1.2442082738205418\n",
      "times 406, min loss 18653.51136109958, best k -18.089790916146022, best b 1.1442082738205417\n",
      "times 407, min loss 18508.350304632946, best k -17.98979091614602, best b 1.0442082738205416\n",
      "times 408, min loss 18363.75764928279, best k -17.88979091614602, best b 0.9442082738205416\n",
      "times 409, min loss 18219.733395049134, best k -17.789790916146018, best b 0.8442082738205416\n",
      "times 410, min loss 18076.277541931955, best k -17.689790916146016, best b 0.7442082738205417\n",
      "times 411, min loss 17933.390089931247, best k -17.589790916146015, best b 0.6442082738205417\n",
      "times 412, min loss 17791.07103904703, best k -17.489790916146013, best b 0.5442082738205417\n",
      "times 413, min loss 17649.32038927929, best k -17.389790916146012, best b 0.44420827382054173\n",
      "times 414, min loss 17508.138140628016, best k -17.28979091614601, best b 0.34420827382054175\n",
      "times 415, min loss 17367.524293093233, best k -17.18979091614601, best b 0.24420827382054175\n",
      "times 416, min loss 17227.47884667495, best k -17.089790916146008, best b 0.14420827382054174\n",
      "times 417, min loss 17088.00180137314, best k -16.989790916146006, best b 0.04420827382054174\n",
      "times 418, min loss 16949.0931571878, best k -16.889790916146005, best b -0.05579172617945827\n",
      "times 419, min loss 16810.752914118966, best k -16.789790916146003, best b -0.15579172617945827\n",
      "times 420, min loss 16672.981072166604, best k -16.689790916146002, best b -0.2557917261794583\n",
      "times 421, min loss 16535.77763133073, best k -16.589790916146, best b -0.3557917261794583\n",
      "times 422, min loss 16399.142591611322, best k -16.489790916146, best b -0.4557917261794583\n",
      "times 423, min loss 16263.075953008416, best k -16.389790916145998, best b -0.5557917261794583\n",
      "times 424, min loss 16127.577715521964, best k -16.289790916145996, best b -0.6557917261794582\n",
      "times 425, min loss 15992.647879152026, best k -16.189790916145995, best b -0.7557917261794582\n",
      "times 426, min loss 15858.286443898547, best k -16.089790916145994, best b -0.8557917261794582\n",
      "times 427, min loss 15724.493409761564, best k -15.989790916145994, best b -0.9557917261794582\n",
      "times 428, min loss 15591.268776741063, best k -15.889790916145994, best b -1.0557917261794583\n",
      "times 429, min loss 15458.612544837048, best k -15.789790916145995, best b -1.1557917261794584\n",
      "times 430, min loss 15326.524714049501, best k -15.689790916145995, best b -1.2557917261794584\n",
      "times 431, min loss 15195.00528437845, best k -15.589790916145995, best b -1.3557917261794585\n",
      "times 432, min loss 15064.054255823867, best k -15.489790916145996, best b -1.4557917261794586\n",
      "times 433, min loss 14933.671628385766, best k -15.389790916145996, best b -1.5557917261794587\n",
      "times 434, min loss 14803.857402064168, best k -15.289790916145996, best b -1.6557917261794588\n",
      "times 435, min loss 14674.611576859053, best k -15.189790916145997, best b -1.755791726179459\n",
      "times 436, min loss 14545.934152770405, best k -15.089790916145997, best b -1.855791726179459\n",
      "times 437, min loss 14417.825129798239, best k -14.989790916145997, best b -1.955791726179459\n",
      "times 438, min loss 14290.284507942544, best k -14.889790916145998, best b -2.055791726179459\n",
      "times 439, min loss 14163.312287203355, best k -14.789790916145998, best b -2.155791726179459\n",
      "times 440, min loss 14036.908467580633, best k -14.689790916145999, best b -2.255791726179459\n",
      "times 441, min loss 13911.073049074403, best k -14.589790916145999, best b -2.355791726179459\n",
      "times 442, min loss 13785.806031684662, best k -14.489790916146, best b -2.4557917261794593\n",
      "times 443, min loss 13661.107415411378, best k -14.389790916146, best b -2.5557917261794594\n",
      "times 444, min loss 13536.977200254585, best k -14.289790916146, best b -2.6557917261794595\n",
      "times 445, min loss 13413.415386214294, best k -14.189790916146, best b -2.7557917261794596\n",
      "times 446, min loss 13290.421973290458, best k -14.089790916146, best b -2.8557917261794596\n",
      "times 447, min loss 13167.99696148313, best k -13.989790916146001, best b -2.9557917261794597\n",
      "times 448, min loss 13046.140350792255, best k -13.889790916146001, best b -3.05579172617946\n",
      "times 449, min loss 12924.852141217876, best k -13.789790916146002, best b -3.15579172617946\n",
      "times 450, min loss 12804.132332760015, best k -13.689790916146002, best b -3.25579172617946\n",
      "times 451, min loss 12683.980925418578, best k -13.589790916146002, best b -3.35579172617946\n",
      "times 452, min loss 12564.397919193649, best k -13.489790916146003, best b -3.45579172617946\n",
      "times 453, min loss 12445.383314085198, best k -13.389790916146003, best b -3.5557917261794603\n",
      "times 454, min loss 12326.937110093242, best k -13.289790916146003, best b -3.6557917261794604\n",
      "times 455, min loss 12209.059307217763, best k -13.189790916146004, best b -3.7557917261794604\n",
      "times 456, min loss 12091.749905458762, best k -13.089790916146004, best b -3.8557917261794605\n",
      "times 457, min loss 11975.00890481624, best k -12.989790916146005, best b -3.9557917261794606\n",
      "times 458, min loss 11858.836305290199, best k -12.889790916146005, best b -4.055791726179461\n",
      "times 459, min loss 11743.232106880645, best k -12.789790916146005, best b -4.15579172617946\n",
      "times 460, min loss 11628.196309587567, best k -12.689790916146006, best b -4.25579172617946\n",
      "times 461, min loss 11513.728913410987, best k -12.589790916146006, best b -4.35579172617946\n",
      "times 462, min loss 11399.829918350892, best k -12.489790916146006, best b -4.455791726179459\n",
      "times 463, min loss 11286.499324407256, best k -12.389790916146007, best b -4.555791726179459\n",
      "times 464, min loss 11173.737131580101, best k -12.289790916146007, best b -4.655791726179459\n",
      "times 465, min loss 11061.543339869442, best k -12.189790916146007, best b -4.755791726179458\n",
      "times 466, min loss 10949.917949275265, best k -12.089790916146008, best b -4.855791726179458\n",
      "times 467, min loss 10838.860959797561, best k -11.989790916146008, best b -4.9557917261794575\n",
      "times 468, min loss 10728.372371436342, best k -11.889790916146008, best b -5.055791726179457\n",
      "times 469, min loss 10618.452184191608, best k -11.789790916146009, best b -5.155791726179457\n",
      "times 470, min loss 10509.100398063358, best k -11.68979091614601, best b -5.2557917261794564\n",
      "times 471, min loss 10400.317013051608, best k -11.58979091614601, best b -5.355791726179456\n",
      "times 472, min loss 10292.102029156304, best k -11.48979091614601, best b -5.455791726179456\n",
      "times 473, min loss 10184.455446377518, best k -11.38979091614601, best b -5.555791726179455\n",
      "times 474, min loss 10077.377264715198, best k -11.28979091614601, best b -5.655791726179455\n",
      "times 475, min loss 9970.867484169346, best k -11.189790916146011, best b -5.755791726179455\n",
      "times 476, min loss 9864.926104739983, best k -11.089790916146011, best b -5.855791726179454\n"
     ]
    },
    {
     "name": "stdout",
     "output_type": "stream",
     "text": [
      "times 477, min loss 9759.55312642713, best k -10.989790916146012, best b -5.955791726179454\n",
      "times 478, min loss 9654.748549230726, best k -10.889790916146012, best b -6.055791726179454\n",
      "times 479, min loss 9550.512373150821, best k -10.789790916146012, best b -6.155791726179453\n",
      "times 480, min loss 9446.844598187394, best k -10.689790916146013, best b -6.255791726179453\n",
      "times 481, min loss 9343.745224340439, best k -10.589790916146013, best b -6.3557917261794525\n",
      "times 482, min loss 9241.214251609987, best k -10.489790916146013, best b -6.455791726179452\n",
      "times 483, min loss 9139.251679996001, best k -10.389790916146014, best b -6.555791726179452\n",
      "times 484, min loss 9037.857509498503, best k -10.289790916146014, best b -6.6557917261794515\n",
      "times 485, min loss 8937.031740117489, best k -10.189790916146015, best b -6.755791726179451\n",
      "times 486, min loss 8836.77437185295, best k -10.089790916146015, best b -6.855791726179451\n",
      "times 487, min loss 8737.085404704894, best k -9.989790916146015, best b -6.95579172617945\n",
      "times 488, min loss 8637.964838673324, best k -9.889790916146016, best b -7.05579172617945\n",
      "times 489, min loss 8539.412673758234, best k -9.789790916146016, best b -7.15579172617945\n",
      "times 490, min loss 8441.42890995963, best k -9.689790916146016, best b -7.255791726179449\n",
      "times 491, min loss 8344.013547277504, best k -9.589790916146017, best b -7.355791726179449\n",
      "times 492, min loss 8247.166585711862, best k -9.489790916146017, best b -7.455791726179449\n",
      "times 493, min loss 8150.888025262701, best k -9.389790916146017, best b -7.555791726179448\n",
      "times 494, min loss 8055.177865930019, best k -9.289790916146018, best b -7.655791726179448\n",
      "times 495, min loss 7960.036107713827, best k -9.189790916146018, best b -7.755791726179448\n",
      "times 496, min loss 7865.462750614105, best k -9.089790916146018, best b -7.855791726179447\n",
      "times 497, min loss 7771.457794630885, best k -8.989790916146019, best b -7.955791726179447\n",
      "times 498, min loss 7678.021239764133, best k -8.88979091614602, best b -8.055791726179446\n",
      "times 499, min loss 7585.153086013864, best k -8.78979091614602, best b -8.155791726179446\n",
      "times 500, min loss 7492.853333380084, best k -8.68979091614602, best b -8.255791726179446\n",
      "times 501, min loss 7401.121981862783, best k -8.58979091614602, best b -8.355791726179445\n",
      "times 502, min loss 7309.959031461961, best k -8.48979091614602, best b -8.455791726179445\n",
      "times 503, min loss 7219.364482177628, best k -8.389790916146021, best b -8.555791726179445\n",
      "times 504, min loss 7129.338334009778, best k -8.289790916146021, best b -8.655791726179444\n",
      "times 505, min loss 7039.880586958403, best k -8.189790916146022, best b -8.755791726179444\n",
      "times 506, min loss 6950.991241023515, best k -8.089790916146022, best b -8.855791726179444\n",
      "times 507, min loss 6862.670296205095, best k -7.989790916146022, best b -8.955791726179443\n",
      "times 508, min loss 6774.917752503176, best k -7.889790916146023, best b -9.055791726179443\n",
      "times 509, min loss 6687.733609917726, best k -7.789790916146023, best b -9.155791726179443\n",
      "times 510, min loss 6601.117868448763, best k -7.689790916146023, best b -9.255791726179442\n",
      "times 511, min loss 6515.07052809628, best k -7.589790916146024, best b -9.355791726179442\n",
      "times 512, min loss 6429.5915888602885, best k -7.489790916146024, best b -9.455791726179442\n",
      "times 513, min loss 6344.681050740769, best k -7.3897909161460245, best b -9.555791726179441\n",
      "times 514, min loss 6260.338913737741, best k -7.289790916146025, best b -9.65579172617944\n",
      "times 515, min loss 6176.5651778511865, best k -7.189790916146025, best b -9.75579172617944\n",
      "times 516, min loss 6093.359843081119, best k -7.0897909161460255, best b -9.85579172617944\n",
      "times 517, min loss 6010.722909427536, best k -6.989790916146026, best b -9.95579172617944\n",
      "times 518, min loss 5928.654376890435, best k -6.889790916146026, best b -10.05579172617944\n",
      "times 519, min loss 5847.154245469807, best k -6.789790916146027, best b -10.155791726179439\n",
      "times 520, min loss 5766.222515165671, best k -6.689790916146027, best b -10.255791726179439\n",
      "times 521, min loss 5685.8591859780145, best k -6.589790916146027, best b -10.355791726179438\n",
      "times 522, min loss 5606.064257906833, best k -6.489790916146028, best b -10.455791726179438\n",
      "times 523, min loss 5526.837730952147, best k -6.389790916146028, best b -10.555791726179438\n",
      "times 524, min loss 5448.179605113933, best k -6.289790916146028, best b -10.655791726179437\n",
      "times 525, min loss 5370.089880392212, best k -6.189790916146029, best b -10.755791726179437\n",
      "times 526, min loss 5292.5685567869605, best k -6.089790916146029, best b -10.855791726179437\n",
      "times 527, min loss 5215.61563429819, best k -5.989790916146029, best b -10.955791726179436\n",
      "times 528, min loss 5139.2311129259115, best k -5.88979091614603, best b -11.055791726179436\n",
      "times 529, min loss 5063.4149926701075, best k -5.78979091614603, best b -11.155791726179435\n",
      "times 530, min loss 4988.167273530792, best k -5.6897909161460305, best b -11.255791726179435\n",
      "times 531, min loss 4913.487955507961, best k -5.589790916146031, best b -11.355791726179435\n",
      "times 532, min loss 4839.377038601599, best k -5.489790916146031, best b -11.455791726179434\n",
      "times 533, min loss 4765.834522811731, best k -5.389790916146032, best b -11.555791726179434\n",
      "times 534, min loss 4692.860408138341, best k -5.289790916146032, best b -11.655791726179434\n",
      "times 535, min loss 4620.454694581437, best k -5.189790916146032, best b -11.755791726179433\n",
      "times 536, min loss 4548.617382141008, best k -5.089790916146033, best b -11.855791726179433\n",
      "times 537, min loss 4477.348470817069, best k -4.989790916146033, best b -11.955791726179433\n",
      "times 538, min loss 4406.647960609608, best k -4.889790916146033, best b -12.055791726179432\n",
      "times 539, min loss 4336.51585151863, best k -4.789790916146034, best b -12.155791726179432\n",
      "times 540, min loss 4266.952143544139, best k -4.689790916146034, best b -12.255791726179432\n",
      "times 541, min loss 4197.956836686121, best k -4.589790916146034, best b -12.355791726179431\n",
      "times 542, min loss 4129.529930944591, best k -4.489790916146035, best b -12.45579172617943\n",
      "times 543, min loss 4061.6714263195418, best k -4.389790916146035, best b -12.55579172617943\n",
      "times 544, min loss 3994.381322810974, best k -4.2897909161460355, best b -12.65579172617943\n",
      "times 545, min loss 3927.6596204188945, best k -4.189790916146036, best b -12.75579172617943\n",
      "times 546, min loss 3861.506319143286, best k -4.089790916146036, best b -12.85579172617943\n",
      "times 547, min loss 3795.921418984163, best k -3.989790916146036, best b -12.955791726179429\n",
      "times 548, min loss 3730.90491994153, best k -3.889790916146036, best b -13.055791726179429\n",
      "times 549, min loss 3666.4568220153715, best k -3.789790916146036, best b -13.155791726179428\n",
      "times 550, min loss 3602.577125205698, best k -3.689790916146036, best b -13.255791726179428\n",
      "times 551, min loss 3539.265829512502, best k -3.5897909161460357, best b -13.355791726179428\n",
      "times 552, min loss 3476.5229349357946, best k -3.4897909161460356, best b -13.455791726179427\n",
      "times 553, min loss 3414.34844147557, best k -3.3897909161460356, best b -13.555791726179427\n",
      "times 554, min loss 3352.7423491318236, best k -3.2897909161460355, best b -13.655791726179427\n",
      "times 555, min loss 3291.704657904567, best k -3.1897909161460354, best b -13.755791726179426\n",
      "times 556, min loss 3231.2353677937817, best k -3.0897909161460353, best b -13.855791726179426\n",
      "times 557, min loss 3171.334478799482, best k -2.989790916146035, best b -13.955791726179426\n",
      "times 558, min loss 3112.0019909216703, best k -2.889790916146035, best b -14.055791726179425\n",
      "times 559, min loss 3053.2379041603335, best k -2.789790916146035, best b -14.155791726179425\n",
      "times 560, min loss 2995.0422185154857, best k -2.689790916146035, best b -14.255791726179424\n",
      "times 561, min loss 2937.4149339871115, best k -2.589790916146035, best b -14.355791726179424\n",
      "times 562, min loss 2880.356050575223, best k -2.4897909161460348, best b -14.455791726179424\n",
      "times 563, min loss 2823.865568279818, best k -2.3897909161460347, best b -14.555791726179423\n",
      "times 564, min loss 2767.9434871008984, best k -2.2897909161460346, best b -14.655791726179423\n",
      "times 565, min loss 2712.589807038456, best k -2.1897909161460345, best b -14.755791726179423\n",
      "times 566, min loss 2657.804528092497, best k -2.0897909161460344, best b -14.855791726179422\n",
      "times 567, min loss 2603.5876502630244, best k -1.9897909161460343, best b -14.955791726179422\n",
      "times 568, min loss 2549.939173550025, best k -1.8897909161460342, best b -15.055791726179422\n",
      "times 569, min loss 2496.859097953514, best k -1.7897909161460341, best b -15.155791726179421\n",
      "times 570, min loss 2444.3474234734877, best k -1.689790916146034, best b -15.255791726179421\n",
      "times 571, min loss 2392.4041501099364, best k -1.589790916146034, best b -15.35579172617942\n",
      "times 572, min loss 2341.029277862872, best k -1.4897909161460339, best b -15.45579172617942\n",
      "times 573, min loss 2290.2228067322885, best k -1.3897909161460338, best b -15.55579172617942\n",
      "times 574, min loss 2239.98473671819, best k -1.2897909161460337, best b -15.65579172617942\n",
      "times 575, min loss 2190.315067820568, best k -1.1897909161460336, best b -15.75579172617942\n",
      "times 576, min loss 2141.2138000394357, best k -1.0897909161460335, best b -15.855791726179419\n",
      "times 577, min loss 2092.6809333747806, best k -0.9897909161460335, best b -15.955791726179418\n",
      "times 578, min loss 2044.7164678266065, best k -0.8897909161460336, best b -16.055791726179418\n",
      "times 579, min loss 1997.320403394919, best k -0.7897909161460336, best b -16.15579172617942\n",
      "times 580, min loss 1950.49274007971, best k -0.6897909161460336, best b -16.25579172617942\n",
      "times 581, min loss 1904.2334778809864, best k -0.5897909161460336, best b -16.355791726179422\n",
      "times 582, min loss 1858.5426167987432, best k -0.48979091614603365, best b -16.455791726179424\n",
      "times 583, min loss 1813.4201568329806, best k -0.3897909161460337, best b -16.555791726179425\n",
      "times 584, min loss 1768.866097983703, best k -0.2897909161460337, best b -16.655791726179427\n",
      "times 585, min loss 1724.8804402509088, best k -0.1897909161460337, best b -16.755791726179428\n",
      "times 586, min loss 1681.4631836345945, best k -0.08979091614603368, best b -16.85579172617943\n",
      "times 587, min loss 1638.614328134761, best k 0.010209083853966322, best b -16.95579172617943\n",
      "times 588, min loss 1596.3338737514123, best k 0.11020908385396633, best b -17.055791726179432\n",
      "times 589, min loss 1554.6218204845457, best k 0.21020908385396633, best b -17.155791726179434\n",
      "times 590, min loss 1513.4781683341607, best k 0.31020908385396634, best b -17.255791726179435\n",
      "times 591, min loss 1472.902917300257, best k 0.41020908385396637, best b -17.355791726179437\n",
      "times 592, min loss 1432.8960673828367, best k 0.5102090838539663, best b -17.455791726179438\n",
      "times 593, min loss 1393.4576185818967, best k 0.6102090838539663, best b -17.55579172617944\n",
      "times 594, min loss 1354.5875708974415, best k 0.7102090838539663, best b -17.65579172617944\n",
      "times 595, min loss 1316.2859243294681, best k 0.8102090838539663, best b -17.755791726179442\n",
      "times 596, min loss 1278.5526788779755, best k 0.9102090838539663, best b -17.855791726179444\n",
      "times 597, min loss 1241.3878345429669, best k 1.0102090838539663, best b -17.955791726179445\n",
      "times 598, min loss 1204.7913913244392, best k 1.1102090838539664, best b -18.055791726179446\n",
      "times 599, min loss 1168.7633492223947, best k 1.2102090838539665, best b -18.155791726179448\n",
      "times 600, min loss 1133.3037082368307, best k 1.3102090838539666, best b -18.25579172617945\n",
      "times 601, min loss 1098.4124683677487, best k 1.4102090838539667, best b -18.35579172617945\n",
      "times 602, min loss 1064.0896296151493, best k 1.5102090838539668, best b -18.455791726179452\n",
      "times 603, min loss 1030.3351919790337, best k 1.6102090838539669, best b -18.555791726179454\n",
      "times 604, min loss 997.1491554593993, best k 1.710209083853967, best b -18.655791726179455\n",
      "times 605, min loss 964.5315200562482, best k 1.810209083853967, best b -18.755791726179456\n",
      "times 606, min loss 932.4822857695779, best k 1.9102090838539671, best b -18.855791726179458\n",
      "times 607, min loss 901.001452599391, best k 2.010209083853967, best b -18.95579172617946\n",
      "times 608, min loss 870.0890205456848, best k 2.110209083853967, best b -19.05579172617946\n",
      "times 609, min loss 839.7449896084614, best k 2.210209083853967, best b -19.155791726179462\n",
      "times 610, min loss 809.9693597877206, best k 2.3102090838539673, best b -19.255791726179464\n",
      "times 611, min loss 780.7621310834625, best k 2.4102090838539674, best b -19.355791726179465\n",
      "times 612, min loss 752.1233034956864, best k 2.5102090838539675, best b -19.455791726179466\n",
      "times 613, min loss 724.0528770243906, best k 2.6102090838539675, best b -19.555791726179468\n",
      "times 614, min loss 696.5508516695791, best k 2.7102090838539676, best b -19.65579172617947\n",
      "times 615, min loss 669.6172274312498, best k 2.8102090838539677, best b -19.75579172617947\n",
      "times 616, min loss 643.2520043094012, best k 2.910209083853968, best b -19.855791726179472\n",
      "times 617, min loss 617.4551823040355, best k 3.010209083853968, best b -19.955791726179473\n",
      "times 618, min loss 592.2267614151525, best k 3.110209083853968, best b -20.055791726179475\n",
      "times 619, min loss 567.566741642751, best k 3.210209083853968, best b -20.155791726179476\n",
      "times 620, min loss 543.4751229868328, best k 3.310209083853968, best b -20.255791726179478\n",
      "times 621, min loss 519.9519054473958, best k 3.4102090838539683, best b -20.35579172617948\n",
      "times 622, min loss 496.9970890244421, best k 3.5102090838539683, best b -20.45579172617948\n",
      "times 623, min loss 474.61067371796935, best k 3.6102090838539684, best b -20.555791726179482\n",
      "times 624, min loss 452.7926595279794, best k 3.7102090838539685, best b -20.655791726179483\n",
      "times 625, min loss 431.54304645447195, best k 3.8102090838539686, best b -20.755791726179485\n",
      "times 626, min loss 410.8618344974463, best k 3.9102090838539687, best b -20.855791726179486\n",
      "times 627, min loss 390.7490236569027, best k 4.010209083853969, best b -20.955791726179488\n",
      "times 628, min loss 371.20461393284154, best k 4.110209083853968, best b -21.05579172617949\n",
      "times 629, min loss 352.2286053252625, best k 4.210209083853968, best b -21.15579172617949\n",
      "times 630, min loss 333.8209978341659, best k 4.310209083853968, best b -21.255791726179492\n",
      "times 631, min loss 315.9817914595518, best k 4.410209083853967, best b -21.355791726179493\n",
      "times 632, min loss 298.7109862014193, best k 4.510209083853967, best b -21.455791726179495\n",
      "times 633, min loss 282.00858205976965, best k 4.610209083853967, best b -21.555791726179496\n",
      "times 634, min loss 265.87457903460165, best k 4.710209083853966, best b -21.655791726179498\n",
      "times 635, min loss 250.308977125916, best k 4.810209083853966, best b -21.7557917261795\n",
      "times 636, min loss 235.31177633371257, best k 4.910209083853966, best b -21.8557917261795\n",
      "times 637, min loss 220.88297665799124, best k 5.010209083853965, best b -21.955791726179502\n",
      "times 638, min loss 207.0225780987523, best k 5.110209083853965, best b -22.055791726179503\n",
      "times 639, min loss 193.73058065599554, best k 5.2102090838539645, best b -22.155791726179505\n",
      "times 640, min loss 181.00698432972064, best k 5.310209083853964, best b -22.255791726179506\n",
      "times 641, min loss 168.85178911992844, best k 5.410209083853964, best b -22.355791726179508\n",
      "times 642, min loss 157.2649950266184, best k 5.5102090838539635, best b -22.45579172617951\n",
      "times 643, min loss 146.24660204979045, best k 5.610209083853963, best b -22.55579172617951\n",
      "times 644, min loss 135.79661018944435, best k 5.710209083853963, best b -22.655791726179512\n",
      "times 645, min loss 125.91501944558104, best k 5.810209083853962, best b -22.755791726179513\n",
      "times 646, min loss 116.60182981819968, best k 5.910209083853962, best b -22.855791726179515\n",
      "times 647, min loss 107.85704130730042, best k 6.010209083853962, best b -22.955791726179516\n",
      "times 648, min loss 99.68065391288353, best k 6.110209083853961, best b -23.055791726179518\n",
      "times 649, min loss 92.07266763494879, best k 6.210209083853961, best b -23.15579172617952\n",
      "times 650, min loss 85.03308247349608, best k 6.310209083853961, best b -23.25579172617952\n",
      "times 651, min loss 78.56189842852586, best k 6.41020908385396, best b -23.355791726179522\n",
      "times 652, min loss 72.65911550003777, best k 6.51020908385396, best b -23.455791726179523\n",
      "times 653, min loss 67.32473368803177, best k 6.6102090838539596, best b -23.555791726179525\n",
      "times 654, min loss 62.558752992508026, best k 6.710209083853959, best b -23.655791726179526\n",
      "times 655, min loss 58.36117341346658, best k 6.810209083853959, best b -23.755791726179528\n",
      "times 656, min loss 54.73199495090724, best k 6.9102090838539585, best b -23.85579172617953\n",
      "times 657, min loss 51.67121760483017, best k 7.010209083853958, best b -23.95579172617953\n",
      "times 658, min loss 49.17884137523525, best k 7.110209083853958, best b -24.05579172617953\n",
      "times 659, min loss 47.25486626212259, best k 7.210209083853957, best b -24.155791726179533\n",
      "times 660, min loss 45.89929226549204, best k 7.310209083853957, best b -24.255791726179535\n",
      "times 661, min loss 45.112119385343824, best k 7.410209083853957, best b -24.355791726179536\n",
      "times 662, min loss 44.89334762167775, best k 7.510209083853956, best b -24.455791726179537\n"
     ]
    },
    {
     "name": "stdout",
     "output_type": "stream",
     "text": [
      "min loss 44.89334762167775, best k 7.510209083853956, best b -24.455791726179537\n"
     ]
    },
    {
     "data": {
      "image/png": "[encoded data removed]",
      "text/plain": [
       "<Figure size 432x288 with 1 Axes>"
      ]
     },
     "metadata": {
      "needs_background": "light"
     },
     "output_type": "display_data"
    }
   ],
   "source": [
    "gen_best_by_random(try_times)"
   ]
  },
  {
   "cell_type": "code",
   "execution_count": null,
   "metadata": {},
   "outputs": [],
   "source": []
  },
  {
   "cell_type": "code",
   "execution_count": null,
   "metadata": {},
   "outputs": [],
   "source": []
  },
  {
   "cell_type": "code",
   "execution_count": null,
   "metadata": {},
   "outputs": [],
   "source": []
  },
  {
   "cell_type": "markdown",
   "metadata": {},
   "source": [
    "##### 地铁爬虫练习 "
   ]
  },
  {
   "cell_type": "code",
   "execution_count": 1,
   "metadata": {},
   "outputs": [
    {
     "name": "stdout",
     "output_type": "stream",
     "text": [
      "Looking in indexes: http://mirrors.aliyun.com/pypi/simple/\r\n",
      "Requirement already satisfied: beautifulsoup4 in /Users/yeah/anaconda3/lib/python3.7/site-packages (4.6.3)\r\n"
     ]
    }
   ],
   "source": [
    "# 安装 Beautiful Soup\n",
    "!pip install beautifulsoup4"
   ]
  },
  {
   "cell_type": "code",
   "execution_count": 95,
   "metadata": {},
   "outputs": [],
   "source": [
    "# spider\n",
    "import requests\n",
    "from bs4 import BeautifulSoup\n",
    "import re\n",
    "import networkx as nx\n",
    "import matplotlib.pyplot as plt\n",
    "\n",
    "#站点类 \n",
    "class Station :\n",
    "    \"\"\"\n",
    "    name : 站点名\n",
    "    line_lable : 所属线\n",
    "    next_stations : 连接的站点\n",
    "    \"\"\"\n",
    "    def __init__(self, name=\"\", line_lable=\"\", next_stations = []):\n",
    "        self.name, self.line_lable, self.next_stations = name, line_lable, next_stations\n",
    "        \n",
    "    def setName(self, name=\"\") : self.name = name\n",
    "    def getName(self) : return self.name\n",
    "\n",
    "    def setLineLable(self, line_lable=\"\") : self.line_lable = line_lable\n",
    "    def getLineLable(self) : return self.line_lable \n",
    "    \n",
    "    def setNextStations(self, next_stations = []) : self.next_stations = next_stations\n",
    "    def getNextStations(self) : return self.next_stations    \n",
    "    \n",
    "    def to_str(self) : \n",
    "        return \"name = \" + self.name + \",line_lable = \" + self.line_lable + \",next_stations = \" + str(self.next_stations)\n",
    "    \n",
    "# 请求头\n",
    "def headers() : \n",
    "    header = {\n",
    "     \"User-Agent\": \"Mozilla/5.0 (Windows NT 6.1; WOW64) AppleWebKit/537.36 (KHTML, like Gecko) Chrome/53.0.2785.89 \"\n",
    "     \"Safari/537.36\"\n",
    "     }\n",
    "    return header\n",
    "\n",
    "# 站点url\n",
    "def source() : \n",
    "    return 'https://baike.baidu.com'\n",
    "\n",
    "# 详情url\n",
    "def contact_item(item) : \n",
    "    return source() + item\n",
    "\n",
    "# 爬取源码\n",
    "def spider(url, encode) : \n",
    "    header = headers()\n",
    "    res = requests.get(url,  headers=header)\n",
    "    res.encoding = encode\n",
    "    soup = BeautifulSoup(res.text)\n",
    "    return soup\n",
    "\n",
    "# 地铁线 + 链接\n",
    "def line_and_href(tables) : \n",
    "    lfs = {}\n",
    "    for t in tables : \n",
    "        tds = t.find_all('td')\n",
    "        for td in tds : \n",
    "            if re.findall(r'北京地铁.*线', str(td)) : \n",
    "                lfs[td.get_text()] = td.a.get('href')\n",
    "    return lfs\n",
    "\n",
    "# 获取所有地铁线及链接\n",
    "def all_lfs(soup) : \n",
    "    tables = soup.find_all('table')\n",
    "    pat = r\"<tr><th.*>线路</th><th.*>起止点</th><th.*>首班</th><th>末班</th></tr><tr>\"\n",
    "    mts = [t for t in tables if re.findall(pat, str(t))]\n",
    "    lfs = line_and_href(mts)\n",
    "    return lfs\n",
    "\n",
    "def stations(lfs) : \n",
    "    # 地铁路线\n",
    "    lines = {}\n",
    "    \n",
    "    for k, v in lfs.items() : \n",
    "        preferred_pat = r\"\" + str(k[4:] + \".{0,6}首末班?车时[刻|间]表?\").replace('(', '\\(?').replace('（', '（?').replace(')', '\\)?').replace('）', '）?')\n",
    "        print(\"spider \" + k)\n",
    "        optional_pat = r\"车站信息\"\n",
    "        special_pat = r\"<tr><th.*>车?站?编号</th><th.*>车站名称.*</th>.*<tr>\"\n",
    "        soup = spider(contact_item(v), 'utf-8')\n",
    "        tables = soup.find_all('table')\n",
    "        \n",
    "        tagets = [tab for tab in tables if re.findall(preferred_pat, str(tab))]\n",
    "        if  len(tagets) > 0 :\n",
    "            print(preferred_pat)\n",
    "            trs = tagets[0].find_all('tr')\n",
    "            stations = [list(tr.children)[0].get_text() for tr in trs[1:] if list(tr.children) and (not re.findall(r\"参考|车站|时间|方向|全程|(备?注)|(\\d{4}年\\d{1,2}月)\", str(tr)))]\n",
    "            if re.findall(r\"内|外环\", str(trs[0])) : \n",
    "                print(\"环线\")\n",
    "                stations.append(stations[0])\n",
    "            lines[k] = stations\n",
    "            continue\n",
    "            \n",
    "        tagets = [tab for tab in tables if re.findall(optional_pat, str(tab))]\n",
    "        if  len(tagets) > 0 : \n",
    "            print(optional_pat)\n",
    "            trs = tagets[0].find_all('tr')\n",
    "            stations = [list(tr.children)[1].get_text().replace(\"\\n\", \"\") for tr in trs[1:] if list(tr.children) and (not re.findall(r\"参考|时间|方向|全程|(备?注)|(\\d{4}年\\d{1,2}月)\", str(tr)))]\n",
    "            if re.findall(r\"内|外环\", str(trs[0])) : \n",
    "                print(\"环线\")\n",
    "                stations.append(stations[0])\n",
    "            lines[k] = stations\n",
    "            continue\n",
    "            \n",
    "        tagets = [tab for tab in tables if re.findall(special_pat, str(tab))]\n",
    "        if  len(tagets) > 0 : \n",
    "            print(special_pat)\n",
    "            trs = tagets[0].find_all('tr')\n",
    "            stations = [list(tr.children)[1].get_text().replace(\"\\n\", \"\") for tr in trs[1:] if list(tr.children) and (not re.findall(r\"参考|时间|方向|全程|(备?注)\", str(tr)))]\n",
    "            if re.findall(r\"[内外]环\", str(trs[0])) : \n",
    "                print(\"环线\")\n",
    "                stations.append(stations[0])\n",
    "            lines[k] = stations\n",
    "            continue     \n",
    "\n",
    "    return lines\n",
    "            \n",
    "# 生成地铁图\n",
    "def create_line_graph(lines) : \n",
    "    gragh = {}\n",
    "    # 生成所有站点信息    \n",
    "    for line_lable,stations in lines.items() : \n",
    "        for station in stations : \n",
    "            s = Station(name=station, line_lable=line_lable, next_stations = [])\n",
    "            if not station in gragh : \n",
    "                gragh[station] = s\n",
    "    \n",
    "    # 关联所有相邻站点\n",
    "    for line_lable,stations in lines.items() : \n",
    "        for i, station in enumerate(stations) : \n",
    "            current_ = gragh[station]\n",
    "            if i != 0 or i != len(stations) - 1 : \n",
    "                if i - 1 >= 0 : \n",
    "                    pre_station = stations[i - 1]\n",
    "                    current_.setNextStations(current_.getNextStations() + [pre_station])\n",
    "                \n",
    "                if i + 1 <= len(stations) - 1 : \n",
    "                    next_station = stations[i + 1]\n",
    "                    current_.setNextStations(current_.getNextStations() + [next_station])\n",
    "\n",
    "    return gragh        \n",
    "\n",
    "# 路线查询\n",
    "def search(start, destination, gragh):\n",
    "    pathes = [[start]]\n",
    "    visitied = set()\n",
    "    \n",
    "    while pathes: # if we find existing pathes\n",
    "        path = pathes.pop(0)\n",
    "        froninter = path[-1]\n",
    "\n",
    "        if froninter in visitied: continue\n",
    "            \n",
    "        successors = gragh[froninter].getNextStations()\n",
    "        \n",
    "        for station in successors:\n",
    "            if station in path: continue  # eliminate loop\n",
    "                \n",
    "            new_path = path + [station]\n",
    "            \n",
    "            pathes.append(new_path)\n",
    "            \n",
    "            if station == destination: return new_path\n",
    "        \n",
    "        visitied.add(froninter)\n",
    "        \n",
    "    return pathes\n",
    "\n",
    "# 打印路线\n",
    "def print_line(line, graph) : \n",
    "    print(\" ---> \".join([station + \"🚇(\" + graph[station].getLineLable() + \")\" for station in line]))"
   ]
  },
  {
   "cell_type": "code",
   "execution_count": 53,
   "metadata": {},
   "outputs": [],
   "source": [
    "soup = spider(contact_item('/item/北京地铁/408485'), 'utf-8')"
   ]
  },
  {
   "cell_type": "code",
   "execution_count": 54,
   "metadata": {},
   "outputs": [],
   "source": [
    "lfs = all_lfs(soup)"
   ]
  },
  {
   "cell_type": "code",
   "execution_count": 61,
   "metadata": {},
   "outputs": [
    {
     "name": "stdout",
     "output_type": "stream",
     "text": [
      "spider 北京地铁1号线\n",
      "1号线.{0,6}首末班?车时[刻|间]表?\n",
      "spider 北京地铁2号线\n",
      "2号线.{0,6}首末班?车时[刻|间]表?\n",
      "环线\n",
      "spider 北京地铁4号线\n",
      "4号线.{0,6}首末班?车时[刻|间]表?\n",
      "spider 北京地铁5号线\n",
      "5号线.{0,6}首末班?车时[刻|间]表?\n",
      "spider 北京地铁6号线\n",
      "6号线.{0,6}首末班?车时[刻|间]表?\n",
      "spider 北京地铁7号线\n",
      "7号线.{0,6}首末班?车时[刻|间]表?\n",
      "spider 北京地铁8号线（北段）\n",
      "8号线（?北段）?.{0,6}首末班?车时[刻|间]表?\n",
      "spider 北京地铁8号线（南段）\n",
      "8号线（?南段）?.{0,6}首末班?车时[刻|间]表?\n",
      "spider 北京地铁9号线\n",
      "9号线.{0,6}首末班?车时[刻|间]表?\n",
      "spider 北京地铁10号线\n",
      "10号线.{0,6}首末班?车时[刻|间]表?\n",
      "环线\n",
      "spider 北京地铁13号线\n",
      "13号线.{0,6}首末班?车时[刻|间]表?\n",
      "spider 北京地铁14号线（西段）\n",
      "14号线（?西段）?.{0,6}首末班?车时[刻|间]表?\n",
      "spider 北京地铁14号线（东段）\n",
      "14号线（?东段）?.{0,6}首末班?车时[刻|间]表?\n",
      "spider 北京地铁15号线\n",
      "15号线.{0,6}首末班?车时[刻|间]表?\n",
      "spider 北京地铁16号线\n",
      "<tr><th.*>车?站?编号</th><th.*>车站名称.*</th>.*<tr>\n",
      "spider 北京地铁八通线\n",
      "八通线.{0,6}首末班?车时[刻|间]表?\n",
      "spider 北京地铁昌平线\n",
      "昌平线.{0,6}首末班?车时[刻|间]表?\n",
      "spider 北京地铁亦庄线\n",
      "车站信息\n",
      "spider 北京地铁房山线\n",
      "房山线.{0,6}首末班?车时[刻|间]表?\n",
      "spider 北京地铁S1线\n",
      "S1线.{0,6}首末班?车时[刻|间]表?\n",
      "spider 北京地铁燕房线\n",
      "<tr><th.*>车?站?编号</th><th.*>车站名称.*</th>.*<tr>\n"
     ]
    }
   ],
   "source": [
    "lines = stations(lfs)"
   ]
  },
  {
   "cell_type": "code",
   "execution_count": null,
   "metadata": {},
   "outputs": [],
   "source": [
    "# 北京地铁1号线 北京地铁1号线车站列表/北京地铁1号线首末车时刻表\n",
    "# 北京地铁2号线 北京地铁2号线车站列表/北京地铁2号线首末车时间表\n",
    "# 北京地铁4号线 北京地铁4号线车站列表/北京地铁4号线首末班车时刻表\n",
    "# 北京地铁5号线 北京地铁5号线车站列表/5号线首末车时刻表\n",
    "# 北京地铁6号线 北京地铁6号线车站列表/6号线首末车时刻表\n",
    "# 北京地铁7号线 北京地铁7号线车站列表/7号线首末车时刻表\n",
    "# 北京地铁8号线（北段）北京地铁8号线车站列表/北京地铁8号线（北段）首末车时刻表\n",
    "# 北京地铁8号线（南段）北京地铁8号线车站列表/北京地铁8号线（南段）首末车时刻表\n",
    "# 北京地铁9号线 北京地铁9号线车站列表/9号线首末车时刻表\n",
    "# 北京地铁10号线 北京地铁10号线车站列表/10号线首末车时刻表\n",
    "# 北京地铁13号线 车站列表/13号线首末车时刻表\n",
    "# 北京地铁14号线（西段）北京地铁14号线车站列表/14号线（西段）首末车时刻表\n",
    "# 北京地铁14号线（东段）北京地铁14号线车站列表/14号线东段（含中段）首末车时刻表\n",
    "# 北京地铁15号线 北京地铁15号线车站列表/北京地铁15号线首末车时刻表\n",
    "# 北京地铁16号线 车站列表/首末车时间\n",
    "# 北京地铁八通线 北京地铁八通线车站列表/八通线首末车时刻表\n",
    "# 北京地铁昌平线 北京地铁昌平线车站列表/昌平线首末车时刻表\n",
    "# 北京地铁亦庄线 车站信息\n",
    "# 北京地铁房山线 北京地铁房山线车站列表/房山线首末车时刻表\n",
    "# 北京地铁S1线 车站列表/北京地铁S1线首末车时刻表\n",
    "# 北京地铁燕房线 车站列表/运营时刻"
   ]
  },
  {
   "cell_type": "code",
   "execution_count": 62,
   "metadata": {},
   "outputs": [
    {
     "data": {
      "text/plain": [
       "{'北京地铁1号线': ['苹果园',\n",
       "  '古城',\n",
       "  '八角游乐园',\n",
       "  '八宝山',\n",
       "  '玉泉路',\n",
       "  '五棵松',\n",
       "  '万寿路',\n",
       "  '公主坟',\n",
       "  '军事博物馆',\n",
       "  '木樨地',\n",
       "  '南礼士路',\n",
       "  '复兴门',\n",
       "  '西单',\n",
       "  '天安门西',\n",
       "  '天安门东',\n",
       "  '王府井',\n",
       "  '东单',\n",
       "  '建国门',\n",
       "  '永安里',\n",
       "  '国贸',\n",
       "  '大望路',\n",
       "  '四惠',\n",
       "  '四惠东'],\n",
       " '北京地铁2号线': ['西直门',\n",
       "  '积水潭',\n",
       "  '鼓楼大街',\n",
       "  '安定门',\n",
       "  '雍和宫',\n",
       "  '东直门',\n",
       "  '东四十条',\n",
       "  '朝阳门',\n",
       "  '建国门',\n",
       "  '北京站',\n",
       "  '崇文门',\n",
       "  '前门',\n",
       "  '和平门',\n",
       "  '宣武门',\n",
       "  '长椿街',\n",
       "  '复兴门',\n",
       "  '阜成门',\n",
       "  '车公庄',\n",
       "  '西直门'],\n",
       " '北京地铁4号线': ['安河桥北',\n",
       "  '北宫门',\n",
       "  '西苑',\n",
       "  '圆明园',\n",
       "  '北京大学东门',\n",
       "  '中关村',\n",
       "  '海淀黄庄',\n",
       "  '人民大学',\n",
       "  '魏公村',\n",
       "  '国家图书馆',\n",
       "  '动物园',\n",
       "  '西直门',\n",
       "  '新街口',\n",
       "  '平安里',\n",
       "  '西四',\n",
       "  '灵境胡同',\n",
       "  '西单',\n",
       "  '宣武门',\n",
       "  '菜市口',\n",
       "  '陶然亭',\n",
       "  '北京南站',\n",
       "  '马家堡',\n",
       "  '角门西',\n",
       "  '公益西桥'],\n",
       " '北京地铁5号线': ['宋家庄',\n",
       "  '刘家窑',\n",
       "  '蒲黄榆',\n",
       "  '天坛东门',\n",
       "  '磁器口',\n",
       "  '崇文门',\n",
       "  '东单',\n",
       "  '灯市口',\n",
       "  '东四',\n",
       "  '张自忠路',\n",
       "  '北新桥',\n",
       "  '雍和宫',\n",
       "  '和平里北街',\n",
       "  '和平西桥',\n",
       "  '惠新西街南口',\n",
       "  '惠新西街北口',\n",
       "  '大屯路东',\n",
       "  '北苑路北',\n",
       "  '立水桥南',\n",
       "  '立水桥',\n",
       "  '天通苑南',\n",
       "  '天通苑',\n",
       "  '天通苑北'],\n",
       " '北京地铁6号线': ['金安桥',\n",
       "  '苹果园',\n",
       "  '杨庄',\n",
       "  '西黄村',\n",
       "  '廖公庄',\n",
       "  '田村',\n",
       "  '海淀五路居',\n",
       "  '慈寿寺',\n",
       "  '花园桥',\n",
       "  '白石桥南',\n",
       "  '车公庄西',\n",
       "  '车公庄',\n",
       "  '平安里',\n",
       "  '北海北',\n",
       "  '南锣鼓巷',\n",
       "  '东四',\n",
       "  '朝阳门',\n",
       "  '东大桥',\n",
       "  '呼家楼',\n",
       "  '金台路',\n",
       "  '十里堡',\n",
       "  '青年路',\n",
       "  '褡裢坡',\n",
       "  '黄渠',\n",
       "  '常营',\n",
       "  '草房',\n",
       "  '物资学院路',\n",
       "  '通州北关',\n",
       "  '通运门',\n",
       "  '北运河西',\n",
       "  '北运河东',\n",
       "  '郝家府',\n",
       "  '东夏园',\n",
       "  '潞城'],\n",
       " '北京地铁7号线': ['北京西站',\n",
       "  '湾子',\n",
       "  '达官营',\n",
       "  '广安门内',\n",
       "  '菜市口',\n",
       "  '虎坊桥',\n",
       "  '珠市口',\n",
       "  '桥湾',\n",
       "  '磁器口',\n",
       "  '广渠门内',\n",
       "  '广渠门外',\n",
       "  '双井',\n",
       "  '九龙山',\n",
       "  '大郊亭',\n",
       "  '百子湾',\n",
       "  '化工',\n",
       "  '南楼梓庄',\n",
       "  '欢乐谷景区',\n",
       "  '垡头',\n",
       "  '双合',\n",
       "  '焦化厂'],\n",
       " '北京地铁8号线（北段）': ['朱辛庄',\n",
       "  '育知路',\n",
       "  '平西府',\n",
       "  '回龙观东大街',\n",
       "  '霍营',\n",
       "  '育新',\n",
       "  '西小口',\n",
       "  '永泰庄',\n",
       "  '林萃桥',\n",
       "  '森林公园南门',\n",
       "  '奥林匹克公园',\n",
       "  '奥体中心',\n",
       "  '北土城',\n",
       "  '安华桥',\n",
       "  '安德里北街',\n",
       "  '鼓楼大街',\n",
       "  '什刹海',\n",
       "  '南锣鼓巷',\n",
       "  '中国美术馆'],\n",
       " '北京地铁8号线（南段）': ['瀛海',\n",
       "  '德茂',\n",
       "  '五福堂',\n",
       "  '火箭万源',\n",
       "  '东高地',\n",
       "  '和义',\n",
       "  '大红门南',\n",
       "  '大红门',\n",
       "  '海户屯',\n",
       "  '木樨园',\n",
       "  '永定门外',\n",
       "  '天桥',\n",
       "  '珠市口'],\n",
       " '北京地铁9号线': ['郭公庄',\n",
       "  '丰台科技园',\n",
       "  '科怡路',\n",
       "  '丰台南路',\n",
       "  '丰台东大街',\n",
       "  '七里庄',\n",
       "  '六里桥',\n",
       "  '六里桥东',\n",
       "  '北京西站',\n",
       "  '军事博物馆',\n",
       "  '白堆子',\n",
       "  '白石桥南',\n",
       "  '国家图书馆'],\n",
       " '北京地铁10号线': ['巴沟',\n",
       "  '苏州街',\n",
       "  '海淀黄庄',\n",
       "  '知春里',\n",
       "  '知春路',\n",
       "  '西土城',\n",
       "  '牡丹园',\n",
       "  '健德门',\n",
       "  '北土城',\n",
       "  '安贞门',\n",
       "  '惠新西街南口',\n",
       "  '芍药居',\n",
       "  '太阳宫',\n",
       "  '三元桥',\n",
       "  '亮马桥',\n",
       "  '农业展览馆',\n",
       "  '团结湖',\n",
       "  '呼家楼',\n",
       "  '金台夕照',\n",
       "  '国贸',\n",
       "  '双井',\n",
       "  '劲松',\n",
       "  '潘家园',\n",
       "  '十里河',\n",
       "  '分钟寺',\n",
       "  '成寿寺',\n",
       "  '宋家庄',\n",
       "  '石榴庄',\n",
       "  '大红门',\n",
       "  '角门东',\n",
       "  '角门西',\n",
       "  '草桥',\n",
       "  '纪家庙',\n",
       "  '首经贸',\n",
       "  '丰台站',\n",
       "  '泥洼',\n",
       "  '西局',\n",
       "  '六里桥',\n",
       "  '莲花桥',\n",
       "  '公主坟',\n",
       "  '西钓鱼台',\n",
       "  '慈寿寺',\n",
       "  '车道沟',\n",
       "  '长春桥',\n",
       "  '火器营',\n",
       "  '巴沟'],\n",
       " '北京地铁13号线': ['西直门',\n",
       "  '明光桥西',\n",
       "  '大钟寺',\n",
       "  '知春路',\n",
       "  '五道口',\n",
       "  '清华东路西口',\n",
       "  '上地',\n",
       "  '清河站',\n",
       "  '西二旗',\n",
       "  '龙泽',\n",
       "  '回龙观',\n",
       "  '霍营',\n",
       "  '建材城东路',\n",
       "  '立水桥',\n",
       "  '北苑',\n",
       "  '来广营西',\n",
       "  '望京西',\n",
       "  '望和桥',\n",
       "  '芍药居',\n",
       "  '光熙门',\n",
       "  '柳芳',\n",
       "  '东直门'],\n",
       " '北京地铁14号线（西段）': ['张郭庄', '园博园', '大瓦窑', '郭庄子', '大井', '七里庄', '西局'],\n",
       " '北京地铁14号线（东段）': ['北京南站',\n",
       "  '永定门外',\n",
       "  '景泰',\n",
       "  '蒲黄榆',\n",
       "  '方庄',\n",
       "  '十里河',\n",
       "  '北工大西门',\n",
       "  '九龙山',\n",
       "  '大望路',\n",
       "  '金台路',\n",
       "  '朝阳公园',\n",
       "  '枣营',\n",
       "  '东风北桥',\n",
       "  '将台',\n",
       "  '望京南',\n",
       "  '阜通',\n",
       "  '望京',\n",
       "  '东湖渠',\n",
       "  '来广营',\n",
       "  '善各庄'],\n",
       " '北京地铁15号线': ['俸伯',\n",
       "  '顺义',\n",
       "  '石门',\n",
       "  '南法信',\n",
       "  '后沙峪',\n",
       "  '花梨坎',\n",
       "  '国展',\n",
       "  '孙河',\n",
       "  '马泉营',\n",
       "  '崔各庄',\n",
       "  '望京东',\n",
       "  '望京',\n",
       "  '望京西',\n",
       "  '关庄',\n",
       "  '大屯路东',\n",
       "  '安立路',\n",
       "  '奥林匹克公园',\n",
       "  '北沙滩',\n",
       "  '六道口',\n",
       "  '清华东路西口'],\n",
       " '北京地铁16号线': ['宛平站',\n",
       "  '榆树庄站',\n",
       "  '看丹站',\n",
       "  '富丰桥站',\n",
       "  '丰台南路站',\n",
       "  '丰台站',\n",
       "  '丰益桥南站',\n",
       "  '丽泽商务区站',\n",
       "  '红莲南里站',\n",
       "  '达官营站',\n",
       "  '木樨地站',\n",
       "  '玉渊潭东门站',\n",
       "  '甘家口站',\n",
       "  '二里沟站',\n",
       "  '国家图书馆站',\n",
       "  '万寿寺站',\n",
       "  '苏州桥站',\n",
       "  '苏州街站',\n",
       "  '万泉河桥站',\n",
       "  '西苑站',\n",
       "  '农大南路站',\n",
       "  '马连洼站',\n",
       "  '西北旺站',\n",
       "  '永丰南站',\n",
       "  '永丰站',\n",
       "  '屯佃站',\n",
       "  '稻香湖路站',\n",
       "  '温阳路站',\n",
       "  '北安河站'],\n",
       " '北京地铁八通线': ['四惠',\n",
       "  '四惠东',\n",
       "  '高碑店',\n",
       "  '传媒大学',\n",
       "  '双桥',\n",
       "  '管庄',\n",
       "  '八里桥',\n",
       "  '通州北苑',\n",
       "  '果园',\n",
       "  '九棵树',\n",
       "  '梨园',\n",
       "  '临河里',\n",
       "  '土桥'],\n",
       " '北京地铁昌平线': ['昌平西山口',\n",
       "  '十三陵景区',\n",
       "  '昌平',\n",
       "  '昌平东关',\n",
       "  '北邵洼',\n",
       "  '南邵',\n",
       "  '沙河高教园',\n",
       "  '沙河',\n",
       "  '巩华城',\n",
       "  '朱辛庄',\n",
       "  '生命科学园',\n",
       "  '西二旗'],\n",
       " '北京地铁亦庄线': ['宋家庄站',\n",
       "  '肖村站',\n",
       "  '小红门站',\n",
       "  '旧宫站',\n",
       "  '亦庄桥站',\n",
       "  '亦庄文化园站',\n",
       "  '万源街站',\n",
       "  '荣京东街站',\n",
       "  '荣昌东街站',\n",
       "  '经海路站',\n",
       "  '次渠南站',\n",
       "  '次渠站',\n",
       "  '亦庄火车站'],\n",
       " '北京地铁房山线': ['郭公庄',\n",
       "  '大葆台',\n",
       "  '稻田',\n",
       "  '长阳',\n",
       "  '篱笆房',\n",
       "  '广阳城',\n",
       "  '良乡大学城北',\n",
       "  '良乡大学城',\n",
       "  '良乡大学城西',\n",
       "  '良乡南关',\n",
       "  '苏庄',\n",
       "  '阎村东'],\n",
       " '北京地铁S1线': ['苹果园站', '金安桥站', '四道桥站', '桥户营站', '上岸站', '栗园庄站', '小园站', '石厂站'],\n",
       " '北京地铁燕房线': ['阎村东站',\n",
       "  '紫草坞站',\n",
       "  '阎村站',\n",
       "  '星城站',\n",
       "  '大石河东站',\n",
       "  '马各庄站',\n",
       "  '饶乐府站',\n",
       "  '房山城关站',\n",
       "  '燕山站',\n",
       "  '老城区站',\n",
       "  '顾册站',\n",
       "  '周口店镇站']}"
      ]
     },
     "execution_count": 62,
     "metadata": {},
     "output_type": "execute_result"
    }
   ],
   "source": [
    "lines"
   ]
  },
  {
   "cell_type": "code",
   "execution_count": 6,
   "metadata": {},
   "outputs": [],
   "source": [
    "def print_sub(lines) : \n",
    "    G = nx.Graph()\n",
    "    for k, v in lines.items() : \n",
    "        i = 0\n",
    "        while i < len(v) - 1 : \n",
    "            x = v[i]\n",
    "            y = v[i + 1]\n",
    "            G.add_edge(x, y, len=\"10.0\")\n",
    "            i += 1\n",
    "    \n",
    "    nx.draw(G, with_labels=True, node_size=60, font_size=15)\n",
    "    plt.rcParams['font.sans-serif']=['SimHei']\n",
    "    plt.show()"
   ]
  },
  {
   "cell_type": "code",
   "execution_count": 8,
   "metadata": {},
   "outputs": [
    {
     "name": "stderr",
     "output_type": "stream",
     "text": [
      "/Users/yeah/anaconda3/lib/python3.7/site-packages/networkx/drawing/nx_pylab.py:611: MatplotlibDeprecationWarning: isinstance(..., numbers.Number)\n",
      "  if cb.is_numlike(alpha):\n"
     ]
    },
    {
     "data": {
      "image/png": "[encoded data removed]",
      "text/plain": [
       "<Figure size 432x288 with 1 Axes>"
      ]
     },
     "metadata": {},
     "output_type": "display_data"
    }
   ],
   "source": [
    "print_sub(lines)"
   ]
  },
  {
   "cell_type": "code",
   "execution_count": 63,
   "metadata": {},
   "outputs": [],
   "source": [
    "line_graph = create_line_graph(lines)"
   ]
  },
  {
   "cell_type": "code",
   "execution_count": 64,
   "metadata": {},
   "outputs": [
    {
     "data": {
      "text/plain": [
       "\"name = 苹果园,line_lable = 北京地铁1号线,next_stations = ['古城', '金安桥', '杨庄']\""
      ]
     },
     "execution_count": 64,
     "metadata": {},
     "output_type": "execute_result"
    }
   ],
   "source": [
    "line_graph['苹果园'].to_str()"
   ]
  },
  {
   "cell_type": "code",
   "execution_count": 65,
   "metadata": {},
   "outputs": [
    {
     "data": {
      "text/plain": [
       "\"name = 东单,line_lable = 北京地铁1号线,next_stations = ['王府井', '建国门', '崇文门', '灯市口']\""
      ]
     },
     "execution_count": 65,
     "metadata": {},
     "output_type": "execute_result"
    }
   ],
   "source": [
    "line_graph['东单'].to_str()"
   ]
  },
  {
   "cell_type": "code",
   "execution_count": 66,
   "metadata": {},
   "outputs": [
    {
     "data": {
      "text/plain": [
       "\"name = 巴沟,line_lable = 北京地铁10号线,next_stations = ['苏州街', '火器营']\""
      ]
     },
     "execution_count": 66,
     "metadata": {},
     "output_type": "execute_result"
    }
   ],
   "source": [
    "line_graph['巴沟'].to_str()"
   ]
  },
  {
   "cell_type": "code",
   "execution_count": 67,
   "metadata": {},
   "outputs": [
    {
     "data": {
      "text/plain": [
       "\"name = 西直门,line_lable = 北京地铁2号线,next_stations = ['积水潭', '车公庄', '动物园', '新街口', '明光桥西']\""
      ]
     },
     "execution_count": 67,
     "metadata": {},
     "output_type": "execute_result"
    }
   ],
   "source": [
    "line_graph['西直门'].to_str()"
   ]
  },
  {
   "cell_type": "code",
   "execution_count": 74,
   "metadata": {},
   "outputs": [
    {
     "data": {
      "text/plain": [
       "\"name = 古城,line_lable = 北京地铁1号线,next_stations = ['苹果园', '八角游乐园']\""
      ]
     },
     "execution_count": 74,
     "metadata": {},
     "output_type": "execute_result"
    }
   ],
   "source": [
    "line_graph['古城'].to_str()"
   ]
  },
  {
   "cell_type": "code",
   "execution_count": 84,
   "metadata": {},
   "outputs": [
    {
     "data": {
      "text/plain": [
       "['苹果园',\n",
       " '古城',\n",
       " '八角游乐园',\n",
       " '八宝山',\n",
       " '玉泉路',\n",
       " '五棵松',\n",
       " '万寿路',\n",
       " '公主坟',\n",
       " '军事博物馆',\n",
       " '木樨地',\n",
       " '南礼士路',\n",
       " '复兴门',\n",
       " '西单',\n",
       " '天安门西',\n",
       " '天安门东',\n",
       " '王府井',\n",
       " '东单']"
      ]
     },
     "execution_count": 84,
     "metadata": {},
     "output_type": "execute_result"
    }
   ],
   "source": [
    "search('苹果园', '东单', line_graph)"
   ]
  },
  {
   "cell_type": "code",
   "execution_count": 96,
   "metadata": {},
   "outputs": [
    {
     "name": "stdout",
     "output_type": "stream",
     "text": [
      "五棵松🚇(北京地铁1号线) ---> 万寿路🚇(北京地铁1号线) ---> 公主坟🚇(北京地铁1号线) ---> 军事博物馆🚇(北京地铁1号线) ---> 北京西站🚇(北京地铁7号线) ---> 湾子🚇(北京地铁7号线) ---> 达官营🚇(北京地铁7号线) ---> 广安门内🚇(北京地铁7号线) ---> 菜市口🚇(北京地铁4号线) ---> 陶然亭🚇(北京地铁4号线) ---> 北京南站🚇(北京地铁4号线) ---> 永定门外🚇(北京地铁8号线（南段）) ---> 景泰🚇(北京地铁14号线（东段）) ---> 蒲黄榆🚇(北京地铁5号线) ---> 方庄🚇(北京地铁14号线（东段）)\n"
     ]
    }
   ],
   "source": [
    "print_line(search('五棵松', '方庄', line_graph), line_graph)"
   ]
  },
  {
   "cell_type": "code",
   "execution_count": null,
   "metadata": {},
   "outputs": [],
   "source": []
  }
 ],
 "metadata": {
  "kernelspec": {
   "display_name": "Python 3",
   "language": "python",
   "name": "python3"
  },
  "language_info": {
   "codemirror_mode": {
    "name": "ipython",
    "version": 3
   },
   "file_extension": ".py",
   "mimetype": "text/x-python",
   "name": "python",
   "nbconvert_exporter": "python",
   "pygments_lexer": "ipython3",
   "version": "3.7.1"
  },
  "pycharm": {
   "stem_cell": {
    "cell_type": "raw",
    "metadata": {
     "collapsed": false
    }
   }
  }
 },
 "nbformat": 4,
 "nbformat_minor": 1
}
