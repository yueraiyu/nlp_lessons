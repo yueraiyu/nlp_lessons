{
 "cells": [
  {
   "cell_type": "markdown",
   "metadata": {},
   "source": [
    "##### 动态规划\n",
    "\n",
    "##### 一、适用范围\n",
    "* 搜索中常见的问题：重复搜索\n",
    "\n",
    "##### 二、问题\n",
    "* 钢筋切割问题：不同长度价钱不同，怎么保证最大收益？\n",
    "\n",
    "##### 三、动态规划常见步骤\n",
    "* 都有一个重复的子问题\n",
    "* 可以将重复子问题的运算用表存起来\n",
    "* 将存储结果解析\n",
    "    "
   ]
  },
  {
   "cell_type": "code",
   "execution_count": 142,
   "metadata": {},
   "outputs": [],
   "source": [
    "from collections import defaultdict\n",
    "# 初始化 价格 -> 长度 \n",
    "original_price = [1, 5, 8, 9, 10, 17, 17, 20, 24, 30, 31]\n",
    "price = defaultdict(int)\n",
    "for i, p in enumerate(original_price) : \n",
    "    price[i + 1] = p\n",
    "\n",
    "# 最优价钱\n",
    "def r(n) : \n",
    "    #不断切割，得出所有组合情况，找出最大值     \n",
    "    return max([price[n]] + [r(n - i) + r(i) for i in range(1, n)])"
   ]
  },
  {
   "cell_type": "code",
   "execution_count": 14,
   "metadata": {},
   "outputs": [
    {
     "data": {
      "text/plain": [
       "43"
      ]
     },
     "execution_count": 14,
     "metadata": {},
     "output_type": "execute_result"
    }
   ],
   "source": [
    "#  [r(n - i) + r(i) for i in range(1, n)] 这里存在大量重复计算重复切割\n",
    "r(15)"
   ]
  },
  {
   "cell_type": "markdown",
   "metadata": {},
   "source": [
    "##### 四、装饰器（有点像Java里面的拦截器、AOP）"
   ]
  },
  {
   "cell_type": "code",
   "execution_count": 31,
   "metadata": {},
   "outputs": [],
   "source": [
    "# 统计调用次数\n",
    "called_times = defaultdict(int)\n",
    "def call_times(fun, arg) : \n",
    "    print(\"function {} called once \".format(fun.__name__))\n",
    "    called_times[fun.__name__] += 1\n",
    "    return fun(arg)"
   ]
  },
  {
   "cell_type": "code",
   "execution_count": 24,
   "metadata": {},
   "outputs": [
    {
     "name": "stdout",
     "output_type": "stream",
     "text": [
      "function r called once \n"
     ]
    },
    {
     "data": {
      "text/plain": [
       "13"
      ]
     },
     "execution_count": 24,
     "metadata": {},
     "output_type": "execute_result"
    }
   ],
   "source": [
    "call_times(r, 5)"
   ]
  },
  {
   "cell_type": "code",
   "execution_count": 25,
   "metadata": {},
   "outputs": [
    {
     "data": {
      "text/plain": [
       "defaultdict(int, {'r': 2})"
      ]
     },
     "execution_count": 25,
     "metadata": {},
     "output_type": "execute_result"
    }
   ],
   "source": [
    "called_times"
   ]
  },
  {
   "cell_type": "code",
   "execution_count": 35,
   "metadata": {},
   "outputs": [],
   "source": [
    "def r(n) : \n",
    "    # 统计下计算次数，会发现大量重复计算\n",
    "    fName = r.__name__\n",
    "    called_times[(fName, n)] += 1\n",
    "    return max([price[n]] + [r(n - i) + r(i) for i in range(1, n)])"
   ]
  },
  {
   "cell_type": "code",
   "execution_count": 36,
   "metadata": {},
   "outputs": [
    {
     "data": {
      "text/plain": [
       "43"
      ]
     },
     "execution_count": 36,
     "metadata": {},
     "output_type": "execute_result"
    }
   ],
   "source": [
    "r(15)"
   ]
  },
  {
   "cell_type": "code",
   "execution_count": 37,
   "metadata": {},
   "outputs": [
    {
     "data": {
      "text/plain": [
       "defaultdict(int,\n",
       "            {('r', 15): 1,\n",
       "             ('r', 14): 2,\n",
       "             ('r', 13): 6,\n",
       "             ('r', 12): 18,\n",
       "             ('r', 11): 54,\n",
       "             ('r', 10): 162,\n",
       "             ('r', 9): 486,\n",
       "             ('r', 8): 1458,\n",
       "             ('r', 7): 4374,\n",
       "             ('r', 6): 13122,\n",
       "             ('r', 5): 39366,\n",
       "             ('r', 4): 118098,\n",
       "             ('r', 3): 354294,\n",
       "             ('r', 2): 1062882,\n",
       "             ('r', 1): 3188646})"
      ]
     },
     "execution_count": 37,
     "metadata": {},
     "output_type": "execute_result"
    }
   ],
   "source": [
    "called_times"
   ]
  },
  {
   "cell_type": "code",
   "execution_count": 44,
   "metadata": {},
   "outputs": [],
   "source": [
    "def call_times(fun) : \n",
    "    # 内部函数，并将函数返回    \n",
    "    def wrap(n) : \n",
    "        fName = fun.__name__\n",
    "        called_times[(fName, n)] += 1\n",
    "        return fun(n)\n",
    "    \n",
    "    return wrap"
   ]
  },
  {
   "cell_type": "code",
   "execution_count": 45,
   "metadata": {},
   "outputs": [],
   "source": [
    "call_f = call_times(r)"
   ]
  },
  {
   "cell_type": "code",
   "execution_count": 52,
   "metadata": {},
   "outputs": [
    {
     "data": {
      "text/plain": [
       "43"
      ]
     },
     "execution_count": 52,
     "metadata": {},
     "output_type": "execute_result"
    }
   ],
   "source": [
    "call_f(15)"
   ]
  },
  {
   "cell_type": "code",
   "execution_count": 53,
   "metadata": {},
   "outputs": [
    {
     "data": {
      "text/plain": [
       "defaultdict(int,\n",
       "            {('r', 15): 2,\n",
       "             ('r', 14): 2,\n",
       "             ('r', 13): 6,\n",
       "             ('r', 12): 18,\n",
       "             ('r', 11): 54,\n",
       "             ('r', 10): 162,\n",
       "             ('r', 9): 486,\n",
       "             ('r', 8): 1458,\n",
       "             ('r', 7): 4374,\n",
       "             ('r', 6): 13122,\n",
       "             ('r', 5): 39366,\n",
       "             ('r', 4): 118102,\n",
       "             ('r', 3): 354294,\n",
       "             ('r', 2): 1062882,\n",
       "             ('r', 1): 3188646})"
      ]
     },
     "execution_count": 53,
     "metadata": {},
     "output_type": "execute_result"
    }
   ],
   "source": [
    "called_times"
   ]
  },
  {
   "cell_type": "code",
   "execution_count": 147,
   "metadata": {},
   "outputs": [],
   "source": [
    "from functools import wraps\n",
    "called_times = defaultdict(int)\n",
    "\n",
    "def call_times(fun) : \n",
    "    # 内部函数，并将函数返回 \n",
    "    @wraps(fun)\n",
    "    def wrap(n) : \n",
    "        fName = fun.__name__\n",
    "        called_times[(fName, n)] += 1\n",
    "        return fun(n)\n",
    "    \n",
    "    return wrap\n",
    "\n",
    "def memo(fun) : \n",
    "    cache = defaultdict(int)\n",
    "    \n",
    "    def _wrap(arg) : \n",
    "        if not arg in cache : \n",
    "            cache[arg] = fun(arg)\n",
    "        return cache[arg]\n",
    "    \n",
    "    return _wrap\n",
    "    \n",
    "@call_times   \n",
    "@memo\n",
    "def r(n) : \n",
    "    return max([price[n]] + [r(n - i) + r(i) for i in range(1, n)])"
   ]
  },
  {
   "cell_type": "code",
   "execution_count": 148,
   "metadata": {},
   "outputs": [],
   "source": [
    "solution = {}\n",
    "\n",
    "@call_times   \n",
    "@memo\n",
    "def r(n) : \n",
    "    max_price, max_split = max([(price[n], 0)] + [(r(n - i) + r(i), i) for i in range(1, n)], key=lambda x: x[0])\n",
    "    solution[n] = (n - max_split, max_split)\n",
    "    return max_price"
   ]
  },
  {
   "cell_type": "code",
   "execution_count": 149,
   "metadata": {},
   "outputs": [
    {
     "data": {
      "text/plain": [
       "55"
      ]
     },
     "execution_count": 149,
     "metadata": {},
     "output_type": "execute_result"
    }
   ],
   "source": [
    "r(19)"
   ]
  },
  {
   "cell_type": "code",
   "execution_count": 110,
   "metadata": {},
   "outputs": [
    {
     "data": {
      "text/plain": [
       "{1: (1, 0),\n",
       " 2: (2, 0),\n",
       " 3: (3, 0),\n",
       " 4: (2, 2),\n",
       " 5: (3, 2),\n",
       " 6: (6, 0),\n",
       " 7: (6, 1),\n",
       " 8: (6, 2),\n",
       " 9: (6, 3),\n",
       " 10: (10, 0),\n",
       " 11: (11, 0),\n",
       " 12: (10, 2),\n",
       " 13: (10, 3),\n",
       " 14: (12, 2),\n",
       " 15: (13, 2)}"
      ]
     },
     "execution_count": 110,
     "metadata": {},
     "output_type": "execute_result"
    }
   ],
   "source": [
    "solution"
   ]
  },
  {
   "cell_type": "code",
   "execution_count": 125,
   "metadata": {},
   "outputs": [],
   "source": [
    "def parse_solution(n) : \n",
    "    left, right = solution[n]\n",
    "    \n",
    "    if right == 0 : return [left]\n",
    "    return parse_solution(left) + parse_solution(right)"
   ]
  },
  {
   "cell_type": "markdown",
   "metadata": {},
   "source": []
  },
  {
   "cell_type": "code",
   "execution_count": 151,
   "metadata": {},
   "outputs": [
    {
     "data": {
      "text/plain": [
       "[10, 6, 3]"
      ]
     },
     "execution_count": 151,
     "metadata": {},
     "output_type": "execute_result"
    }
   ],
   "source": [
    "parse_solution(19)"
   ]
  },
  {
   "cell_type": "code",
   "execution_count": 268,
   "metadata": {},
   "outputs": [],
   "source": [
    "solution = {}\n",
    "# @lru_cache(maxsize=2**10)\n",
    "def edit_distance(string1, string2):\n",
    "    # 递归结束条件     \n",
    "    if len(string1) == 0: return len(string2)\n",
    "    if len(string2) == 0: return len(string1)\n",
    "    \n",
    "    tail_s1 = string1[-1]\n",
    "    tail_s2 = string2[-1]\n",
    "    \n",
    "    # 候选操作？对目标结果做两种情况的推导，s1 去除一部分 或 s2去除一部分\n",
    "    # 对应推到操作，s1 删除元素 或 s1 添加元素\n",
    "    candidates = [\n",
    "        (edit_distance(string1[:-1], string2) + 1, 'DEL {}'.format(tail_s1)),  # string 1 delete tail\n",
    "        (edit_distance(string1, string2[:-1]) + 1, 'ADD {}'.format(tail_s2)),  # string 1 add tail of string2\n",
    "    ]\n",
    "    \n",
    "    # 一般性操作？尾部元素一致，则不进行任何操作，继续后续推到\n",
    "    if tail_s1 == tail_s2:\n",
    "        both_forward = (edit_distance(string1[:-1], string2[:-1]) + 0, '')\n",
    "    else:\n",
    "        both_forward = (edit_distance(string1[:-1], string2[:-1]) + 1, 'SUB {} => {}'.format(tail_s1, tail_s2))\n",
    "\n",
    "    candidates.append(both_forward)\n",
    "    \n",
    "    min_distance, operation = min(candidates, key=lambda x: x[0])\n",
    "    \n",
    "    solution[(string1, string2)] = operation \n",
    "    \n",
    "    return min_distance"
   ]
  },
  {
   "cell_type": "code",
   "execution_count": 262,
   "metadata": {},
   "outputs": [],
   "source": [
    "import re\n",
    "def parse_solution(s1, s2) : \n",
    "    ops = []\n",
    "    if len(s1) == 0 or len(s2) == 0 or step == 0 : return ops\n",
    "    ops = ops + parse_solution(s1[:-1], s2)\n",
    "    ops = ops + parse_solution(s1, s2[:-1])\n",
    "    can_try = [(k, v) for k, v in solution.items() if k[0] == s1]\n",
    "    \n",
    "    for (k, v) in can_try : \n",
    "        \n",
    "    "
   ]
  },
  {
   "cell_type": "code",
   "execution_count": 269,
   "metadata": {},
   "outputs": [
    {
     "data": {
      "text/plain": [
       "2"
      ]
     },
     "execution_count": 269,
     "metadata": {},
     "output_type": "execute_result"
    }
   ],
   "source": [
    "edit_distance('AB', 'ACD')"
   ]
  },
  {
   "cell_type": "code",
   "execution_count": 270,
   "metadata": {},
   "outputs": [
    {
     "data": {
      "text/plain": [
       "{('A', 'A'): '',\n",
       " ('A', 'AC'): 'ADD C',\n",
       " ('A', 'ACD'): 'ADD D',\n",
       " ('AB', 'A'): 'DEL B',\n",
       " ('AB', 'AC'): 'SUB B => C',\n",
       " ('AB', 'ACD'): 'ADD D'}"
      ]
     },
     "execution_count": 270,
     "metadata": {},
     "output_type": "execute_result"
    }
   ],
   "source": [
    "solution"
   ]
  },
  {
   "cell_type": "code",
   "execution_count": 266,
   "metadata": {},
   "outputs": [],
   "source": [
    "parse_solution('AB', 'ACD', step)"
   ]
  },
  {
   "cell_type": "code",
   "execution_count": null,
   "metadata": {},
   "outputs": [],
   "source": []
  }
 ],
 "metadata": {
  "kernelspec": {
   "display_name": "Python 3",
   "language": "python",
   "name": "python3"
  },
  "language_info": {
   "codemirror_mode": {
    "name": "ipython",
    "version": 3
   },
   "file_extension": ".py",
   "mimetype": "text/x-python",
   "name": "python",
   "nbconvert_exporter": "python",
   "pygments_lexer": "ipython3",
   "version": "3.7.1"
  }
 },
 "nbformat": 4,
 "nbformat_minor": 2
}
